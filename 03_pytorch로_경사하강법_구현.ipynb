{
  "cells": [
    {
      "cell_type": "markdown",
      "id": "ba7cb0ab",
      "metadata": {
        "id": "ba7cb0ab"
      },
      "source": [
        "## PyTorch로 경사하강법(Gradient Descent) 구현\n",
        "\n",
        "기본 개념은 함수의 기울기(경사)를 구하여 기울기가 낮은 쪽으로 계속 이동시켜서 극값에 이를 때까지 반복시키는 것입니다.\n",
        "\n",
        "**비용 함수 (Cost Function 혹은 Loss Function)를 최소화**하기 위해 반복해서 파라미터를 업데이트 해 나가는 방식입니다.\n",
        "\n",
        "경사하강법에 대한 상세한 설명은 아래 링크를 참고해 주시기 바랍니다.\n",
        "\n",
        "- [경사하강법 구현](https://teddylee777.github.io/scikit-learn/gradient-descent)\n",
        "- [경사하강법 기본 개념(YouTube)](https://www.youtube.com/watch?v=GEdLNvPIbiM)"
      ]
    },
    {
      "cell_type": "code",
      "execution_count": 1,
      "id": "75a6ae85",
      "metadata": {
        "id": "75a6ae85"
      },
      "outputs": [],
      "source": [
        "# 모듈 import \n",
        "from IPython.display import Image\n",
        "import matplotlib.pyplot as plt\n",
        "import numpy as np\n",
        "import torch"
      ]
    },
    {
      "cell_type": "markdown",
      "id": "b5b37d23",
      "metadata": {
        "id": "b5b37d23"
      },
      "source": [
        "## 샘플 데이터셋 생성\n",
        "\n",
        "- `y = 0.3x + 0.5`의 선형회귀 식을 추종하는 샘플 데이터셋을 생성합니다.\n",
        "- 경사하강법 알고리즘으로 `w=0.3`, `b=0.5`를 추종하는 결과를 도출하도록 하겠습니다."
      ]
    },
    {
      "cell_type": "code",
      "execution_count": 2,
      "id": "0a8305e5",
      "metadata": {
        "id": "0a8305e5",
        "outputId": "b92c161a-19d8-4b42-bcd8-3f186467bf65"
      },
      "outputs": [
        {
          "data": {
            "image/png": "[encoded data removed]",
            "text/plain": [
              "<Figure size 720x504 with 1 Axes>"
            ]
          },
          "metadata": {
            "needs_background": "light"
          },
          "output_type": "display_data"
        },
        {
          "name": "stdout",
          "output_type": "stream",
          "text": [
            "w: 0.3, b: 0.5\n"
          ]
        }
      ],
      "source": [
        "def make_linear(w=0.5, b=0.8, size=50, noise=1.0):\n",
        "    x = np.random.rand(size)\n",
        "    y = w * x + b\n",
        "    noise = np.random.uniform(-abs(noise), abs(noise), size=y.shape)\n",
        "    yy = y + noise\n",
        "    plt.figure(figsize=(10, 7))\n",
        "    plt.plot(x, y, color='r', label=f'y = {w}x + {b}', linestyle=':', alpha=0.3)\n",
        "    plt.scatter(x, yy, color='black', label='data', marker='.')\n",
        "    plt.legend(fontsize=15)\n",
        "    plt.show()\n",
        "    print(f'w: {w}, b: {b}')\n",
        "    return x, yy\n",
        "\n",
        "x, y = make_linear(w=0.3, b=0.5, size=100, noise=0.01)"
      ]
    },
    {
      "cell_type": "markdown",
      "id": "abebd360",
      "metadata": {
        "id": "abebd360"
      },
      "source": [
        "샘플 데이터셋인 `x`와 `y`를 `torch.as_tensor()`로 텐서(Tensor)로 변환합니다."
      ]
    },
    {
      "cell_type": "code",
      "execution_count": 3,
      "id": "ce3f622b",
      "metadata": {
        "id": "ce3f622b"
      },
      "outputs": [],
      "source": [
        "# 샘플 데이터셋을 텐서(tensor)로 변환\n",
        "x = torch.as_tensor(x)\n",
        "y = torch.as_tensor(y)"
      ]
    },
    {
      "cell_type": "markdown",
      "id": "c1fc185d",
      "metadata": {
        "id": "c1fc185d"
      },
      "source": [
        "랜덤한 `w`, `b`를 생성합니다. `torch.rand(1)`은 `torch.Size([1])`을 가지는 normal 분포의 랜덤 텐서를 생성합니다."
      ]
    },
    {
      "cell_type": "code",
      "execution_count": 4,
      "id": "d2d09648",
      "metadata": {
        "id": "d2d09648",
        "outputId": "bb698efb-2477-42df-e5f5-dcb81ceee34f"
      },
      "outputs": [
        {
          "name": "stdout",
          "output_type": "stream",
          "text": [
            "torch.Size([1]) torch.Size([1])\n"
          ]
        }
      ],
      "source": [
        "# random 한 값으로 w, b를 초기화 합니다.\n",
        "w = torch.rand(1)\n",
        "b = torch.rand(1)\n",
        "\n",
        "print(w.shape, b.shape)\n",
        "\n",
        "# requires_grad = True로 설정된 텐서에 대해서만 미분을 계산합니다.\n",
        "w.requires_grad = True\n",
        "b.requires_grad = True"
      ]
    },
    {
      "cell_type": "markdown",
      "id": "e4fba18f",
      "metadata": {
        "id": "e4fba18f"
      },
      "source": [
        "다음은 가설함수(Hypothesis Function), 여기서는 Affine Function을 정의합니다."
      ]
    },
    {
      "cell_type": "code",
      "execution_count": 5,
      "id": "7fc20906",
      "metadata": {
        "id": "7fc20906"
      },
      "outputs": [],
      "source": [
        "# Hypothesis Function 정의\n",
        "y_hat = w * x + b"
      ]
    },
    {
      "cell_type": "markdown",
      "id": "6f74b444",
      "metadata": {
        "id": "6f74b444"
      },
      "source": [
        "`y_hat`과 `y`의 손실(Loss)을 계산합니다. 여기서 손실함수는 **Mean Squared Error** 함수를 사용합니다.\n",
        "\n",
        "$\\Large Loss = \\sum_{i=1}^{N}(\\hat{y}_i-y_i)^2$"
      ]
    },
    {
      "cell_type": "code",
      "execution_count": 6,
      "id": "70dd835a",
      "metadata": {
        "id": "70dd835a"
      },
      "outputs": [],
      "source": [
        "# 손실함수 정의\n",
        "loss = ((y_hat - y)**2).mean()"
      ]
    },
    {
      "cell_type": "markdown",
      "id": "8d2bc852",
      "metadata": {
        "id": "8d2bc852"
      },
      "source": [
        "`loss.backward()` 호출시 미분 가능한 텐서(Tensor)에 대하여 미분을 계산합니다."
      ]
    },
    {
      "cell_type": "code",
      "execution_count": 7,
      "id": "3b637996",
      "metadata": {
        "id": "3b637996"
      },
      "outputs": [],
      "source": [
        "# 미분 계산 (Back Propagation)\n",
        "loss.backward()"
      ]
    },
    {
      "cell_type": "markdown",
      "id": "a5de9d23",
      "metadata": {
        "id": "a5de9d23"
      },
      "source": [
        "`w`와 `b`의 미분 값을 확인합니다."
      ]
    },
    {
      "cell_type": "code",
      "execution_count": 8,
      "id": "f631cb60",
      "metadata": {
        "id": "f631cb60",
        "outputId": "51e78d1f-7aa4-48aa-ee73-034a919f2313"
      },
      "outputs": [
        {
          "data": {
            "text/plain": [
              "(tensor([-0.2846]), tensor([-0.5748]))"
            ]
          },
          "execution_count": 8,
          "metadata": {},
          "output_type": "execute_result"
        }
      ],
      "source": [
        "# 계산된 미분 값 확인\n",
        "w.grad, b.grad"
      ]
    },
    {
      "cell_type": "markdown",
      "id": "c1fe216f",
      "metadata": {
        "id": "c1fe216f"
      },
      "source": [
        "## 경사하강법 구현\n",
        "\n",
        "- 최대 500번의 iteration(epoch) 동안 반복하여 w, b의 미분을 업데이트 하면서, 최소의 손실(loss)에 도달하는 `w`, `b`를 산출합니다.\n",
        "- `learning_rate`는 임의의 값으로 초기화 하였으며, `0.1`로 설정하였습니다."
      ]
    },
    {
      "cell_type": "markdown",
      "id": "9f9f8608",
      "metadata": {
        "id": "9f9f8608"
      },
      "source": [
        "하이퍼파라미터(hyper-parameter) 정의"
      ]
    },
    {
      "cell_type": "code",
      "execution_count": 9,
      "id": "5245a2f1",
      "metadata": {
        "id": "5245a2f1"
      },
      "outputs": [],
      "source": [
        "# 최대 반복 횟수 정의\n",
        "num_epoch = 500\n",
        "\n",
        "# 학습율 (learning_rate)\n",
        "learning_rate = 0.1"
      ]
    },
    {
      "cell_type": "code",
      "execution_count": 10,
      "id": "8f18cb40",
      "metadata": {
        "id": "8f18cb40",
        "outputId": "426440d9-c026-41d7-f7b7-8c23008f3dc2"
      },
      "outputs": [
        {
          "name": "stdout",
          "output_type": "stream",
          "text": [
            "000 w = 0.50460, b = 0.61259 loss = 0.08770\n",
            "005 w = 0.42805, b = 0.48328 loss = 0.00559\n",
            "010 w = 0.40575, b = 0.45556 loss = 0.00105\n",
            "015 w = 0.39632, b = 0.45135 loss = 0.00073\n",
            "020 w = 0.39013, b = 0.45249 loss = 0.00064\n",
            "025 w = 0.38491, b = 0.45475 loss = 0.00058\n",
            "030 w = 0.38013, b = 0.45717 loss = 0.00052\n",
            "035 w = 0.37565, b = 0.45952 loss = 0.00046\n",
            "040 w = 0.37142, b = 0.46175 loss = 0.00042\n",
            "045 w = 0.36743, b = 0.46386 loss = 0.00038\n",
            "050 w = 0.36366, b = 0.46585 loss = 0.00034\n",
            "055 w = 0.36011, b = 0.46774 loss = 0.00031\n",
            "060 w = 0.35675, b = 0.46951 loss = 0.00028\n",
            "065 w = 0.35358, b = 0.47119 loss = 0.00025\n",
            "070 w = 0.35058, b = 0.47278 loss = 0.00023\n",
            "075 w = 0.34775, b = 0.47428 loss = 0.00021\n",
            "080 w = 0.34508, b = 0.47569 loss = 0.00019\n",
            "085 w = 0.34255, b = 0.47703 loss = 0.00017\n",
            "090 w = 0.34017, b = 0.47829 loss = 0.00016\n",
            "095 w = 0.33792, b = 0.47949 loss = 0.00014\n",
            "100 w = 0.33579, b = 0.48061 loss = 0.00013\n",
            "105 w = 0.33379, b = 0.48167 loss = 0.00012\n",
            "110 w = 0.33189, b = 0.48268 loss = 0.00011\n",
            "115 w = 0.33010, b = 0.48363 loss = 0.00010\n",
            "120 w = 0.32841, b = 0.48452 loss = 0.00010\n",
            "125 w = 0.32681, b = 0.48537 loss = 0.00009\n",
            "130 w = 0.32531, b = 0.48617 loss = 0.00008\n",
            "135 w = 0.32388, b = 0.48692 loss = 0.00008\n",
            "140 w = 0.32254, b = 0.48763 loss = 0.00007\n",
            "145 w = 0.32127, b = 0.48830 loss = 0.00007\n",
            "150 w = 0.32007, b = 0.48894 loss = 0.00007\n",
            "155 w = 0.31893, b = 0.48954 loss = 0.00006\n",
            "160 w = 0.31786, b = 0.49011 loss = 0.00006\n",
            "165 w = 0.31685, b = 0.49064 loss = 0.00006\n",
            "170 w = 0.31590, b = 0.49115 loss = 0.00005\n",
            "175 w = 0.31500, b = 0.49162 loss = 0.00005\n",
            "180 w = 0.31415, b = 0.49207 loss = 0.00005\n",
            "------------------------------------------------------------\n",
            "182 w = 0.3, b = 0.5 loss = 0.00005\n"
          ]
        }
      ],
      "source": [
        "# loss, w, b 기록하기 위한 list 정의\n",
        "losses = []\n",
        "ws = []\n",
        "bs = []\n",
        "\n",
        "# random 한 값으로 w, b를 초기화 합니다.\n",
        "w = torch.rand(1)\n",
        "b = torch.rand(1)\n",
        "\n",
        "# 미분 값을 구하기 위하여 requires_grad는 True로 설정\n",
        "w.requires_grad = True\n",
        "b.requires_grad = True\n",
        "\n",
        "for epoch in range(num_epoch):\n",
        "    # Affine Function\n",
        "    y_hat = x * w + b\n",
        "\n",
        "    # 손실(loss) 계산\n",
        "    loss = ((y_hat - y)**2).mean()\n",
        "    \n",
        "    # 손실이 0.00005보다 작으면 break 합니다.\n",
        "    if loss < 0.00005:\n",
        "        break\n",
        "\n",
        "    # w, b의 미분 값인 grad 확인시 다음 미분 계산 값은 None이 return 됩니다.\n",
        "    # 이러한 현상을 방지하기 위하여 retain_grad()를 loss.backward() 이전에 호출해 줍니다.\n",
        "    w.retain_grad()\n",
        "    b.retain_grad()\n",
        "    \n",
        "    # 미분 계산\n",
        "    loss.backward()\n",
        "    \n",
        "    # 경사하강법 계산 및 적용\n",
        "    # w에 learning_rate * (그라디언트 w) 를 차감합니다.\n",
        "    w = w - learning_rate * w.grad\n",
        "    # b에 learning_rate * (그라디언트 b) 를 차감합니다.\n",
        "    b = b - learning_rate * b.grad\n",
        "    \n",
        "    # 계산된 loss, w, b를 저장합니다.\n",
        "    losses.append(loss.item())\n",
        "    ws.append(w.item())\n",
        "    bs.append(b.item())\n",
        "\n",
        "    if epoch % 5 == 0:\n",
        "        print(\"{0:03d} w = {1:.5f}, b = {2:.5f} loss = {3:.5f}\".format(epoch, w.item(), b.item(), loss.item()))\n",
        "    \n",
        "print(\"----\" * 15)\n",
        "print(\"{0:03d} w = {1:.1f}, b = {2:.1f} loss = {3:.5f}\".format(epoch, w.item(), b.item(), loss.item()))"
      ]
    },
    {
      "cell_type": "markdown",
      "id": "6a49ebb7",
      "metadata": {
        "id": "6a49ebb7"
      },
      "source": [
        "## 결과 시각화\n",
        "\n",
        "- `loss`는 epoch이 늘어남에 따라 감소합니다.\n",
        "-  epoch 초기에는 급격히 감소하다가, 점차 완만하게 감소함을 확인할 수 있는데, 이는 초기에는 큰 미분 값이 업데이트 되지만, 점차 계산된 미분 값이 작아지게되고 결국 업데이트가 작게 일어나면서 손실은 완만하게 감소하였습니다.\n",
        "- `w`, `b`도 초기값은 `0.3`, `0.5`와 다소 먼 값이 설정되었지만, 점차 정답을 찾아가게 됩니다."
      ]
    },
    {
      "cell_type": "code",
      "execution_count": 11,
      "id": "8cd058f0",
      "metadata": {
        "id": "8cd058f0",
        "outputId": "030c709c-fda5-48d3-bd00-4cef3021b0d3"
      },
      "outputs": [
        {
          "data": {
            "image/png": "[encoded data removed]",
            "text/plain": [
              "<Figure size 1008x432 with 1 Axes>"
            ]
          },
          "metadata": {
            "needs_background": "light"
          },
          "output_type": "display_data"
        },
        {
          "data": {
            "image/png": "[encoded data removed]",
            "text/plain": [
              "<Figure size 1008x432 with 2 Axes>"
            ]
          },
          "metadata": {
            "needs_background": "light"
          },
          "output_type": "display_data"
        }
      ],
      "source": [
        "# 전체 loss 에 대한 변화량 시각화\n",
        "plt.figure(figsize=(14, 6))\n",
        "plt.plot(losses, c='darkviolet', linestyle=':')\n",
        "\n",
        "plt.title('Losses over epoches', fontsize=15)\n",
        "plt.xlabel('Epochs')\n",
        "plt.ylabel('Error')\n",
        "plt.show()\n",
        "\n",
        "# w, b에 대한 변화량 시각화\n",
        "fig, axes = plt.subplots(1, 2)\n",
        "fig.set_size_inches(14, 6)\n",
        "\n",
        "axes[0].plot(ws, c='tomato', linestyle=':', label='chages')\n",
        "axes[0].hlines(y=0.3, xmin=0, xmax=len(ws), color='r', label='true')\n",
        "axes[0].set_ylim(0, 0.7)\n",
        "axes[0].set_title('\"w\" changes over epoches', fontsize=15)\n",
        "axes[0].set_xlabel('Epochs')\n",
        "axes[0].set_ylabel('Error')\n",
        "axes[0].legend()\n",
        "\n",
        "axes[1].plot(bs, c='dodgerblue', linestyle=':', label='chages')\n",
        "axes[1].hlines(y=0.5, xmin=0, xmax=len(ws), color='dodgerblue', label='true')\n",
        "axes[1].set_ylim(0.2, 0.9)\n",
        "axes[1].set_title('\"b\" changes over epoches', fontsize=15)\n",
        "axes[1].set_xlabel('Epochs')\n",
        "axes[1].set_ylabel('Error')\n",
        "axes[1].legend()\n",
        "\n",
        "plt.show()"
      ]
    }
  ],
  "metadata": {
    "colab": {
      "provenance": []
    },
    "kernelspec": {
      "display_name": "Python 3.9.12 ('base')",
      "language": "python",
      "name": "python3"
    },
    "language_info": {
      "codemirror_mode": {
        "name": "ipython",
        "version": 3
      },
      "file_extension": ".py",
      "mimetype": "text/x-python",
      "name": "python",
      "nbconvert_exporter": "python",
      "pygments_lexer": "ipython3",
      "version": "3.9.12"
    },
    "vscode": {
      "interpreter": {
        "hash": "8e7e9642bb2133bb3e9049961efa42b00dd232b34cd2782d376eb5751d417706"
      }
    }
  },
  "nbformat": 4,
  "nbformat_minor": 5
}
