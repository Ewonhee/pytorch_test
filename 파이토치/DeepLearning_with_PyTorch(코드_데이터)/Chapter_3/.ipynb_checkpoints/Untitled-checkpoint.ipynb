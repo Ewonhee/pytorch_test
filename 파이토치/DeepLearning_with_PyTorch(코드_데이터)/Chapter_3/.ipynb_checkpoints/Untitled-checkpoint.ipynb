{
 "cells": [
  {
   "cell_type": "markdown",
   "id": "cb484dbf",
   "metadata": {},
   "source": [
    "파이썬이용 회귀계수 직접 구현 "
   ]
  },
  {
   "cell_type": "code",
   "execution_count": null,
   "id": "cde32182",
   "metadata": {},
   "outputs": [],
   "source": [
    "import pandas as pd\n",
    "import matplotlib.pyplot as plt\n",
    "\n",
    "df = pd.read_csv('native_plant_richness.txt', sep='\\t')\n",
    "print(df.info())\n",
    "print(df.head())"
   ]
  },
  {
   "cell_type": "code",
   "execution_count": null,
   "id": "b44e6347",
   "metadata": {},
   "outputs": [],
   "source": [
    "x=df['area']\n",
    "y=df['ntv_rich']\n",
    "#x=df.area\n",
    "#y=df.ntv_rich\n",
    "\n",
    "print(df.ntv_rich.head())\n",
    "print(df['ntv_rich'].head())"
   ]
  },
  {
   "cell_type": "code",
   "execution_count": null,
   "id": "8db00635",
   "metadata": {},
   "outputs": [],
   "source": [
    "xbar=x.mean()\n",
    "ybar=y.mean()\n",
    "s_xy=((x-xbar)*(y-ybar)).sum()\n",
    "s_xx=((x-xbar)**2).sum()\n",
    "a=s_xy/s_xx\n",
    "b=ybar-a*xbar\n",
    "print('a =', round(a,4))\n",
    "print('b =', round(b,4))"
   ]
  },
  {
   "cell_type": "code",
   "execution_count": null,
   "id": "077ccde7",
   "metadata": {},
   "outputs": [],
   "source": [
    "x_0=2\n",
    "predicted = a*x_0+b\n",
    "print('prediction =', round(predicted,4))"
   ]
  },
  {
   "cell_type": "code",
   "execution_count": null,
   "id": "82b9d427",
   "metadata": {},
   "outputs": [],
   "source": [
    "plt.title('area vs ntv_rich')\n",
    "plt.scatter(df['area'],df['ntv_rich'])\n",
    "plt.xlabel('area')\n",
    "plt.ylabel('ntv_rich')\n",
    "plt.show()"
   ]
  },
  {
   "cell_type": "code",
   "execution_count": null,
   "id": "8be7debb",
   "metadata": {},
   "outputs": [],
   "source": [
    "plt.title('area vs ntv_rich')\n",
    "plt.scatter(df['area'],df['ntv_rich'])\n",
    "plt.plot(df['area'], a*df['area']+b, color='red')\n",
    "plt.xlabel('area')\n",
    "plt.ylabel('ntv_rich')\n",
    "plt.show()"
   ]
  },
  {
   "cell_type": "markdown",
   "id": "5b1ad313",
   "metadata": {},
   "source": [
    "statsmodels 모듈 사용 구현"
   ]
  },
  {
   "cell_type": "code",
   "execution_count": null,
   "id": "38d91237",
   "metadata": {},
   "outputs": [],
   "source": [
    "import pandas as pd\n",
    "import matplotlib.pyplot as plt\n",
    "\n",
    "df = pd.read_csv('native_plant_richness.txt', sep='\\t')\n",
    "print(df.info())"
   ]
  },
  {
   "cell_type": "code",
   "execution_count": null,
   "id": "43b3d178",
   "metadata": {},
   "outputs": [],
   "source": [
    "from statsmodels.formula.api import ols\n",
    "model = ols('ntv_rich ~ area', data=df)"
   ]
  },
  {
   "cell_type": "code",
   "execution_count": null,
   "id": "eeac1c96",
   "metadata": {},
   "outputs": [],
   "source": [
    "result=model.fit()\n",
    "print(result.summary())"
   ]
  },
  {
   "cell_type": "code",
   "execution_count": null,
   "id": "58f34c84",
   "metadata": {},
   "outputs": [],
   "source": [
    "result.params"
   ]
  },
  {
   "cell_type": "code",
   "execution_count": null,
   "id": "dbb1970d",
   "metadata": {},
   "outputs": [],
   "source": [
    "plt.title('area vs ntv_rich')\n",
    "y = df.ntv_rich # 종속변수\n",
    "x = df.area   #독립변수\n",
    "plt.scatter(x, y, alpha=0.5)\n",
    "plt.plot(x, result.params[1]*df['area']+result.params[0], color='red')\n",
    "plt.xlabel('area')\n",
    "plt.ylabel('ntv_rich')\n",
    "\n",
    "plt.show()"
   ]
  },
  {
   "cell_type": "markdown",
   "id": "d41a919b",
   "metadata": {},
   "source": [
    "파이토치 이용 회귀계수 직접 구현"
   ]
  },
  {
   "cell_type": "code",
   "execution_count": null,
   "id": "30547647",
   "metadata": {},
   "outputs": [],
   "source": [
    "import pandas as pd\n",
    "import torch\n",
    "#device = torch.device(\"cuda\" if torch.cuda.is_available() else \"cpu\")\n",
    "device = torch.device('cpu')\n",
    "df = pd.read_csv('native_plant_richness.txt', sep='\\t')\n",
    "\n",
    "x = torch.tensor(df['area']).to(device)\n",
    "y = torch.tensor(df['ntv_rich']).to(device)"
   ]
  },
  {
   "cell_type": "code",
   "execution_count": null,
   "id": "d74efc05",
   "metadata": {},
   "outputs": [],
   "source": [
    "#x=x.numpy()\n",
    "#y=y.numpy()\n",
    "xbar=x.mean()\n",
    "ybar=y.mean()\n",
    "s_xy=((x-xbar)*(y-ybar)).sum()\n",
    "s_xx=((x-xbar)**2).sum()\n",
    "a=s_xy/s_xx\n",
    "b=ybar-a*xbar\n",
    "print('slope=', a)\n",
    "print('intercept=', b)"
   ]
  },
  {
   "cell_type": "code",
   "execution_count": null,
   "id": "2d30fbdd",
   "metadata": {},
   "outputs": [],
   "source": [
    "import matplotlib.pyplot as plt\n",
    "plt.title('area vs ntv_rich')\n",
    "plt.plot(x.cpu().numpy(), y.cpu().numpy(),'o') # The 'o' means that data points will be marked with an x\n",
    "plt.plot(x.cpu().numpy(), a.cpu().numpy()*x.cpu().numpy()+b.cpu().numpy())\n",
    "plt.xlabel('area')\n",
    "plt.ylabel('ntv_rich')\n",
    "plt.show()"
   ]
  },
  {
   "cell_type": "code",
   "execution_count": null,
   "id": "1c8dda78",
   "metadata": {},
   "outputs": [],
   "source": [
    "import matplotlib.pyplot as plt\n",
    "\n",
    "plt.title('area vs ntv_rich')\n",
    "plt.plot(x.numpy(), y.numpy(),'o') # The 'o' means that data points will be marked with an x\n",
    "plt.plot(x.numpy(), a.numpy()*x.numpy()+b.numpy())\n",
    "plt.xlabel('area')\n",
    "plt.ylabel('ntv_rich')\n",
    "plt.show()"
   ]
  },
  {
   "cell_type": "markdown",
   "id": "5850fc3b",
   "metadata": {},
   "source": [
    "머신러닝 기반 회귀분석"
   ]
  },
  {
   "cell_type": "code",
   "execution_count": null,
   "id": "72ae523f",
   "metadata": {},
   "outputs": [],
   "source": [
    "import torch\n",
    "w = torch.tensor(2.0, requires_grad=True)\n",
    "\n",
    "x = w+2\n",
    "y = x**2\n",
    "z = 3*y + 5\n",
    "print('w.grad_fn =', w.grad_fn)\n",
    "print('x =', x, ',', 'requires_grad =', x.requires_grad)\n",
    "print('y =', y, ',', 'requires_grad =', y.requires_grad)\n",
    "print('z =', z, ',', 'requires_grad =', z.requires_grad)\n",
    "z.backward()\n",
    "print(f'z를 w로 미분한 값 : {w.grad}')"
   ]
  },
  {
   "cell_type": "code",
   "execution_count": null,
   "id": "f8f507ef",
   "metadata": {},
   "outputs": [],
   "source": [
    "import torch\n",
    "w = torch.tensor(2.0, requires_grad=True)\n",
    "\n",
    "for i in range(10):\n",
    "    x = w+2\n",
    "    y = x**2\n",
    "    z = 3*y + 5\n",
    "#print('w.grad_fn =', w.grad_fn)\n",
    "#print('x =', x, ',', 'requires_grad =', x.requires_grad)\n",
    "#print('y =', y, ',', 'requires_grad =', y.requires_grad)\n",
    "#print('z =', z, ',', 'requires_grad =', z.requires_grad)\n",
    "    z.backward()\n",
    "print(f'z를 w로 미분한 값 : {w.grad}')"
   ]
  },
  {
   "cell_type": "code",
   "execution_count": null,
   "id": "39e79edb",
   "metadata": {},
   "outputs": [],
   "source": [
    "import torch\n",
    "w = torch.tensor(2.0, requires_grad=True)\n",
    "\n",
    "x = w+2\n",
    "y = x**2\n",
    "y=y.detach()\n",
    "z = 3*y + 5\n",
    "print('x =', x, ',', 'requires_grad =', x.requires_grad)\n",
    "print('y =', y, ',', 'requires_grad =', y.requires_grad)\n",
    "print('z =', z, ',', 'requires_grad =', z.requires_grad)\n",
    "z.backward()\n",
    "print(f'z를 w로 미분한 값 : {w.grad}')"
   ]
  },
  {
   "cell_type": "code",
   "execution_count": null,
   "id": "801f7412",
   "metadata": {},
   "outputs": [],
   "source": [
    "a = torch.tensor(2., requires_grad=True)\n",
    "b = torch.tensor(3., requires_grad=True)\n",
    "x = a+b\n",
    "y = a*b\n",
    "print('Before detach()')    \n",
    "print('x =', x, ',', 'requires_grad =', x.requires_grad)\n",
    "print('x =', y, ',', 'requires_grad =', y.requires_grad)\n",
    "\n",
    "x = x.detach()  \n",
    "y = y.detach()  \n",
    "print('After detach()')    \n",
    "print('x =', x, ',', 'requires_grad =', x.grad_fn)\n",
    "print('x =', x, ',', 'requires_grad =', x.requires_grad)\n",
    "print('x =', y, ',', 'requires_grad =', y.requires_grad)"
   ]
  },
  {
   "cell_type": "code",
   "execution_count": null,
   "id": "e8e29418",
   "metadata": {},
   "outputs": [],
   "source": [
    "a = torch.tensor(2., requires_grad=True)\n",
    "b = torch.tensor(3., requires_grad=True)\n",
    "x = a+b\n",
    "y = a*b\n",
    "print('Before torch.no_grad():')    \n",
    "print('x =', x, ',', 'requires_grad =', x.requires_grad)\n",
    "print('x =', y, ',', 'requires_grad =', y.requires_grad)\n",
    "\n",
    "with torch.no_grad():\n",
    "    x = a+b  \n",
    "    y = a*b  \n",
    "print('After torch.no_grad():')    \n",
    "print('x =', x, ',', 'requires_grad =', x.requires_grad)\n",
    "print('x =', y, ',', 'requires_grad =', y.requires_grad)"
   ]
  },
  {
   "cell_type": "code",
   "execution_count": null,
   "id": "54d29cfb",
   "metadata": {},
   "outputs": [],
   "source": [
    "import torch\n",
    "w = torch.tensor(2.0, requires_grad=True)\n",
    "\n",
    "x = w+2\n",
    "with torch.no_grad():\n",
    "    y = x**2\n",
    "    z = 3*y + 5\n",
    "print('x =', x, ',', 'requires_grad =', x.requires_grad)\n",
    "print('y =', y, ',', 'requires_grad =', y.requires_grad)\n",
    "print('z =', z, ',', 'requires_grad =', z.requires_grad)\n",
    "z.backward()\n",
    "print(f'z를 w로 미분한 값 : {w.grad}')"
   ]
  },
  {
   "cell_type": "markdown",
   "id": "2ba6fd05",
   "metadata": {},
   "source": [
    "머신러닝 기반 회귀분석"
   ]
  },
  {
   "cell_type": "code",
   "execution_count": null,
   "id": "c0774625",
   "metadata": {},
   "outputs": [],
   "source": [
    "import torch\n",
    "x = torch.tensor(2.0, requires_grad=True)\n",
    "\n",
    "n_epochs = 10\n",
    "for epoch in range(n_epochs + 1):\n",
    "  \n",
    "  y = 2*x \n",
    "  y.backward() \n",
    "  print('dy/dx = {}'.format(x.grad)) "
   ]
  },
  {
   "cell_type": "code",
   "execution_count": null,
   "id": "afc33d46",
   "metadata": {},
   "outputs": [],
   "source": [
    "import torch\n",
    "x = torch.tensor(2.0, requires_grad=True)\n",
    "\n",
    "n_epochs = 10\n",
    "for epoch in range(n_epochs + 1):\n",
    "  \n",
    "  y = 2*x \n",
    "  y.backward() \n",
    "  print('dy/dx = {}'.format(x.grad)) \n",
    "#  x.grad.data.zero_() \n",
    "  x.grad.zero_() "
   ]
  },
  {
   "cell_type": "code",
   "execution_count": 1,
   "id": "eed01f4b",
   "metadata": {},
   "outputs": [
    {
     "name": "stdout",
     "output_type": "stream",
     "text": [
      "epoch = 0\n",
      "직접미분 a_grad = tensor(-18.6667, grad_fn=<MulBackward0>)\n",
      "직접미분 b_grad = tensor(-8., grad_fn=<MulBackward0>)\n",
      "자동미분 a.grad = tensor([-18.6667])\n",
      "자동미분 b.grad = tensor([-8.])\n",
      "epoch = 1\n",
      "직접미분 a_grad = tensor(1.9556, grad_fn=<MulBackward0>)\n",
      "직접미분 b_grad = tensor(1.0667, grad_fn=<MulBackward0>)\n",
      "자동미분 a.grad = tensor([-16.7111])\n",
      "자동미분 b.grad = tensor([-6.9333])\n",
      "epoch = 2\n",
      "직접미분 a_grad = tensor(20.3259, grad_fn=<MulBackward0>)\n",
      "직접미분 b_grad = tensor(9.1378, grad_fn=<MulBackward0>)\n",
      "자동미분 a.grad = tensor([3.6148])\n",
      "자동미분 b.grad = tensor([2.2044])\n"
     ]
    }
   ],
   "source": [
    "import torch\n",
    "\n",
    "x_train = torch.FloatTensor([[1], [2], [3]])\n",
    "y_train = torch.FloatTensor([[2], [4], [6]])\n",
    "\n",
    "# 모델 초기화\n",
    "a = torch.zeros(1, requires_grad=True)\n",
    "b = torch.zeros(1, requires_grad=True)\n",
    "\n",
    "\n",
    "lr = 1e-1\n",
    "n_epochs = 3\n",
    "for epoch in range(n_epochs):\n",
    "    yhat = a * x_train +b\n",
    "    error = y_train - yhat\n",
    "        \n",
    "    loss = (error ** 2).mean()\n",
    "    loss.backward()\n",
    "    # Computes gradients for both \"a\" and \"b\" parameters\n",
    "    a_grad = -2 * (x_train * error).mean()\n",
    "    b_grad = -2 * error.mean()\n",
    "    print('epoch =', epoch)\n",
    "    print('직접미분 a_grad =', a_grad)\n",
    "    print('직접미분 b_grad =', b_grad)\n",
    "    \n",
    "    with torch.no_grad():\n",
    "        a -= lr * a.grad\n",
    "        b -= lr * b.grad\n",
    "\n",
    "    print('자동미분 a.grad =', a.grad)\n",
    "    print('자동미분 b.grad =', b.grad)\n",
    "    \n",
    "#    a.grad.zero_()\n",
    "#    b.grad.zero_()\n",
    "#print(a, b)    "
   ]
  },
  {
   "cell_type": "code",
   "execution_count": 2,
   "id": "ff91a2ef",
   "metadata": {},
   "outputs": [
    {
     "name": "stdout",
     "output_type": "stream",
     "text": [
      "epoch = 0\n",
      "직접미분 a_grad = tensor(-18.6667, grad_fn=<MulBackward0>)\n",
      "직접미분 b_grad = tensor(-8., grad_fn=<MulBackward0>)\n",
      "자동미분 a.grad = tensor([-18.6667])\n",
      "자동미분 b.grad = tensor([-8.])\n",
      "epoch = 1\n",
      "직접미분 a_grad = tensor(1.9556, grad_fn=<MulBackward0>)\n",
      "직접미분 b_grad = tensor(1.0667, grad_fn=<MulBackward0>)\n",
      "자동미분 a.grad = tensor([1.9556])\n",
      "자동미분 b.grad = tensor([1.0667])\n",
      "epoch = 2\n",
      "직접미분 a_grad = tensor(-0.2963, grad_fn=<MulBackward0>)\n",
      "직접미분 b_grad = tensor(0.0711, grad_fn=<MulBackward0>)\n",
      "자동미분 a.grad = tensor([-0.2963])\n",
      "자동미분 b.grad = tensor([0.0711])\n"
     ]
    }
   ],
   "source": [
    "import torch\n",
    "\n",
    "x_train = torch.FloatTensor([[1], [2], [3]])\n",
    "y_train = torch.FloatTensor([[2], [4], [6]])\n",
    "\n",
    "# 모델 초기화\n",
    "a = torch.zeros(1, requires_grad=True)\n",
    "b = torch.zeros(1, requires_grad=True)\n",
    "\n",
    "\n",
    "lr = 1e-1\n",
    "n_epochs = 3\n",
    "for epoch in range(n_epochs):\n",
    "    yhat = a * x_train +b\n",
    "    error = y_train - yhat\n",
    "        \n",
    "    loss = (error ** 2).mean()\n",
    "    loss.backward()\n",
    "    # Computes gradients for both \"a\" and \"b\" parameters\n",
    "    a_grad = -2 * (x_train * error).mean()\n",
    "    b_grad = -2 * error.mean()\n",
    "    print('epoch =', epoch)\n",
    "    print('직접미분 a_grad =', a_grad)\n",
    "    print('직접미분 b_grad =', b_grad)\n",
    "    \n",
    "    with torch.no_grad():\n",
    "        a -= lr * a.grad\n",
    "        b -= lr * b.grad\n",
    "\n",
    "    print('자동미분 a.grad =', a.grad)\n",
    "    print('자동미분 b.grad =', b.grad)\n",
    "    \n",
    "    a.grad.zero_()\n",
    "    b.grad.zero_()\n",
    "#print(a, b)    "
   ]
  },
  {
   "cell_type": "code",
   "execution_count": 26,
   "id": "90c245c1",
   "metadata": {},
   "outputs": [],
   "source": [
    "import torch\n",
    "\n",
    "x_train = torch.FloatTensor([[1], [2], [3]])\n",
    "y_train = torch.FloatTensor([[2], [4], [6]])\n",
    "\n",
    "# 모델 초기화\n",
    "a = torch.zeros(1, requires_grad=True)\n",
    "b = torch.zeros(1, requires_grad=True)\n",
    "\n",
    "\n",
    "lr = 1e-1\n",
    "n_epochs = 3\n",
    "for epoch in range(n_epochs):\n",
    "    yhat = a * x_train +b\n",
    "    error = y_train - yhat\n",
    "        \n",
    "    loss = (error ** 2).mean()\n",
    "    loss.backward()   \n",
    "    \n",
    "    with torch.no_grad():\n",
    "        a -= lr * a.grad\n",
    "        b -= lr * b.grad   \n",
    "    \n",
    "    a.grad.zero_()\n",
    "    b.grad.zero_()\n",
    "#print(a, b)    "
   ]
  },
  {
   "cell_type": "code",
   "execution_count": 25,
   "id": "4b37cf9d",
   "metadata": {},
   "outputs": [
    {
     "name": "stdout",
     "output_type": "stream",
     "text": [
      "epoch =   0/100, a= 0.800, b= 1.867, Loss: 18.66667\n",
      "epoch =  10/100, a= 0.564, b= 1.752, Loss: 0.04792\n",
      "epoch =  20/100, a= 0.442, b= 1.805, Loss: 0.02945\n",
      "epoch =  30/100, a= 0.347, b= 1.847, Loss: 0.01810\n",
      "epoch =  40/100, a= 0.272, b= 1.880, Loss: 0.01113\n",
      "epoch =  50/100, a= 0.213, b= 1.906, Loss: 0.00684\n",
      "epoch =  60/100, a= 0.167, b= 1.927, Loss: 0.00420\n",
      "epoch =  70/100, a= 0.131, b= 1.942, Loss: 0.00258\n",
      "epoch =  80/100, a= 0.103, b= 1.955, Loss: 0.00159\n",
      "epoch =  90/100, a= 0.081, b= 1.965, Loss: 0.00098\n"
     ]
    }
   ],
   "source": [
    "import torch.optim as optim\n",
    "\n",
    "x_tensor = torch.FloatTensor([[1], [2], [3]])\n",
    "y_tensor = torch.FloatTensor([[2], [4], [6]])\n",
    "\n",
    "a = torch.zeros(1, requires_grad=True)\n",
    "b = torch.zeros(1, requires_grad=True)\n",
    "\n",
    "lr= 0.1\n",
    "optimizer = optim.SGD([a, b], lr=lr)\n",
    "\n",
    "n_epochs = 100\n",
    "for epoch in range(n_epochs):\n",
    "    yhat = a + b * x_tensor\n",
    "    error = y_tensor - yhat\n",
    "    loss = (error ** 2).mean()\n",
    "    loss.backward()\n",
    "    \n",
    "    with torch.no_grad():\n",
    "        a -= lr * a.grad\n",
    "        b -= lr * b.grad\n",
    "\n",
    "    optimizer.zero_grad()\n",
    "    optimizer.step()\n",
    "    \n",
    "    # 10번마다 로그 출력\n",
    "    if epoch % 10 == 0:\n",
    "        print('epoch = {:3d}/{}, a= {:.3f}, b= {:.3f}, Loss: {:.5f}'.format(\n",
    "            epoch, n_epochs, a.item(), b.item(), loss.item()\n",
    "        ))  "
   ]
  },
  {
   "cell_type": "code",
   "execution_count": null,
   "id": "fd7f8c85",
   "metadata": {},
   "outputs": [],
   "source": [
    "import torch.optim as optim\n",
    "\n",
    "x_tensor = torch.FloatTensor([[1], [2], [3]])\n",
    "y_tensor = torch.FloatTensor([[2], [4], [6]])\n",
    "\n",
    "# 모델 초기화\n",
    "a = torch.zeros(1, requires_grad=True)\n",
    "b = torch.zeros(1, requires_grad=True)\n",
    "lr= 0.1\n",
    "optimizer = optim.SGD([a, b], lr=lr)\n",
    "\n",
    "n_epochs=10\n",
    "for epoch in range(n_epochs):\n",
    "    yhat = a + b * x_tensor\n",
    "    error = y_tensor - yhat\n",
    "    loss_fn = (error ** 2).mean()\n",
    "\n",
    "    loss_fn.backward()\n",
    "    print('수식을 b로 미분한 값 : {}'.format(b.grad)) \n",
    "    optimizer.step()\n",
    "    optimizer.zero_grad()\n",
    "\n",
    "print(a, b)"
   ]
  },
  {
   "cell_type": "code",
   "execution_count": null,
   "id": "949ac0c9",
   "metadata": {},
   "outputs": [],
   "source": [
    "import torch.optim as optim\n",
    "\n",
    "x_tensor = torch.FloatTensor([[1], [2], [3]])\n",
    "y_tensor = torch.FloatTensor([[2], [4], [6]])\n",
    "\n",
    "# 모델 초기화\n",
    "a = torch.zeros(1, requires_grad=True)\n",
    "b = torch.zeros(1, requires_grad=True)\n",
    "lr= 0.1\n",
    "optimizer = optim.SGD([a, b], lr=lr)\n",
    "\n",
    "n_epochs=10\n",
    "for epoch in range(n_epochs):\n",
    "    yhat = a + b * x_tensor\n",
    "    error = y_tensor - yhat\n",
    "    loss_fn = (error ** 2).mean()\n",
    "\n",
    "    loss_fn.backward()\n",
    "    print('수식을 b로 미분한 값 : {}'.format(b.grad)) \n",
    "    optimizer.step()\n",
    "#    optimizer.zero_grad()\n",
    "\n",
    "print(a, b)"
   ]
  },
  {
   "cell_type": "code",
   "execution_count": null,
   "id": "6f1313da",
   "metadata": {},
   "outputs": [],
   "source": [
    "import torch\n",
    "#import torch.nn as nn\n",
    "#import torch.nn.functional as F\n",
    "import torch.optim as optim\n",
    "\n",
    "# 데이터\n",
    "x_train = torch.FloatTensor([[1], [2], [3]])\n",
    "y_train = torch.FloatTensor([[2], [4], [6]])\n",
    "# 모델 초기화\n",
    "W = torch.zeros(1, requires_grad=True)\n",
    "b = torch.zeros(1, requires_grad=True)\n",
    "# optimizer 설정\n",
    "optimizer = optim.SGD([W, b], lr=0.01)\n",
    "\n",
    "num_epochs = 100 # 원하는만큼 경사 하강법을 반복\n",
    "for epoch in range(num_epochs + 1):\n",
    "\n",
    "    # H(x) 계산\n",
    "    hypothesis = x_train * W + b\n",
    "\n",
    "    # cost 계산\n",
    "    loss_fn = torch.mean((hypothesis - y_train) ** 2)\n",
    "\n",
    "    # cost로 H(x) 개선\n",
    "    optimizer.zero_grad()\n",
    "    loss_fn.backward()\n",
    "    optimizer.step()\n",
    "\n",
    "    # 100번마다 로그 출력\n",
    "    if epoch % 10 == 0:\n",
    "        print('Epoch {:4d}/{} W: {:.3f}, b: {:.3f} Cost: {:.6f}'.format(\n",
    "            epoch, nb_epochs, W.item(), b.item(), cost.item()\n",
    "        ))"
   ]
  },
  {
   "cell_type": "code",
   "execution_count": null,
   "id": "62dc8227",
   "metadata": {},
   "outputs": [],
   "source": [
    "import numpy as np\n",
    "import torch\n",
    "\n",
    "x_train = torch.FloatTensor([[1], [2], [3]])\n",
    "y_train = torch.FloatTensor([[2], [4], [6]])\n",
    "\n",
    "# 모델 초기화\n",
    "a = torch.zeros(1, requires_grad=True)\n",
    "b = torch.zeros(1, requires_grad=True)\n",
    "\n",
    "\n",
    "np.random.seed(42)\n",
    "#a = np.random.randn(1)\n",
    "#b = np.random.randn(1)\n",
    "\n",
    "print(a, b)\n",
    "\n",
    "# Sets learning rate\n",
    "lr = 1e-1\n",
    "# Defines number of epochs\n",
    "n_epochs = 3\n",
    "\n",
    "for epoch in range(n_epochs):\n",
    "    # Computes our model's predicted output\n",
    "    yhat = a + b * x_train\n",
    "\n",
    "    # How wrong is our model? That's the error! \n",
    "    error = (y_train - yhat)\n",
    "    # It is a regression, so it computes mean squared error (MSE)\n",
    "    loss = (error ** 2).mean()\n",
    "\n",
    "    # Computes gradients for both \"a\" and \"b\" parameters\n",
    "    a_grad = -2 * error.mean()\n",
    "    b_grad = -2 * (x_train * error).mean()\n",
    "    print('a_grad =', a_grad)\n",
    "    print('b_grad =', b_grad)\n",
    "    # Updates parameters using gradients and the learning rate\n",
    "    a = a - lr * a_grad\n",
    "    b = b - lr * b_grad\n",
    "\n",
    "#print(a, b)\n",
    "\n",
    "# Sanity Check: do we get the same results as our gradient descent?\n",
    "from sklearn.linear_model import LinearRegression\n",
    "linr = LinearRegression()\n",
    "linr.fit(x_train, y_train)\n",
    "#print(linr.intercept_, linr.coef_[0])"
   ]
  },
  {
   "cell_type": "code",
   "execution_count": null,
   "id": "babd19a0",
   "metadata": {},
   "outputs": [],
   "source": [
    "x_train = torch.FloatTensor([[1], [2], [3]])\n",
    "y_train = torch.FloatTensor([[2], [4], [6]])\n",
    "\n",
    "# 모델 초기화\n",
    "a = torch.zeros(1, requires_grad=True)\n",
    "b = torch.zeros(1, requires_grad=True)\n",
    "\n",
    "\n",
    "lr = 1e-1\n",
    "n_epochs = 5\n",
    "for epoch in range(n_epochs):\n",
    "    yhat = a + b * x_train\n",
    "    error = y_train - yhat\n",
    "    loss = (error ** 2).mean()\n",
    "    loss.backward()\n",
    "    \n",
    "    with torch.no_grad():\n",
    "        a -= lr * a.grad\n",
    "        b -= lr * b.grad\n",
    "\n",
    "    print(a.grad)\n",
    "    print(b.grad)\n",
    "    #a.grad.zero_()\n",
    "    #b.grad.zero_()\n",
    "\n",
    "    #print(a, b)    "
   ]
  },
  {
   "cell_type": "markdown",
   "id": "20f94aa0",
   "metadata": {},
   "source": [
    "[코드 3.3.12]"
   ]
  },
  {
   "cell_type": "code",
   "execution_count": 1,
   "id": "af4b4b69",
   "metadata": {},
   "outputs": [],
   "source": [
    "import numpy as np\n",
    "x = [1,  2,   3,   4,   5]\n",
    "y = [0, 1.1, 1.8, 3.1, 4.5]\n",
    "X = np.array(x).reshape(-1,1)\n",
    "y = np.array(y)"
   ]
  },
  {
   "cell_type": "code",
   "execution_count": 2,
   "id": "6cabdfc9",
   "metadata": {},
   "outputs": [
    {
     "data": {
      "text/plain": [
       "LinearRegression()"
      ]
     },
     "execution_count": 2,
     "metadata": {},
     "output_type": "execute_result"
    }
   ],
   "source": [
    "from sklearn.linear_model import LinearRegression\n",
    "model = LinearRegression()\n",
    "model.fit(X, y)"
   ]
  },
  {
   "cell_type": "code",
   "execution_count": 3,
   "id": "201a75de",
   "metadata": {},
   "outputs": [
    {
     "name": "stdout",
     "output_type": "stream",
     "text": [
      "intercept: -1.2\n",
      "slope: [1.1]\n"
     ]
    }
   ],
   "source": [
    "# Print the Intercept:\n",
    "print('intercept:', round(model.intercept_,4))\n",
    "\n",
    "# Print the Slope:\n",
    "print('slope:', model.coef_)"
   ]
  },
  {
   "cell_type": "code",
   "execution_count": 4,
   "id": "00fe25b5",
   "metadata": {},
   "outputs": [
    {
     "name": "stdout",
     "output_type": "stream",
     "text": [
      "prediction: [-0.1  1.   2.1  3.2  4.3]\n"
     ]
    }
   ],
   "source": [
    "# Predict a Response and print it:\n",
    "y_pred = model.predict(X)\n",
    "print('prediction:', y_pred)"
   ]
  },
  {
   "cell_type": "code",
   "execution_count": 9,
   "id": "9c167972",
   "metadata": {},
   "outputs": [
    {
     "data": {
      "image/png": "[encoded data removed]",
      "text/plain": [
       "<Figure size 432x288 with 1 Axes>"
      ]
     },
     "metadata": {
      "needs_background": "light"
     },
     "output_type": "display_data"
    }
   ],
   "source": [
    "import matplotlib.pyplot as plt\n",
    "\n",
    "plt.title('Estimated regression line')\n",
    "plt.plot(x, y, 'o')\n",
    "plt.plot(x, y_pred)\n",
    "plt.xlabel('x')\n",
    "plt.ylabel('y')\n",
    "plt.show()"
   ]
  },
  {
   "cell_type": "markdown",
   "id": "815f37a1",
   "metadata": {},
   "source": [
    "[코드 3.3.13]"
   ]
  },
  {
   "cell_type": "code",
   "execution_count": 42,
   "id": "fca60d71",
   "metadata": {},
   "outputs": [
    {
     "name": "stdout",
     "output_type": "stream",
     "text": [
      "epoch= 100 a= [0.92531544] b= [-0.5693334] loss= 0.10488774\n",
      "epoch= 200 a= [0.9754991] b= [-0.7505125] loss= 0.06902457\n",
      "epoch= 300 a= [1.011266] b= [-0.87964195] loss= 0.050807316\n",
      "epoch= 400 a= [1.0367575] b= [-0.97167456] loss= 0.041553527\n",
      "epoch= 500 a= [1.0549259] b= [-1.037268] loss= 0.036852926\n",
      "epoch= 600 a= [1.0678748] b= [-1.084018] loss= 0.034465156\n",
      "epoch= 700 a= [1.0771037] b= [-1.1173373] loss= 0.033252165\n",
      "epoch= 800 a= [1.0836813] b= [-1.1410846] loss= 0.032636095\n",
      "epoch= 900 a= [1.0883693] b= [-1.1580095] loss= 0.032323133\n",
      "epoch= 1000 a= [1.0917106] b= [-1.1700724] loss= 0.032164138\n",
      "epoch= 1100 a= [1.0940919] b= [-1.1786698] loss= 0.03208339\n",
      "epoch= 1200 a= [1.0957892] b= [-1.1847979] loss= 0.03204238\n",
      "epoch= 1300 a= [1.0969989] b= [-1.1891651] loss= 0.03202155\n",
      "epoch= 1400 a= [1.0978609] b= [-1.1922774] loss= 0.03201094\n",
      "epoch= 1500 a= [1.0984755] b= [-1.1944959] loss= 0.032005597\n",
      "epoch= 1600 a= [1.0989132] b= [-1.1960765] loss= 0.032002866\n",
      "epoch= 1700 a= [1.0992252] b= [-1.1972033] loss= 0.032001432\n",
      "epoch= 1800 a= [1.0994477] b= [-1.1980062] loss= 0.03200073\n",
      "epoch= 1900 a= [1.0996063] b= [-1.1985787] loss= 0.032000344\n",
      "epoch= 2000 a= [1.0997192] b= [-1.1989865] loss= 0.032000214\n"
     ]
    }
   ],
   "source": [
    "import torch\n",
    "device = torch.device(\"cuda\" if torch.cuda.is_available() else \"cpu\")\n",
    "\n",
    "x = torch.tensor([1,  2,   3,   4,   5]).to(device)\n",
    "y = torch.tensor([0, 1.1, 1.8, 3.1, 4.5]).to(device)\n",
    "\n",
    "torch.manual_seed(1)\n",
    "a = torch.randn(1, device=device, requires_grad=True)\n",
    "b = torch.randn(1, device=device, requires_grad=True)\n",
    "\n",
    "def model(x):\n",
    "    return a * x + b\n",
    "\n",
    "learning_rate = 0.01\n",
    "optimizer = torch.optim.SGD([a,b],lr=learning_rate)\n",
    "\n",
    "epochs=2000\n",
    "for epoch in range(epochs):\n",
    "    yhat = model(x).to(device)\n",
    "        \n",
    "#    loss = (yhat - y).pow(2).sum()\n",
    "    loss = (yhat - y).pow(2).mean()\n",
    "    loss.backward()    \n",
    "    optimizer.step()\n",
    "    \n",
    "    optimizer.zero_grad()\n",
    "    \n",
    "    # Print the progress\n",
    "    if (epoch+1) % 100 == 0:\n",
    "        print('epoch=',epoch+1,'a=',a.detach().cpu().numpy(),'b=',b.detach().cpu().numpy(),'loss=',loss.detach().cpu().numpy())"
   ]
  },
  {
   "cell_type": "markdown",
   "id": "aca713c0",
   "metadata": {},
   "source": [
    "[코드 3.3.14]"
   ]
  },
  {
   "cell_type": "code",
   "execution_count": 43,
   "id": "01dddea8",
   "metadata": {},
   "outputs": [],
   "source": [
    "import torch\n",
    "device = torch.device(\"cuda\" if torch.cuda.is_available() else \"cpu\")\n",
    "\n",
    "x = torch.tensor([1,  2,   3,   4,   5]).to(device)\n",
    "y = torch.tensor([0, 1.1, 1.8, 3.1, 4.5]).to(device)\n",
    "\n",
    "torch.manual_seed(1)\n",
    "a = torch.randn(1, device=device, requires_grad=True)\n",
    "b = torch.randn(1, device=device, requires_grad=True)\n",
    "\n",
    "def model(x):\n",
    "    return a * x + b\n",
    "\n",
    "learning_rate = 0.01\n",
    "optimizer = torch.optim.SGD([a,b],lr=learning_rate)\n",
    "\n",
    "epochs=2000\n",
    "loss_list = []\n",
    "for epoch in range(epochs):\n",
    "    yhat = model(x).to(device)\n",
    "    loss = (yhat - y).pow(2).mean()\n",
    "    loss.backward()\n",
    "    loss_list.append(loss.item())\n",
    "    \n",
    "    optimizer.step()    \n",
    "    optimizer.zero_grad()    "
   ]
  },
  {
   "cell_type": "code",
   "execution_count": 44,
   "id": "f3a64195",
   "metadata": {},
   "outputs": [
    {
     "data": {
      "text/plain": [
       "[<matplotlib.lines.Line2D at 0x14495fc39d0>]"
      ]
     },
     "execution_count": 44,
     "metadata": {},
     "output_type": "execute_result"
    },
    {
     "data": {
      "image/png": "[encoded data removed]",
      "text/plain": [
       "<Figure size 432x288 with 1 Axes>"
      ]
     },
     "metadata": {
      "needs_background": "light"
     },
     "output_type": "display_data"
    }
   ],
   "source": [
    "import numpy as np\n",
    "import matplotlib.pyplot as plt\n",
    "plt.title('Loss function graph')\n",
    "\n",
    "plt.xlabel('Epoch') \n",
    "plt.ylabel('Loss') \n",
    "plt.plot(np.arange(0, epochs, 1),loss_list)"
   ]
  },
  {
   "cell_type": "markdown",
   "id": "db46c170",
   "metadata": {},
   "source": [
    "[코드 3.3.15]"
   ]
  },
  {
   "cell_type": "code",
   "execution_count": 23,
   "id": "ab320f5a",
   "metadata": {},
   "outputs": [
    {
     "name": "stdout",
     "output_type": "stream",
     "text": [
      "   ntv_rich      area\n",
      "0  1.897627  1.602060\n",
      "1  1.633468  0.477121\n",
      "2  2.597695  3.432488\n",
      "3  2.238046  1.785330\n",
      "4  2.712650  3.075547\n"
     ]
    }
   ],
   "source": [
    "import pandas as pd\n",
    "import numpy as np\n",
    "import matplotlib.pyplot as plt\n",
    "\n",
    "df = pd.read_csv('native_plant_richness.txt', sep='\\t')\n",
    "print(df.head())"
   ]
  },
  {
   "cell_type": "code",
   "execution_count": 24,
   "id": "9976a27d",
   "metadata": {},
   "outputs": [
    {
     "name": "stdout",
     "output_type": "stream",
     "text": [
      "(22,)\n",
      "(22,)\n",
      "(22, 1)\n"
     ]
    }
   ],
   "source": [
    "y=df['ntv_rich']\n",
    "x=df['area']\n",
    "print(y.shape)\n",
    "print(x.shape)\n",
    "X=x.values.reshape(-1,1)\n",
    "print(X.shape)"
   ]
  },
  {
   "cell_type": "code",
   "execution_count": 25,
   "id": "9ecde3a1",
   "metadata": {},
   "outputs": [
    {
     "data": {
      "text/plain": [
       "LinearRegression()"
      ]
     },
     "execution_count": 25,
     "metadata": {},
     "output_type": "execute_result"
    }
   ],
   "source": [
    "from sklearn.linear_model import LinearRegression\n",
    "regressor = LinearRegression()\n",
    "regressor.fit(X, y)"
   ]
  },
  {
   "cell_type": "code",
   "execution_count": 26,
   "id": "6e00fa37",
   "metadata": {},
   "outputs": [
    {
     "name": "stdout",
     "output_type": "stream",
     "text": [
      "Intercept:1.3360\n",
      "Coefficient:0.3557\n"
     ]
    }
   ],
   "source": [
    "#절편\n",
    "print('Intercept:{:.4f}'.format(regressor.intercept_))\n",
    "#기울기\n",
    "print('Coefficient:{:.4f}'.format(regressor.coef_[0]))"
   ]
  },
  {
   "cell_type": "code",
   "execution_count": 27,
   "id": "31b344ce",
   "metadata": {},
   "outputs": [
    {
     "name": "stdout",
     "output_type": "stream",
     "text": [
      "prediciton:2.0475\n"
     ]
    }
   ],
   "source": [
    "x_0 =2\n",
    "prediciton= regressor.predict([[x_0]])\n",
    "print('prediciton:{:.4f}'.format(prediciton[0]))"
   ]
  },
  {
   "cell_type": "code",
   "execution_count": 28,
   "id": "d93614a9",
   "metadata": {},
   "outputs": [
    {
     "data": {
      "image/png": "[encoded data removed]",
      "text/plain": [
       "<Figure size 432x288 with 1 Axes>"
      ]
     },
     "metadata": {
      "needs_background": "light"
     },
     "output_type": "display_data"
    }
   ],
   "source": [
    "import matplotlib.pyplot as plt\n",
    "\n",
    "plt.title('Estimated regression line')\n",
    "plt.plot(X, y, 'o')\n",
    "plt.plot(X, regressor.predict(X))\n",
    "plt.xlabel('area')\n",
    "plt.ylabel('ntv_rich')\n",
    "plt.show()"
   ]
  },
  {
   "cell_type": "markdown",
   "id": "a3505e79",
   "metadata": {},
   "source": [
    "[코드 3.3.16]"
   ]
  },
  {
   "cell_type": "code",
   "execution_count": 34,
   "id": "44c78a9b",
   "metadata": {},
   "outputs": [
    {
     "name": "stdout",
     "output_type": "stream",
     "text": [
      "epoch= 100 a= 0.47096312 b= 0.99962604 loss= 0.065506350937688\n",
      "epoch= 200 a= 0.43353823 b= 1.1088966 loss= 0.0519147393285402\n",
      "epoch= 300 a= 0.408269 b= 1.182676 loss= 0.045718412762104865\n",
      "epoch= 400 a= 0.39120725 b= 1.2324917 loss= 0.0428935558229392\n",
      "epoch= 500 a= 0.37968713 b= 1.2661272 loss= 0.041605722956125864\n",
      "epoch= 600 a= 0.37190875 b= 1.288838 loss= 0.041018608549832615\n",
      "epoch= 700 a= 0.36665684 b= 1.3041722 loss= 0.04075095261452178\n",
      "epoch= 800 a= 0.36311063 b= 1.3145261 loss= 0.04062892718942061\n",
      "epoch= 900 a= 0.36071637 b= 1.3215168 loss= 0.04057330089823332\n",
      "epoch= 1000 a= 0.35909975 b= 1.3262368 loss= 0.040547941236051425\n",
      "epoch= 1100 a= 0.3580083 b= 1.3294235 loss= 0.040536381230253514\n",
      "epoch= 1200 a= 0.35727137 b= 1.3315752 loss= 0.04053111108342024\n",
      "epoch= 1300 a= 0.35677376 b= 1.3330281 loss= 0.0405287081689833\n",
      "epoch= 1400 a= 0.3564377 b= 1.3340093 loss= 0.04052761248296974\n",
      "epoch= 1500 a= 0.35621083 b= 1.3346717 loss= 0.040527113109224425\n",
      "epoch= 1600 a= 0.3560577 b= 1.3351189 loss= 0.04052688558208506\n",
      "epoch= 1700 a= 0.3559544 b= 1.3354205 loss= 0.04052678191992167\n",
      "epoch= 1800 a= 0.3558847 b= 1.335624 loss= 0.040526734659199704\n",
      "epoch= 1900 a= 0.35583755 b= 1.3357617 loss= 0.04052671304980223\n",
      "epoch= 2000 a= 0.35580575 b= 1.3358543 loss= 0.0405267032250137\n"
     ]
    }
   ],
   "source": [
    "import pandas as pd\n",
    "device = torch.device(\"cuda\" if torch.cuda.is_available() else \"cpu\")\n",
    "\n",
    "df = pd.read_csv('native_plant_richness.txt', sep='\\t')\n",
    "\n",
    "x = torch.tensor(df['area']).to(device)\n",
    "y = torch.tensor(df['ntv_rich']).to(device)\n",
    "\n",
    "a = torch.tensor(1.,device=device, requires_grad=True)\n",
    "b = torch.tensor(1.,device=device, requires_grad=True)\n",
    "\n",
    "def model(x):\n",
    "    return a * x + b\n",
    "\n",
    "learning_rate = 0.01\n",
    "optimizer = torch.optim.SGD([a,b],lr=learning_rate)\n",
    "\n",
    "epochs=2000\n",
    "for epoch in range(epochs):\n",
    "    yhat = model(x).to(device)\n",
    "\n",
    "    loss = (yhat - y).pow(2).mean()\n",
    "    loss.backward()\n",
    "    \n",
    "    optimizer.step()    \n",
    "    optimizer.zero_grad()    \n",
    "    # Print the progress\n",
    "    if (epoch+1) % 100 == 0:\n",
    "        print('epoch=',epoch+1,'a=',a.detach().cpu().numpy(),'b=',b.detach().cpu().numpy(),'loss=',loss.detach().cpu().numpy())"
   ]
  },
  {
   "cell_type": "markdown",
   "id": "29c98660",
   "metadata": {},
   "source": [
    "[코드 3.3.17]"
   ]
  },
  {
   "cell_type": "code",
   "execution_count": 35,
   "id": "ca961b59",
   "metadata": {},
   "outputs": [],
   "source": [
    "import pandas as pd\n",
    "device = torch.device(\"cuda\" if torch.cuda.is_available() else \"cpu\")\n",
    "\n",
    "df = pd.read_csv('native_plant_richness.txt', sep='\\t')\n",
    "\n",
    "x = torch.tensor(df['area']).to(device)\n",
    "y = torch.tensor(df['ntv_rich']).to(device)\n",
    "\n",
    "a = torch.tensor(1.,device=device, requires_grad=True)\n",
    "b = torch.tensor(1.,device=device, requires_grad=True)\n",
    "\n",
    "def model(x):\n",
    "    return a * x + b\n",
    "\n",
    "learning_rate = 0.01\n",
    "optimizer = torch.optim.SGD([a,b],lr=learning_rate)\n",
    "\n",
    "epochs=2000\n",
    "loss_list = []\n",
    "\n",
    "for epoch in range(epochs):\n",
    "    yhat = model(x).to(device)\n",
    "\n",
    "    loss = (yhat - y).pow(2).mean()\n",
    "    loss.backward()\n",
    "    loss_list.append(loss.item())\n",
    "    \n",
    "    optimizer.step()    \n",
    "    optimizer.zero_grad()   "
   ]
  },
  {
   "cell_type": "code",
   "execution_count": 36,
   "id": "0536c20f",
   "metadata": {},
   "outputs": [
    {
     "data": {
      "text/plain": [
       "[<matplotlib.lines.Line2D at 0x144917905b0>]"
      ]
     },
     "execution_count": 36,
     "metadata": {},
     "output_type": "execute_result"
    },
    {
     "data": {
      "image/png": "[encoded data removed]",
      "text/plain": [
       "<Figure size 432x288 with 1 Axes>"
      ]
     },
     "metadata": {
      "needs_background": "light"
     },
     "output_type": "display_data"
    }
   ],
   "source": [
    "import numpy as np\n",
    "import matplotlib.pyplot as plt\n",
    "\n",
    "plt.title('Loss function graph')\n",
    "\n",
    "plt.xlabel('Epoch') \n",
    "plt.ylabel('Loss') \n",
    "plt.plot(np.arange(0, epochs, 1),loss_list)"
   ]
  },
  {
   "cell_type": "markdown",
   "id": "b5eb2fd0",
   "metadata": {},
   "source": [
    "[코드 3.4.1]"
   ]
  },
  {
   "cell_type": "code",
   "execution_count": 45,
   "id": "58ea3ab2",
   "metadata": {},
   "outputs": [
    {
     "data": {
      "text/plain": [
       "'D:\\\\DeepLearning_with_PyTorch\\\\Chapter_3'"
      ]
     },
     "execution_count": 45,
     "metadata": {},
     "output_type": "execute_result"
    }
   ],
   "source": [
    "import os\n",
    "os.getcwd()"
   ]
  },
  {
   "cell_type": "code",
   "execution_count": 46,
   "id": "e4610a93",
   "metadata": {},
   "outputs": [],
   "source": [
    "import pandas as pd\n",
    "df = pd.read_csv('student_scores.csv')"
   ]
  },
  {
   "cell_type": "code",
   "execution_count": 47,
   "id": "ee7c662e",
   "metadata": {},
   "outputs": [
    {
     "name": "stdout",
     "output_type": "stream",
     "text": [
      "(25, 2)\n"
     ]
    }
   ],
   "source": [
    "print(df.shape)"
   ]
  },
  {
   "cell_type": "code",
   "execution_count": 48,
   "id": "54df6b54",
   "metadata": {},
   "outputs": [
    {
     "name": "stdout",
     "output_type": "stream",
     "text": [
      "   Hours  Scores\n",
      "0    2.5      21\n",
      "1    5.1      47\n",
      "2    3.2      27\n",
      "3    8.5      75\n",
      "4    3.5      30\n"
     ]
    }
   ],
   "source": [
    "print(df.head())"
   ]
  },
  {
   "cell_type": "code",
   "execution_count": 49,
   "id": "4767afc1",
   "metadata": {},
   "outputs": [
    {
     "name": "stdout",
     "output_type": "stream",
     "text": [
      "<class 'pandas.core.frame.DataFrame'>\n",
      "<class 'pandas.core.series.Series'>\n"
     ]
    }
   ],
   "source": [
    "X = df.iloc[:, :-1]\n",
    "y = df.iloc[:, 1]\n",
    "print(type(X))\n",
    "print(type(y))"
   ]
  },
  {
   "cell_type": "code",
   "execution_count": 50,
   "id": "d5c69b0b",
   "metadata": {},
   "outputs": [
    {
     "name": "stdout",
     "output_type": "stream",
     "text": [
      "<class 'numpy.ndarray'>\n",
      "<class 'numpy.ndarray'>\n",
      "(25, 1)\n",
      "(25,)\n"
     ]
    }
   ],
   "source": [
    "X = df.iloc[:, :-1].to_numpy()\n",
    "y = df.iloc[:, 1].to_numpy()\n",
    "print(type(X))\n",
    "print(type(y))\n",
    "print(X.shape)\n",
    "print(y.shape)"
   ]
  },
  {
   "cell_type": "code",
   "execution_count": 51,
   "id": "a13ee7a0",
   "metadata": {},
   "outputs": [
    {
     "name": "stdout",
     "output_type": "stream",
     "text": [
      "(20, 1)\n",
      "(5, 1)\n",
      "(20,)\n",
      "(5,)\n"
     ]
    }
   ],
   "source": [
    "from sklearn.model_selection import train_test_split\n",
    "X_train, X_test, y_train, y_test = train_test_split(X, y, test_size=0.2, random_state=0)\n",
    "\n",
    "print(X_train.shape)\n",
    "print(X_test.shape)\n",
    "print(y_train.shape)\n",
    "print(y_test.shape)"
   ]
  },
  {
   "cell_type": "code",
   "execution_count": 52,
   "id": "f2349323",
   "metadata": {},
   "outputs": [
    {
     "data": {
      "text/plain": [
       "LinearRegression()"
      ]
     },
     "execution_count": 52,
     "metadata": {},
     "output_type": "execute_result"
    }
   ],
   "source": [
    "from sklearn.linear_model import LinearRegression\n",
    "model = LinearRegression()\n",
    "model.fit(X_train, y_train)"
   ]
  },
  {
   "cell_type": "code",
   "execution_count": 53,
   "id": "7dd4b103",
   "metadata": {},
   "outputs": [
    {
     "name": "stdout",
     "output_type": "stream",
     "text": [
      "Intercept:2.0182\n",
      "Coefficient:9.9107\n"
     ]
    }
   ],
   "source": [
    "#절편\n",
    "print('Intercept:{:.4f}'.format(model.intercept_))\n",
    "#기울기\n",
    "print('Coefficient:{:.4f}'.format(model.coef_[0]))"
   ]
  },
  {
   "cell_type": "code",
   "execution_count": 54,
   "id": "f287c1a6",
   "metadata": {},
   "outputs": [
    {
     "name": "stdout",
     "output_type": "stream",
     "text": [
      "[16.88414476 33.73226078 75.357018   26.79480124 60.49103328]\n"
     ]
    }
   ],
   "source": [
    "y_pred = model.predict(X_test)\n",
    "print(y_pred)"
   ]
  },
  {
   "cell_type": "code",
   "execution_count": 55,
   "id": "fe5699c1",
   "metadata": {},
   "outputs": [
    {
     "name": "stdout",
     "output_type": "stream",
     "text": [
      "   Actual  Predicted\n",
      "0      20  16.884145\n",
      "1      27  33.732261\n",
      "2      69  75.357018\n",
      "3      30  26.794801\n",
      "4      62  60.491033\n"
     ]
    }
   ],
   "source": [
    "df = pd.DataFrame({'Actual': y_test, 'Predicted': y_pred})\n",
    "print(df)"
   ]
  },
  {
   "cell_type": "code",
   "execution_count": 56,
   "id": "0efbd1c8",
   "metadata": {},
   "outputs": [
    {
     "name": "stdout",
     "output_type": "stream",
     "text": [
      "MAE:4.1839\n",
      "MSE:21.5988\n",
      "RMSE:4.6474\n",
      "R2:0.9455\n"
     ]
    }
   ],
   "source": [
    "from sklearn.metrics import mean_absolute_error, mean_squared_error\n",
    "from sklearn.metrics import r2_score\n",
    "\n",
    "print('MAE:{:.4f}'.format(mean_absolute_error(y_test, y_pred)))\n",
    "print('MSE:{:.4f}'.format(mean_squared_error(y_test, y_pred)))\n",
    "print('RMSE:{:.4f}'.format(np.sqrt(mean_squared_error(y_test, y_pred))))\n",
    "print('R2:{:.4f}'.format(r2_score(y_test, y_pred)))"
   ]
  },
  {
   "cell_type": "markdown",
   "id": "77047ed2",
   "metadata": {},
   "source": [
    "[코드 3.4.2]"
   ]
  },
  {
   "cell_type": "code",
   "execution_count": 59,
   "id": "1d3e832a",
   "metadata": {},
   "outputs": [
    {
     "name": "stdout",
     "output_type": "stream",
     "text": [
      "epoch= 100 a= 9.870372 b= 2.2753692 loss= 30.910423487383525\n",
      "epoch= 200 a= 9.88253 b= 2.1977417 loss= 30.904149595217337\n",
      "epoch= 300 a= 9.891019 b= 2.1435425 loss= 30.90109123097616\n",
      "epoch= 400 a= 9.896946 b= 2.105701 loss= 30.89960035343364\n",
      "epoch= 500 a= 9.901083 b= 2.0792816 loss= 30.89887362688935\n",
      "epoch= 600 a= 9.903973 b= 2.060835 loss= 30.898519346501235\n",
      "epoch= 700 a= 9.90599 b= 2.0479565 loss= 30.898346653734134\n",
      "epoch= 800 a= 9.907398 b= 2.038964 loss= 30.89826245992996\n",
      "epoch= 900 a= 9.908381 b= 2.032685 loss= 30.898221413934564\n",
      "epoch= 1000 a= 9.909068 b= 2.0283015 loss= 30.89820140758725\n"
     ]
    }
   ],
   "source": [
    "import torch \n",
    "import pandas as pd\n",
    "device = torch.device(\"cuda\" if torch.cuda.is_available() else \"cpu\")\n",
    "\n",
    "df = pd.read_csv('student_scores.csv')\n",
    "#print(df.head())\n",
    "#X = dataset.iloc[:, :-1].values\n",
    "#y = dataset.iloc[:, 1].values\n",
    "\n",
    "X = torch.tensor(df['Hours']).to(device)\n",
    "y = torch.tensor(df['Scores']).to(device)\n",
    "\n",
    "from sklearn.model_selection import train_test_split\n",
    "X_train, X_test, y_train, y_test = train_test_split(X, y, test_size=0.2, random_state=0)\n",
    "#print(len(X_train))\n",
    "#print(len(X_test))\n",
    "\n",
    "a = torch.tensor(1.,device=device, requires_grad=True)\n",
    "b = torch.tensor(1.,device=device, requires_grad=True)\n",
    "\n",
    "def model(x):\n",
    "    return a * x + b\n",
    "\n",
    "learning_rate = 0.01\n",
    "optimizer = torch.optim.SGD([a,b],lr=learning_rate)\n",
    "\n",
    "epochs=1000\n",
    "for epoch in range(epochs):\n",
    "    yhat = model(X_train).to(device)\n",
    "\n",
    "    loss = (yhat - y_train).pow(2).mean()\n",
    "    loss.backward()\n",
    "    \n",
    "    optimizer.step()    \n",
    "    optimizer.zero_grad()    \n",
    "    # Print the progress\n",
    "    if (epoch+1) % 100 == 0:\n",
    "        print('epoch=',epoch+1,'a=',a.detach().cpu().numpy(),'b=',b.detach().cpu().numpy(),'loss=',loss.detach().cpu().numpy())"
   ]
  },
  {
   "cell_type": "code",
   "execution_count": 76,
   "id": "bc77bef9",
   "metadata": {},
   "outputs": [
    {
     "name": "stdout",
     "output_type": "stream",
     "text": [
      "tensor([16.8919, 33.7373, 75.3554, 26.8010, 60.4918], device='cuda:0',\n",
      "       dtype=torch.float64, grad_fn=<AddBackward0>)\n",
      "[20, 27, 69, 30, 62]\n",
      "[16.89190363883972, 33.73731942176819, 75.35540547370911, 26.800971746444702, 60.49180331230164]\n"
     ]
    }
   ],
   "source": [
    "y_pred = model(X_test).to(device)\n",
    "print(y_pred)\n",
    "y_test = [y_test[x].item() for x in range(len(y_test))]\n",
    "print(y_test)\n",
    "y_pred = [y_pred[x].item() for x in range(len(y_pred))]\n",
    "print(y_pred)"
   ]
  },
  {
   "cell_type": "code",
   "execution_count": 77,
   "id": "164b1519",
   "metadata": {},
   "outputs": [
    {
     "name": "stdout",
     "output_type": "stream",
     "text": [
      "   Actual  Predicted\n",
      "0      20  16.891904\n",
      "1      27  33.737319\n",
      "2      69  75.355405\n",
      "3      30  26.800972\n",
      "4      62  60.491803\n"
     ]
    }
   ],
   "source": [
    "df = pd.DataFrame({'Actual': y_test, 'Predicted': y_pred})\n",
    "print(df)"
   ]
  },
  {
   "cell_type": "code",
   "execution_count": 78,
   "id": "6190f425",
   "metadata": {},
   "outputs": [
    {
     "name": "stdout",
     "output_type": "stream",
     "text": [
      "MAE:4.1816\n",
      "MSE:21.5903\n",
      "RMSE:4.6465\n",
      "R2:0.9455\n"
     ]
    }
   ],
   "source": [
    "from sklearn.metrics import mean_absolute_error, mean_squared_error\n",
    "from sklearn.metrics import r2_score\n",
    "\n",
    "print('MAE:{:.4f}'.format(mean_absolute_error(y_test, y_pred)))\n",
    "print('MSE:{:.4f}'.format(mean_squared_error(y_test, y_pred)))\n",
    "print('RMSE:{:.4f}'.format(np.sqrt(mean_squared_error(y_test, y_pred))))\n",
    "print('R2:{:.4f}'.format(r2_score(y_test, y_pred)))"
   ]
  },
  {
   "cell_type": "code",
   "execution_count": 79,
   "id": "86631ef4",
   "metadata": {},
   "outputs": [
    {
     "data": {
      "text/plain": [
       "<AxesSubplot:>"
      ]
     },
     "execution_count": 79,
     "metadata": {},
     "output_type": "execute_result"
    },
    {
     "data": {
      "image/png": "[encoded data removed]",
      "text/plain": [
       "<Figure size 432x288 with 1 Axes>"
      ]
     },
     "metadata": {
      "needs_background": "light"
     },
     "output_type": "display_data"
    }
   ],
   "source": [
    "df.plot()"
   ]
  },
  {
   "cell_type": "code",
   "execution_count": null,
   "id": "e133598d",
   "metadata": {},
   "outputs": [],
   "source": []
  }
 ],
 "metadata": {
  "kernelspec": {
   "display_name": "Python 3 (ipykernel)",
   "language": "python",
   "name": "python3"
  },
  "language_info": {
   "codemirror_mode": {
    "name": "ipython",
    "version": 3
   },
   "file_extension": ".py",
   "mimetype": "text/x-python",
   "name": "python",
   "nbconvert_exporter": "python",
   "pygments_lexer": "ipython3",
   "version": "3.9.7"
  }
 },
 "nbformat": 4,
 "nbformat_minor": 5
}
