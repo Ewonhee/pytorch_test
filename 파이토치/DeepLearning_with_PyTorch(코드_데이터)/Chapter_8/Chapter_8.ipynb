{
 "cells": [
  {
   "cell_type": "markdown",
   "metadata": {},
   "source": [
    "[코드 8.2.1]"
   ]
  },
  {
   "cell_type": "code",
   "execution_count": null,
   "metadata": {},
   "outputs": [],
   "source": [
    "import numpy as np\n",
    "import matplotlib.pyplot as plt\n",
    "\n",
    "import torch\n",
    "import torchvision\n",
    "import torch.nn as nn\n",
    "import torch.utils as utils\n",
    "import torch.optim as optim\n",
    "import torchvision.transforms as transforms\n",
    "import torch.nn.functional as F\n",
    "\n",
    "device = torch.device(\"cuda\" if torch.cuda.is_available() else \"cpu\")\n",
    "#device = torch.device(\"cpu\")\n",
    "print('Device:', device)"
   ]
  },
  {
   "cell_type": "code",
   "execution_count": null,
   "metadata": {},
   "outputs": [],
   "source": [
    "train_dataset = torchvision.datasets.MNIST(root='MNIST_data', \n",
    "                                        train=True,\n",
    "                                        download=True,\n",
    "                                        transform=None)\n",
    "\n",
    "test_dataset = torchvision.datasets.MNIST(root='MNIST_data', \n",
    "                                        train=False, \n",
    "                                        download=True, \n",
    "                                        transform=None)"
   ]
  },
  {
   "cell_type": "code",
   "execution_count": null,
   "metadata": {},
   "outputs": [],
   "source": [
    "print(train_dataset)\n",
    "print(test_dataset)"
   ]
  },
  {
   "cell_type": "code",
   "execution_count": null,
   "metadata": {},
   "outputs": [],
   "source": [
    "print(type(train_dataset[0]))\n",
    "print(type(test_dataset[0]))\n",
    "print(train_dataset[0])\n",
    "print(test_dataset[0])"
   ]
  },
  {
   "cell_type": "code",
   "execution_count": null,
   "metadata": {},
   "outputs": [],
   "source": [
    "plt.imshow(train_dataset[0][0], cmap='gray')\n",
    "plt.title('%i' % train_dataset[0][1])\n",
    "plt.show()"
   ]
  },
  {
   "cell_type": "code",
   "execution_count": null,
   "metadata": {},
   "outputs": [],
   "source": [
    "import numpy as np\n",
    "print(type(train_dataset[0][0]))\n",
    "image = np.array(train_dataset[0][0])\n",
    "print(type(image))\n",
    "print(image)"
   ]
  },
  {
   "cell_type": "code",
   "execution_count": null,
   "metadata": {},
   "outputs": [],
   "source": [
    "transform = transforms.ToTensor()     \n",
    "\n",
    "train_dataset = torchvision.datasets.MNIST(root='MNIST_data', \n",
    "                                        train=True,\n",
    "                                        download=True,\n",
    "                                        transform=transform)\n",
    "\n",
    "test_dataset = torchvision.datasets.MNIST(root='MNIST_data', \n",
    "                                        train=False, \n",
    "                                        download=True, \n",
    "                                        transform=transform)"
   ]
  },
  {
   "cell_type": "code",
   "execution_count": null,
   "metadata": {},
   "outputs": [],
   "source": [
    "print(train_dataset)\n",
    "print(test_dataset)"
   ]
  },
  {
   "cell_type": "code",
   "execution_count": null,
   "metadata": {},
   "outputs": [],
   "source": [
    "def imshow(img):\n",
    "#    img = img / 2 + 0.5     # unnormalize\n",
    "    npimg = img.numpy()\n",
    "    plt.imshow(np.transpose(npimg, (1, 2, 0)), cmap='gray' )\n",
    "    plt.show()"
   ]
  },
  {
   "cell_type": "code",
   "execution_count": null,
   "metadata": {},
   "outputs": [],
   "source": [
    "imshow(train_dataset[0][0])"
   ]
  },
  {
   "cell_type": "code",
   "execution_count": null,
   "metadata": {},
   "outputs": [],
   "source": [
    "print(train_dataset[0][0])"
   ]
  },
  {
   "cell_type": "code",
   "execution_count": null,
   "metadata": {},
   "outputs": [],
   "source": [
    "transform = transforms.Compose(\n",
    "    [transforms.ToTensor(),\n",
    "     transforms.Normalize((0.5), (0.5))])\n",
    " \n",
    "train_dataset = torchvision.datasets.MNIST(root='MNIST_data', \n",
    "                                        train=True,\n",
    "                                        download=True,\n",
    "                                        transform=transform)\n",
    "\n",
    "test_dataset = torchvision.datasets.MNIST(root='MNIST_data', \n",
    "                                        train=False, \n",
    "                                        download=True, \n",
    "                                        transform=transform)"
   ]
  },
  {
   "cell_type": "code",
   "execution_count": null,
   "metadata": {},
   "outputs": [],
   "source": [
    "transform = transforms.Compose(\n",
    "    [transforms.ToTensor(),\n",
    "     transforms.Normalize((0.5), (0.5))])\n",
    " \n",
    "train_dataset = torchvision.datasets.MNIST(root='MNIST_data', \n",
    "                                        train=True,\n",
    "                                        download=True,\n",
    "                                        transform=transform)\n",
    "\n",
    "test_dataset = torchvision.datasets.MNIST(root='MNIST_data', \n",
    "                                        train=False, \n",
    "                                        download=True, \n",
    "                                        transform=transform)\n",
    "print('number of training data : ', len(train_dataset))\n",
    "print('number of test data : ', len(test_dataset))"
   ]
  },
  {
   "cell_type": "code",
   "execution_count": null,
   "metadata": {},
   "outputs": [],
   "source": [
    "print(train_dataset)\n",
    "print(test_dataset)"
   ]
  },
  {
   "cell_type": "code",
   "execution_count": null,
   "metadata": {},
   "outputs": [],
   "source": [
    "def imshow(img):\n",
    "    img = img / 2 + 0.5     # unnormalize\n",
    "    npimg = img.numpy()\n",
    "    plt.imshow(np.transpose(npimg, (1, 2, 0)), cmap='gray' )\n",
    "    plt.show()"
   ]
  },
  {
   "cell_type": "code",
   "execution_count": null,
   "metadata": {},
   "outputs": [],
   "source": [
    "imshow(train_dataset[0][0])"
   ]
  },
  {
   "cell_type": "code",
   "execution_count": null,
   "metadata": {},
   "outputs": [],
   "source": [
    "print(train_dataset[0][0])"
   ]
  },
  {
   "cell_type": "code",
   "execution_count": null,
   "metadata": {},
   "outputs": [],
   "source": [
    "torch.manual_seed(1)\n",
    "# Data loader\n",
    "train_loader = torch.utils.data.DataLoader(dataset=train_dataset, \n",
    "                                            batch_size=64, \n",
    "                                            shuffle=True)\n",
    "test_loader = torch.utils.data.DataLoader(dataset=test_dataset, \n",
    "                                           batch_size=64, \n",
    "                                           shuffle=False) \n"
   ]
  },
  {
   "cell_type": "code",
   "execution_count": null,
   "metadata": {},
   "outputs": [],
   "source": [
    "dataiter = iter(train_loader)\n",
    "images, labels = dataiter.next()\n",
    "\n",
    "print(images.shape)\n",
    "print(labels.shape)"
   ]
  },
  {
   "cell_type": "code",
   "execution_count": null,
   "metadata": {},
   "outputs": [],
   "source": [
    "print(images[0].squeeze().shape)\n",
    "#print(images[0][0].shape)"
   ]
  },
  {
   "cell_type": "code",
   "execution_count": null,
   "metadata": {},
   "outputs": [],
   "source": [
    "plt.imshow(images[0].squeeze(), cmap='gray')\n",
    "#plt.imshow(images[0][0], cmap='gray')\n",
    "#plt.imshow(images[0].numpy().squeeze(), cmap='gray')"
   ]
  },
  {
   "cell_type": "code",
   "execution_count": null,
   "metadata": {},
   "outputs": [],
   "source": [
    "dataiter = iter(test_loader)\n",
    "images, labels = dataiter.next()\n",
    "\n",
    "for i in range(6):\n",
    "    plt.subplot(2,3,i+1)\n",
    "    plt.imshow(images[i].squeeze(), cmap='gray')\n",
    "plt.show() "
   ]
  },
  {
   "cell_type": "code",
   "execution_count": null,
   "metadata": {},
   "outputs": [],
   "source": [
    "model =nn.Sequential(\n",
    "    nn.Conv2d(1,10,kernel_size=5,padding=1),\n",
    "    nn.MaxPool2d(2,2),\n",
    "    nn.ReLU(),\n",
    "    \n",
    "    nn.Conv2d(10,20,kernel_size=5,stride=1),\n",
    "    nn.MaxPool2d(2,2),\n",
    "    nn.ReLU(),\n",
    "    \n",
    "    nn.Flatten(),\n",
    "    nn.Linear(4*4*20, 10)\n",
    ")      "
   ]
  },
  {
   "cell_type": "code",
   "execution_count": null,
   "metadata": {},
   "outputs": [],
   "source": [
    "torch.manual_seed(1)\n",
    "model = model.to(device)  \n",
    "model"
   ]
  },
  {
   "cell_type": "code",
   "execution_count": null,
   "metadata": {},
   "outputs": [],
   "source": [
    "learning_rate = 0.001\n",
    "loss_function = nn.CrossEntropyLoss()\n",
    "optimizer = optim.Adam(model.parameters(), lr=learning_rate)"
   ]
  },
  {
   "cell_type": "code",
   "execution_count": null,
   "metadata": {},
   "outputs": [],
   "source": [
    "n_epochs = 10\n",
    "for epoch in range(n_epochs):\n",
    "    avg_loss = 0.0   \n",
    "\n",
    "    for images, labels in train_loader:             \n",
    "        images=images.to(device)\n",
    "        labels=labels.to(device)\n",
    "        outputs = model(images)\n",
    "        loss = loss_function(outputs, labels)\n",
    "        optimizer.zero_grad()  \n",
    "        loss.backward()\n",
    "        optimizer.step()         \n",
    "        \n",
    "        avg_loss += loss    \n",
    "    avg_loss= avg_loss / len(train_loader)  \n",
    "    print('Epoch : {:4d}/{:2d}, Loss = {:.5f}'.format( epoch+1, n_epochs, avg_loss))"
   ]
  },
  {
   "cell_type": "code",
   "execution_count": null,
   "metadata": {},
   "outputs": [],
   "source": [
    "# Test model using test data\n",
    "with torch.no_grad():\n",
    "    images = test_dataset.data.view(-1, 1, 28, 28).float()\n",
    "    labels = test_dataset.targets  \n",
    "    images=images.to(device)\n",
    "    labels=labels.to(device)\n",
    "    outputs = model(images)  \n",
    "    predicted = torch.argmax(outputs, dim=1) == labels   \n",
    "    accuracy = predicted.float().mean()\n",
    "    print('Test Data Accuracy = {:.5f}'.format( accuracy))    "
   ]
  },
  {
   "cell_type": "code",
   "execution_count": null,
   "metadata": {},
   "outputs": [],
   "source": [
    "# Test model using test data\n",
    "with torch.no_grad():\n",
    "    images = test_dataset.data.view(-1, 1, 28, 28).float()\n",
    "    labels = test_dataset.targets    \n",
    "    images=images.to(device)\n",
    "    labels=labels.to(device)    \n",
    "    outputs = model(images)  \n",
    "    predicted = torch.max(outputs, dim=1)[1] ==labels\n",
    "    accuracy = predicted.float().mean()\n",
    "    print('Test Data Accuracy = {:.5f}'.format( accuracy)) "
   ]
  },
  {
   "cell_type": "markdown",
   "metadata": {},
   "source": [
    "Flattening 예제"
   ]
  },
  {
   "cell_type": "code",
   "execution_count": null,
   "metadata": {},
   "outputs": [],
   "source": [
    "input = torch.randn(32, 1, 5, 5)\n",
    "print(input.ndim)\n",
    "model = nn.Sequential(\n",
    "     nn.Conv2d(1, 32, 5, 1, 1),\n",
    "     nn.Flatten()\n",
    ")\n",
    "print(m)\n",
    "output = m(input)\n",
    "print(output.ndim)\n",
    "print(output.size())"
   ]
  },
  {
   "cell_type": "code",
   "execution_count": null,
   "metadata": {},
   "outputs": [],
   "source": [
    "x = torch.arange(12).reshape(3, -1)\n",
    "print(x.ndim)\n",
    "print(x.size())\n",
    "y = torch.flatten(x, 1)\n",
    "print(y.size())"
   ]
  },
  {
   "cell_type": "code",
   "execution_count": null,
   "metadata": {},
   "outputs": [],
   "source": [
    "from torch import tensor\n",
    "x = tensor([[[1,2,3],\n",
    "             [3,4,5]],\n",
    "            [[5,6,7],\n",
    "             [7,8,9]]])\n",
    "print(x.shape)  \n",
    "y=torch.flatten(x)\n",
    "print(y.shape)  \n",
    "z=torch.flatten(x,1)\n",
    "print(z.shape) \n",
    "z = x.view(-1, 2 * 3)\n",
    "print(z.shape) "
   ]
  },
  {
   "cell_type": "code",
   "execution_count": null,
   "metadata": {},
   "outputs": [],
   "source": [
    "x = torch.tensor([[1,1,0],[4,2,1],[0,2,1]])\n",
    "print('ndim =', x.ndim)\n",
    "print(x.shape)\n",
    "print(x)\n",
    "y=torch.flatten(x)\n",
    "print('ndim =', y.ndim)\n",
    "print(y.shape) \n",
    "print(y)"
   ]
  },
  {
   "cell_type": "code",
   "execution_count": null,
   "metadata": {},
   "outputs": [],
   "source": [
    "x = torch.tensor([[[1,1,0],[4,2,1],[0,2,1]]])\n",
    "print('ndim =', x.ndim)\n",
    "print(x.shape)\n",
    "print(x)\n",
    "y=torch.flatten(x,1)\n",
    "print('ndim =', y.ndim)\n",
    "print(y.shape) \n",
    "print(y)"
   ]
  },
  {
   "cell_type": "code",
   "execution_count": null,
   "metadata": {},
   "outputs": [],
   "source": [
    "import torch.nn as nn\n",
    "x = torch.tensor([[[1,1,0],[4,2,1],[0,2,1]]])\n",
    "print('ndim =', x.ndim)\n",
    "print(x.shape)\n",
    "model = nn.Sequential(\n",
    "     nn.Flatten()\n",
    ")\n",
    "print(model)\n",
    "y = model(x)\n",
    "print('ndim =', y.ndim)\n",
    "print(y.shape)"
   ]
  },
  {
   "cell_type": "markdown",
   "metadata": {},
   "source": [
    "[코드 8.2.2]"
   ]
  },
  {
   "cell_type": "code",
   "execution_count": null,
   "metadata": {},
   "outputs": [],
   "source": [
    "torch.manual_seed(1)\n",
    "# Data loader\n",
    "train_loader = torch.utils.data.DataLoader(dataset=train_dataset, \n",
    "                                            batch_size=64, \n",
    "                                            shuffle=True)\n",
    "test_loader = torch.utils.data.DataLoader(dataset=test_dataset, \n",
    "                                           batch_size=64, \n",
    "                                           shuffle=False) \n",
    "model =nn.Sequential(\n",
    "    nn.Conv2d(1,10,kernel_size=5,padding=1),\n",
    "    nn.MaxPool2d(2,2),\n",
    "    nn.ReLU(),\n",
    "    \n",
    "    nn.Conv2d(10,20,kernel_size=5,stride=1),\n",
    "    nn.MaxPool2d(2,2),\n",
    "    nn.ReLU(),\n",
    "    \n",
    "    nn.Flatten(),\n",
    "    nn.Linear(4*4*20, 10))   \n",
    "    \n",
    "torch.manual_seed(1)\n",
    "model = model.to(device)  \n",
    "model\n",
    "\n",
    "learning_rate = 0.001\n",
    "loss_function = nn.CrossEntropyLoss()\n",
    "optimizer = optim.Adam(model.parameters(), lr=learning_rate)"
   ]
  },
  {
   "cell_type": "code",
   "execution_count": null,
   "metadata": {},
   "outputs": [],
   "source": [
    "n_epochs = 10\n",
    "for epoch in range(n_epochs):\n",
    "    epoch_loss = 0\n",
    "    epoch_accuracy = 0\n",
    "    for images, labels in train_loader: \n",
    "        images=images.to(device)\n",
    "        labels=labels.to(device)\n",
    "        outputs = model(images)\n",
    "        loss = loss_function(outputs, labels)\n",
    "        optimizer.zero_grad()  \n",
    "        loss.backward()\n",
    "        optimizer.step()         \n",
    "                \n",
    "        epoch_loss += loss.item()/len(train_loader)\n",
    "        acc = ((outputs.argmax(dim=1) == labels).float().mean())\n",
    "        epoch_accuracy += acc.item()/len(train_loader)\n",
    "         \n",
    "    print('Epoch : {}, Train Data Loss : {:.5f}, Train Data Accuracy : {:.5f}'.format(epoch+1, epoch_loss, epoch_accuracy))\n",
    "    \n",
    "    with torch.no_grad():\n",
    "        epoch_test_accuracy=0\n",
    "        epoch_test_loss =0\n",
    "        for images, labels in test_loader:          \n",
    "            images=images.to(device)\n",
    "            labels=labels.to(device)\n",
    "            test_output = model(images)\n",
    "            test_loss = loss_function(test_output,labels)\n",
    "            \n",
    "            epoch_test_loss += test_loss.item()/ len(test_loader)\n",
    "            acc = ((test_output.argmax(dim=1) == labels).float().mean())\n",
    "            epoch_test_accuracy += acc.item()/ len(test_loader)\n",
    "        print('Epoch : {}, Test Data Loss : {:.5f}, Test Data Accuracy : {:.5f}'.format(epoch+1, epoch_test_loss, epoch_test_accuracy))\n"
   ]
  },
  {
   "cell_type": "markdown",
   "metadata": {},
   "source": [
    "[코드 8.2.3]"
   ]
  },
  {
   "cell_type": "code",
   "execution_count": null,
   "metadata": {},
   "outputs": [],
   "source": [
    "torch.manual_seed(1)\n",
    "# Data loader\n",
    "train_loader = torch.utils.data.DataLoader(dataset=train_dataset, \n",
    "                                            batch_size=64, \n",
    "                                            shuffle=True)\n",
    "test_loader = torch.utils.data.DataLoader(dataset=test_dataset, \n",
    "                                           batch_size=64, \n",
    "                                           shuffle=False) \n",
    "model =nn.Sequential(\n",
    "    nn.Conv2d(1,10,kernel_size=5,padding=1),\n",
    "    nn.MaxPool2d(2,2),\n",
    "    nn.ReLU(),\n",
    "    \n",
    "    nn.Conv2d(10,20,kernel_size=5,stride=1),\n",
    "    nn.MaxPool2d(2,2),\n",
    "    nn.ReLU(),\n",
    "    \n",
    "    nn.Flatten(),\n",
    "    nn.Linear(4*4*20, 10)\n",
    ")      \n",
    "    \n",
    "torch.manual_seed(1)\n",
    "model = model.to(device)  \n",
    "model\n",
    "\n",
    "learning_rate = 0.001\n",
    "loss_function = nn.CrossEntropyLoss()\n",
    "optimizer = optim.Adam(model.parameters(), lr=learning_rate)"
   ]
  },
  {
   "cell_type": "code",
   "execution_count": null,
   "metadata": {},
   "outputs": [],
   "source": [
    "n_epochs = 10\n",
    "train_losses=[]\n",
    "test_losses=[]\n",
    "train_accuracy=[]\n",
    "test_accuracy=[]\n",
    "for epoch in range(n_epochs):\n",
    "    epoch_loss = 0\n",
    "    epoch_accuracy = 0\n",
    "    for images, labels in train_loader: \n",
    "        images=images.to(device)\n",
    "        labels=labels.to(device)\n",
    "        outputs = model(images)\n",
    "        loss = loss_function(outputs, labels)\n",
    "        optimizer.zero_grad()  \n",
    "        loss.backward()\n",
    "        optimizer.step()         \n",
    "               \n",
    "        epoch_loss += loss.item()/len(train_loader)\n",
    "        acc = ((outputs.argmax(dim=1) == labels).float().mean())\n",
    "        epoch_accuracy += acc.item()/len(train_loader)\n",
    "    train_losses.append(epoch_loss)  \n",
    "    train_accuracy.append(epoch_accuracy)  \n",
    "#    print('Epoch : {}, train loss : {:.5f}, train accuracy : {:.5f}'.format(epoch+1, epoch_loss, epoch_accuracy))\n",
    "    \n",
    "    with torch.no_grad():\n",
    "        epoch_test_accuracy=0\n",
    "        epoch_test_loss =0\n",
    "        for images, labels in test_loader:          \n",
    "            images=images.to(device)\n",
    "            labels=labels.to(device)\n",
    "            test_output = model(images)\n",
    "            test_loss = loss_function(test_output,labels)\n",
    "            \n",
    "            epoch_test_loss += test_loss.item()/ len(test_loader)\n",
    "            acc = ((test_output.argmax(dim=1) == labels).float().mean())\n",
    "            epoch_test_accuracy += acc.item()/ len(test_loader)\n",
    "        test_losses.append(epoch_test_loss) \n",
    "        test_accuracy.append(epoch_test_accuracy)  \n",
    "#        print('Epoch : {}, test loss : {:.5f}, test accuracy : {:.5f}'.format(epoch+1, epoch_test_loss, epoch_test_accuracy))"
   ]
  },
  {
   "cell_type": "code",
   "execution_count": null,
   "metadata": {},
   "outputs": [],
   "source": [
    "#plot the loss function\n",
    "import matplotlib.pylab as plt\n",
    "plt.title(\"Train and Test Loss\")\n",
    "plt.plot(range(n_epochs),train_losses, label=\"train\")\n",
    "plt.plot(range(n_epochs),test_losses, label=\"test\")\n",
    "plt.xlabel('Epoch')\n",
    "plt.ylabel('Loss')\n",
    "plt.legend()\n",
    "plt.show()"
   ]
  },
  {
   "cell_type": "code",
   "execution_count": null,
   "metadata": {},
   "outputs": [],
   "source": [
    "#plot the accuracy function\n",
    "import matplotlib.pylab as plt\n",
    "plt.title(\"Train and Test accuracy\")\n",
    "plt.plot(range(n_epochs),train_accuracy, label=\"train\")\n",
    "plt.plot(range(n_epochs),test_accuracy, label=\"test\")\n",
    "plt.xlabel('Epoch')\n",
    "plt.ylabel('Accuracy')\n",
    "plt.legend()\n",
    "plt.show()"
   ]
  },
  {
   "cell_type": "markdown",
   "metadata": {},
   "source": [
    "[코드 8.2.4]"
   ]
  },
  {
   "cell_type": "code",
   "execution_count": 12,
   "metadata": {},
   "outputs": [
    {
     "name": "stdout",
     "output_type": "stream",
     "text": [
      "Device: cuda\n"
     ]
    }
   ],
   "source": [
    "import numpy as np\n",
    "import matplotlib.pyplot as plt\n",
    "\n",
    "import torch\n",
    "import torchvision\n",
    "import torch.nn as nn\n",
    "import torch.utils as utils\n",
    "import torch.optim as optim\n",
    "import torchvision.transforms as transforms\n",
    "import torch.nn.functional as F\n",
    "\n",
    "device = torch.device(\"cuda\" if torch.cuda.is_available() else \"cpu\")\n",
    "#device = torch.device(\"cpu\")\n",
    "print('Device:', device)"
   ]
  },
  {
   "cell_type": "code",
   "execution_count": 13,
   "metadata": {},
   "outputs": [],
   "source": [
    "train_dataset = torchvision.datasets.MNIST(root='MNIST_data',\n",
    "                          train=True, \n",
    "                          transform=transforms.ToTensor(),\n",
    "                          download=False)\n",
    "\n",
    "test_dataset = torchvision.datasets.MNIST(root='MNIST_data',\n",
    "                         train=False, \n",
    "                         transform=transforms.ToTensor(),\n",
    "                         download=False)"
   ]
  },
  {
   "cell_type": "code",
   "execution_count": 14,
   "metadata": {},
   "outputs": [
    {
     "name": "stdout",
     "output_type": "stream",
     "text": [
      "torch.Size([60000, 28, 28])\n",
      "torch.Size([60000])\n",
      "torch.Size([10000, 28, 28])\n",
      "torch.Size([10000])\n"
     ]
    }
   ],
   "source": [
    "# Check \n",
    "print(train_dataset.data.shape)\n",
    "print(train_dataset.targets.shape)\n",
    "print(test_dataset.data.shape)\n",
    "print(test_dataset.targets.shape)"
   ]
  },
  {
   "cell_type": "code",
   "execution_count": 15,
   "metadata": {},
   "outputs": [],
   "source": [
    "torch.manual_seed(1)\n",
    "# Data loader\n",
    "train_loader = torch.utils.data.DataLoader(dataset=train_dataset, \n",
    "                                            batch_size=64, \n",
    "                                            shuffle=True)\n",
    "test_loader = torch.utils.data.DataLoader(dataset=test_dataset, \n",
    "                                           batch_size=64, \n",
    "                                           shuffle=False) "
   ]
  },
  {
   "cell_type": "code",
   "execution_count": 16,
   "metadata": {},
   "outputs": [],
   "source": [
    "class CNN(nn.Module):\n",
    "    def __init__(self):\n",
    "        super(CNN, self).__init__()\n",
    "        self.conv1 = nn.Conv2d(1, 32, kernel_size=3, stride=1, padding=1) \n",
    "        self.pool1 = nn.MaxPool2d(kernel_size=2, stride=2)\n",
    "        self.conv2 = nn.Conv2d(32, 64, kernel_size=3, stride=1, padding=1)  \n",
    "        self.pool2 = nn.MaxPool2d(kernel_size=2, stride=2) \n",
    "        self.fc1 = nn.Linear(7 * 7 * 64, 128)\n",
    "        self.fc2 = nn.Linear(128, 10)\n",
    "\n",
    "    def forward(self, x):\n",
    "        x = self.pool1(F.relu(self.conv1(x)))\n",
    "        x = self.pool2(F.relu(self.conv2(x)))\n",
    "        x = x.view(-1, 7 * 7 * 64)\n",
    "        x = F.relu(self.fc1(x))\n",
    "        x = self.fc2(x)\n",
    "        return x"
   ]
  },
  {
   "cell_type": "code",
   "execution_count": 17,
   "metadata": {},
   "outputs": [
    {
     "data": {
      "text/plain": [
       "CNN(\n",
       "  (conv1): Conv2d(1, 32, kernel_size=(3, 3), stride=(1, 1), padding=(1, 1))\n",
       "  (pool1): MaxPool2d(kernel_size=2, stride=2, padding=0, dilation=1, ceil_mode=False)\n",
       "  (conv2): Conv2d(32, 64, kernel_size=(3, 3), stride=(1, 1), padding=(1, 1))\n",
       "  (pool2): MaxPool2d(kernel_size=2, stride=2, padding=0, dilation=1, ceil_mode=False)\n",
       "  (fc1): Linear(in_features=3136, out_features=128, bias=True)\n",
       "  (fc2): Linear(in_features=128, out_features=10, bias=True)\n",
       ")"
      ]
     },
     "execution_count": 17,
     "metadata": {},
     "output_type": "execute_result"
    }
   ],
   "source": [
    "torch.manual_seed(1)\n",
    "model = CNN().to(device)  \n",
    "model"
   ]
  },
  {
   "cell_type": "code",
   "execution_count": 18,
   "metadata": {},
   "outputs": [],
   "source": [
    "learning_rate = 0.001\n",
    "loss_function = nn.CrossEntropyLoss()\n",
    "optimizer = optim.Adam(model.parameters(), lr=learning_rate)"
   ]
  },
  {
   "cell_type": "code",
   "execution_count": null,
   "metadata": {},
   "outputs": [],
   "source": [
    "n_epochs = 10\n",
    "for epoch in range(n_epochs):\n",
    "    avg_loss = 0.0   \n",
    "\n",
    "    for images, labels in train_loader:             \n",
    "        images=images.to(device)\n",
    "        labels=labels.to(device)\n",
    "        outputs = model(images)\n",
    "        loss = loss_function(outputs, labels)\n",
    "        optimizer.zero_grad()  \n",
    "        loss.backward()\n",
    "        optimizer.step()         \n",
    "        \n",
    "        avg_loss += loss    \n",
    "    avg_loss= avg_loss / len(train_loader)  \n",
    "    print('Epoch : {:4d}/{:2d}, Loss = {:.5f}'.format( epoch+1, n_epochs, avg_loss))"
   ]
  },
  {
   "cell_type": "code",
   "execution_count": null,
   "metadata": {},
   "outputs": [],
   "source": [
    "# Test model using test data\n",
    "with torch.no_grad():\n",
    "    images = test_dataset.data.view(-1, 1, 28, 28).float()\n",
    "    labels = test_dataset.targets    \n",
    "    images=images.to(device)\n",
    "    labels=labels.to(device)    \n",
    "    outputs = model(images)  \n",
    "    predicted = torch.max(outputs, dim=1)[1] ==labels\n",
    "    accuracy = predicted.float().mean()\n",
    "    print('Test Data Accuracy = {:.5f}'.format( accuracy)) "
   ]
  },
  {
   "cell_type": "markdown",
   "metadata": {},
   "source": [
    "[코드 8.2.5]"
   ]
  },
  {
   "cell_type": "code",
   "execution_count": 25,
   "metadata": {},
   "outputs": [],
   "source": [
    "torch.manual_seed(1)\n",
    "# Data loader\n",
    "train_loader = torch.utils.data.DataLoader(dataset=train_dataset, \n",
    "                                            batch_size=64, \n",
    "                                            shuffle=True)\n",
    "test_loader = torch.utils.data.DataLoader(dataset=test_dataset, \n",
    "                                           batch_size=64, \n",
    "                                           shuffle=False) "
   ]
  },
  {
   "cell_type": "code",
   "execution_count": 26,
   "metadata": {},
   "outputs": [],
   "source": [
    "class CNN(nn.Module):\n",
    "    def __init__(self):\n",
    "        super(CNN, self).__init__()\n",
    "        self.conv1 = nn.Conv2d(1, 32, kernel_size=3, stride=1, padding=1) \n",
    "        self.pool1 = nn.MaxPool2d(kernel_size=2, stride=2)\n",
    "        self.conv2 = nn.Conv2d(32, 64, kernel_size=3, stride=1, padding=1)  \n",
    "        self.pool2 = nn.MaxPool2d(kernel_size=2, stride=2) \n",
    "        self.fc1 = nn.Linear(7 * 7 * 64, 128)\n",
    "        self.fc2 = nn.Linear(128, 10)\n",
    "\n",
    "    def forward(self, x):\n",
    "        x = self.pool1(F.relu(self.conv1(x)))\n",
    "        x = self.pool2(F.relu(self.conv2(x)))\n",
    "        x = x.view(-1, 7 * 7 * 64)\n",
    "        x = F.relu(self.fc1(x))\n",
    "        x = self.fc2(x)\n",
    "        return x"
   ]
  },
  {
   "cell_type": "code",
   "execution_count": 27,
   "metadata": {},
   "outputs": [
    {
     "data": {
      "text/plain": [
       "CNN(\n",
       "  (conv1): Conv2d(1, 32, kernel_size=(3, 3), stride=(1, 1), padding=(1, 1))\n",
       "  (pool1): MaxPool2d(kernel_size=2, stride=2, padding=0, dilation=1, ceil_mode=False)\n",
       "  (conv2): Conv2d(32, 64, kernel_size=(3, 3), stride=(1, 1), padding=(1, 1))\n",
       "  (pool2): MaxPool2d(kernel_size=2, stride=2, padding=0, dilation=1, ceil_mode=False)\n",
       "  (fc1): Linear(in_features=3136, out_features=128, bias=True)\n",
       "  (fc2): Linear(in_features=128, out_features=10, bias=True)\n",
       ")"
      ]
     },
     "execution_count": 27,
     "metadata": {},
     "output_type": "execute_result"
    }
   ],
   "source": [
    "torch.manual_seed(1)\n",
    "model = CNN().to(device)  \n",
    "model"
   ]
  },
  {
   "cell_type": "code",
   "execution_count": 28,
   "metadata": {},
   "outputs": [],
   "source": [
    "learning_rate = 0.001\n",
    "loss_function = nn.CrossEntropyLoss()\n",
    "optimizer = optim.Adam(model.parameters(), lr=learning_rate)"
   ]
  },
  {
   "cell_type": "code",
   "execution_count": 29,
   "metadata": {},
   "outputs": [
    {
     "name": "stdout",
     "output_type": "stream",
     "text": [
      "Epoch : 1, train loss : 0.17915, train accuracy : 0.94603\n",
      "Epoch : 1, test loss : 0.04965, test accuracy : 0.98398\n",
      "Epoch : 2, train loss : 0.05098, train accuracy : 0.98408\n",
      "Epoch : 2, test loss : 0.04897, test accuracy : 0.98418\n",
      "Epoch : 3, train loss : 0.03554, train accuracy : 0.98897\n",
      "Epoch : 3, test loss : 0.04499, test accuracy : 0.98527\n",
      "Epoch : 4, train loss : 0.02721, train accuracy : 0.99165\n",
      "Epoch : 4, test loss : 0.03361, test accuracy : 0.98826\n",
      "Epoch : 5, train loss : 0.02044, train accuracy : 0.99284\n",
      "Epoch : 5, test loss : 0.02448, test accuracy : 0.99174\n",
      "Epoch : 6, train loss : 0.01448, train accuracy : 0.99557\n",
      "Epoch : 6, test loss : 0.03156, test accuracy : 0.99025\n",
      "Epoch : 7, train loss : 0.01461, train accuracy : 0.99522\n",
      "Epoch : 7, test loss : 0.03129, test accuracy : 0.99084\n",
      "Epoch : 8, train loss : 0.00992, train accuracy : 0.99672\n",
      "Epoch : 8, test loss : 0.02563, test accuracy : 0.99224\n",
      "Epoch : 9, train loss : 0.00895, train accuracy : 0.99703\n",
      "Epoch : 9, test loss : 0.03659, test accuracy : 0.99035\n",
      "Epoch : 10, train loss : 0.00797, train accuracy : 0.99727\n",
      "Epoch : 10, test loss : 0.03504, test accuracy : 0.99025\n"
     ]
    }
   ],
   "source": [
    "n_epochs = 10\n",
    "for epoch in range(n_epochs):\n",
    "    epoch_loss = 0\n",
    "    epoch_accuracy = 0\n",
    "    for images, labels in train_loader:             \n",
    "        images=images.to(device)\n",
    "        labels=labels.to(device)\n",
    "        outputs = model(images)\n",
    "        loss = loss_function(outputs, labels)\n",
    "        optimizer.zero_grad()  \n",
    "        loss.backward()\n",
    "        optimizer.step()         \n",
    "                \n",
    "        epoch_loss += loss.item()/len(train_loader)\n",
    "        acc = ((outputs.argmax(dim=1) == labels).float().mean())\n",
    "        epoch_accuracy += acc.item()/len(train_loader)\n",
    "         \n",
    "    print('Epoch : {}, train loss : {:.5f}, train accuracy : {:.5f}'.format(epoch+1, epoch_loss, epoch_accuracy))\n",
    "    \n",
    "    with torch.no_grad():\n",
    "        epoch_test_accuracy=0\n",
    "        epoch_test_loss =0\n",
    "        for images, labels in test_loader:          \n",
    "            images=images.to(device)\n",
    "            labels=labels.to(device)\n",
    "            test_output = model(images)\n",
    "            test_loss = loss_function(test_output,labels)\n",
    "            \n",
    "            epoch_test_loss += test_loss.item()/ len(test_loader)\n",
    "            acc = ((test_output.argmax(dim=1) == labels).float().mean())\n",
    "            epoch_test_accuracy += acc.item()/ len(test_loader)\n",
    "        print('Epoch : {}, test loss : {:.5f}, test accuracy : {:.5f}'.format(epoch+1, epoch_test_loss, epoch_test_accuracy))\n"
   ]
  },
  {
   "cell_type": "markdown",
   "metadata": {},
   "source": [
    "[코드 8.2.6]"
   ]
  },
  {
   "cell_type": "code",
   "execution_count": 37,
   "metadata": {},
   "outputs": [],
   "source": [
    "torch.manual_seed(1)\n",
    "# Data loader\n",
    "train_loader = torch.utils.data.DataLoader(dataset=train_dataset, \n",
    "                                            batch_size=64, \n",
    "                                            shuffle=True)\n",
    "test_loader = torch.utils.data.DataLoader(dataset=test_dataset, \n",
    "                                           batch_size=64, \n",
    "                                           shuffle=False) \n",
    "\n",
    "class CNN(nn.Module):\n",
    "    def __init__(self):\n",
    "        super(CNN, self).__init__()\n",
    "        self.conv1 = nn.Conv2d(1, 32, kernel_size=3, stride=1, padding=1) \n",
    "        self.pool1 = nn.MaxPool2d(kernel_size=2, stride=2)\n",
    "        self.conv2 = nn.Conv2d(32, 64, kernel_size=3, stride=1, padding=1)  \n",
    "        self.pool2 = nn.MaxPool2d(kernel_size=2, stride=2) \n",
    "        self.fc1 = nn.Linear(7 * 7 * 64, 128)\n",
    "        self.fc2 = nn.Linear(128, 10)\n",
    "\n",
    "    def forward(self, x):\n",
    "        x = self.pool1(F.relu(self.conv1(x)))\n",
    "        x = self.pool2(F.relu(self.conv2(x)))\n",
    "        x = x.view(-1, 7 * 7 * 64)\n",
    "        x = F.relu(self.fc1(x))\n",
    "        x = self.fc2(x)\n",
    "        return x\n",
    "\n",
    "torch.manual_seed(1)\n",
    "model = CNN().to(device)  \n",
    "model\n",
    "\n",
    "learning_rate = 0.001\n",
    "loss_function = nn.CrossEntropyLoss()\n",
    "optimizer = optim.Adam(model.parameters(), lr=learning_rate)"
   ]
  },
  {
   "cell_type": "code",
   "execution_count": 38,
   "metadata": {},
   "outputs": [],
   "source": [
    "n_epochs = 10\n",
    "train_losses=[]\n",
    "test_losses=[]\n",
    "train_accuracy=[]\n",
    "test_accuracy=[]\n",
    "for epoch in range(n_epochs):\n",
    "    epoch_loss = 0\n",
    "    epoch_accuracy = 0\n",
    "    for images, labels in train_loader: \n",
    "        images=images.to(device)\n",
    "        labels=labels.to(device)\n",
    "        outputs = model(images)\n",
    "        loss = loss_function(outputs, labels)\n",
    "        optimizer.zero_grad()  \n",
    "        loss.backward()\n",
    "        optimizer.step()         \n",
    "               \n",
    "        epoch_loss += loss.item()/len(train_loader)\n",
    "        acc = ((outputs.argmax(dim=1) == labels).float().mean())\n",
    "        epoch_accuracy += acc.item()/len(train_loader)\n",
    "    train_losses.append(epoch_loss)  \n",
    "    train_accuracy.append(epoch_accuracy)  \n",
    "#    print('Epoch : {}, train loss : {:.5f}, train accuracy : {:.5f}'.format(epoch+1, epoch_loss, epoch_accuracy))\n",
    "    \n",
    "    with torch.no_grad():\n",
    "        epoch_test_accuracy=0\n",
    "        epoch_test_loss =0\n",
    "        for images, labels in test_loader:          \n",
    "            images=images.to(device)\n",
    "            labels=labels.to(device)\n",
    "            test_output = model(images)\n",
    "            test_loss = loss_function(test_output,labels)\n",
    "            \n",
    "            epoch_test_loss += test_loss.item()/ len(test_loader)\n",
    "            acc = ((test_output.argmax(dim=1) == labels).float().mean())\n",
    "            epoch_test_accuracy += acc.item()/ len(test_loader)\n",
    "        test_losses.append(epoch_test_loss) \n",
    "        test_accuracy.append(epoch_test_accuracy)  \n",
    "#        print('Epoch : {}, test loss : {:.5f}, test accuracy : {:.5f}'.format(epoch+1, epoch_test_loss, epoch_test_accuracy))"
   ]
  },
  {
   "cell_type": "code",
   "execution_count": 41,
   "metadata": {},
   "outputs": [
    {
     "data": {
      "image/png": "[encoded data removed]",
      "text/plain": [
       "<Figure size 432x288 with 1 Axes>"
      ]
     },
     "metadata": {
      "needs_background": "light"
     },
     "output_type": "display_data"
    }
   ],
   "source": [
    "#plot the loss function\n",
    "import matplotlib.pylab as plt\n",
    "plt.title(\"Train and Test Loss\")\n",
    "plt.plot(range(n_epochs),train_losses, label=\"train\")\n",
    "plt.plot(range(n_epochs),test_losses, label=\"test\")\n",
    "plt.xlabel('Epoch')\n",
    "plt.ylabel('Loss')\n",
    "plt.legend()\n",
    "plt.show()"
   ]
  },
  {
   "cell_type": "code",
   "execution_count": 42,
   "metadata": {},
   "outputs": [
    {
     "data": {
      "image/png": "[encoded data removed]",
      "text/plain": [
       "<Figure size 432x288 with 1 Axes>"
      ]
     },
     "metadata": {
      "needs_background": "light"
     },
     "output_type": "display_data"
    }
   ],
   "source": [
    "#plot the accuracy function\n",
    "import matplotlib.pylab as plt\n",
    "plt.title(\"Train and Test accuracy\")\n",
    "plt.plot(range(n_epochs),train_accuracy, label=\"train\")\n",
    "plt.plot(range(n_epochs),test_accuracy, label=\"test\")\n",
    "plt.xlabel('Epoch')\n",
    "plt.ylabel('Accuracy')\n",
    "plt.legend()\n",
    "plt.show()"
   ]
  },
  {
   "cell_type": "markdown",
   "metadata": {},
   "source": [
    "[코드 8.2.7]"
   ]
  },
  {
   "cell_type": "code",
   "execution_count": 107,
   "metadata": {
    "scrolled": true
   },
   "outputs": [
    {
     "name": "stdout",
     "output_type": "stream",
     "text": [
      "Device: cuda\n"
     ]
    }
   ],
   "source": [
    "import numpy as np\n",
    "import matplotlib.pyplot as plt\n",
    "\n",
    "import torch\n",
    "import torch.nn as nn\n",
    "import torch.optim as optim\n",
    "import torch.nn.functional as F\n",
    "\n",
    "from torch.utils.data import DataLoader\n",
    "from torchvision import datasets, models, transforms\n",
    "from torchvision.datasets import ImageFolder\n",
    "\n",
    "device = torch.device(\"cuda\" if torch.cuda.is_available() else \"cpu\")\n",
    "#device = torch.device(\"cpu\")\n",
    "print('Device:', device)"
   ]
  },
  {
   "cell_type": "code",
   "execution_count": 108,
   "metadata": {},
   "outputs": [],
   "source": [
    "data_transform = transforms.Compose([transforms.Resize((224,224))\n",
    "                                       ,transforms.ToTensor()\n",
    "                                       ,transforms.Normalize([0.485, 0.456, 0.406], [0.229, 0.224, 0.225])])"
   ]
  },
  {
   "cell_type": "code",
   "execution_count": 109,
   "metadata": {},
   "outputs": [],
   "source": [
    "\n",
    "train_dataset = ImageFolder('./hymenoptera_data/train/',transform =data_transform)\n",
    "valid_dataset = ImageFolder('./hymenoptera_data/val/',transform =data_transform)"
   ]
  },
  {
   "cell_type": "code",
   "execution_count": 110,
   "metadata": {},
   "outputs": [
    {
     "name": "stdout",
     "output_type": "stream",
     "text": [
      "244\n",
      "153\n",
      "torch.Size([3, 224, 224])\n",
      "torch.Size([3, 224, 224])\n"
     ]
    }
   ],
   "source": [
    "print(len(train_dataset))\n",
    "print(len(valid_dataset))\n",
    "print(train_dataset[0][0].size())\n",
    "print(valid_dataset[0][0].size())"
   ]
  },
  {
   "cell_type": "code",
   "execution_count": 111,
   "metadata": {},
   "outputs": [
    {
     "name": "stdout",
     "output_type": "stream",
     "text": [
      "['ants', 'bees']\n",
      "{'ants': 0, 'bees': 1}\n"
     ]
    }
   ],
   "source": [
    "class_names = train_dataset.classes\n",
    "#class_names = ['ants', 'bees']\n",
    "class_names_to_idx = train_dataset.class_to_idx\n",
    "print(class_names)\n",
    "print(class_names_to_idx)"
   ]
  },
  {
   "cell_type": "code",
   "execution_count": 112,
   "metadata": {},
   "outputs": [
    {
     "data": {
      "text/plain": [
       "(tensor([[[-0.7308, -0.7308, -0.7137,  ..., -0.7479, -0.7822, -0.7650],\n",
       "          [-0.7308, -0.7308, -0.7308,  ..., -0.7479, -0.7822, -0.7822],\n",
       "          [-0.7308, -0.7308, -0.7308,  ..., -0.7308, -0.7993, -0.7822],\n",
       "          ...,\n",
       "          [-0.6281, -0.6452, -0.6452,  ..., -2.0837, -2.0152, -1.1760],\n",
       "          [-0.6281, -0.6452, -0.6623,  ..., -1.9809, -1.9124, -1.0733],\n",
       "          [-0.6281, -0.6452, -0.6452,  ..., -0.9534, -0.9192, -0.7479]],\n",
       " \n",
       "         [[ 0.6254,  0.6254,  0.6429,  ...,  0.5728,  0.5728,  0.5903],\n",
       "          [ 0.6254,  0.6254,  0.6254,  ...,  0.5728,  0.5728,  0.5728],\n",
       "          [ 0.6254,  0.6254,  0.6254,  ...,  0.5903,  0.5553,  0.5728],\n",
       "          ...,\n",
       "          [ 0.7654,  0.7479,  0.7479,  ..., -2.0007, -1.9132, -0.1625],\n",
       "          [ 0.7654,  0.7479,  0.7304,  ..., -1.8081, -1.7031, -0.1099],\n",
       "          [ 0.7654,  0.7479,  0.7479,  ...,  0.1001,  0.1527,  0.5203]],\n",
       " \n",
       "         [[ 2.2740,  2.2740,  2.2914,  ...,  2.2217,  2.2217,  2.2391],\n",
       "          [ 2.2740,  2.2740,  2.2740,  ...,  2.2217,  2.2217,  2.2217],\n",
       "          [ 2.2740,  2.2740,  2.2740,  ...,  2.2391,  2.2043,  2.2217],\n",
       "          ...,\n",
       "          [ 2.3263,  2.3088,  2.3263,  ..., -1.7347, -1.6302,  0.9494],\n",
       "          [ 2.3263,  2.3088,  2.3088,  ..., -1.4384, -1.2990,  1.0714],\n",
       "          [ 2.3263,  2.3088,  2.3263,  ...,  1.3851,  1.4200,  2.0474]]]),\n",
       " 0)"
      ]
     },
     "execution_count": 112,
     "metadata": {},
     "output_type": "execute_result"
    }
   ],
   "source": [
    "train_dataset[0]\n",
    "#train_dataset.__getitem__(0)"
   ]
  },
  {
   "cell_type": "code",
   "execution_count": 113,
   "metadata": {},
   "outputs": [
    {
     "data": {
      "text/plain": [
       "tensor([[[-0.7308, -0.7308, -0.7137,  ..., -0.7479, -0.7822, -0.7650],\n",
       "         [-0.7308, -0.7308, -0.7308,  ..., -0.7479, -0.7822, -0.7822],\n",
       "         [-0.7308, -0.7308, -0.7308,  ..., -0.7308, -0.7993, -0.7822],\n",
       "         ...,\n",
       "         [-0.6281, -0.6452, -0.6452,  ..., -2.0837, -2.0152, -1.1760],\n",
       "         [-0.6281, -0.6452, -0.6623,  ..., -1.9809, -1.9124, -1.0733],\n",
       "         [-0.6281, -0.6452, -0.6452,  ..., -0.9534, -0.9192, -0.7479]],\n",
       "\n",
       "        [[ 0.6254,  0.6254,  0.6429,  ...,  0.5728,  0.5728,  0.5903],\n",
       "         [ 0.6254,  0.6254,  0.6254,  ...,  0.5728,  0.5728,  0.5728],\n",
       "         [ 0.6254,  0.6254,  0.6254,  ...,  0.5903,  0.5553,  0.5728],\n",
       "         ...,\n",
       "         [ 0.7654,  0.7479,  0.7479,  ..., -2.0007, -1.9132, -0.1625],\n",
       "         [ 0.7654,  0.7479,  0.7304,  ..., -1.8081, -1.7031, -0.1099],\n",
       "         [ 0.7654,  0.7479,  0.7479,  ...,  0.1001,  0.1527,  0.5203]],\n",
       "\n",
       "        [[ 2.2740,  2.2740,  2.2914,  ...,  2.2217,  2.2217,  2.2391],\n",
       "         [ 2.2740,  2.2740,  2.2740,  ...,  2.2217,  2.2217,  2.2217],\n",
       "         [ 2.2740,  2.2740,  2.2740,  ...,  2.2391,  2.2043,  2.2217],\n",
       "         ...,\n",
       "         [ 2.3263,  2.3088,  2.3263,  ..., -1.7347, -1.6302,  0.9494],\n",
       "         [ 2.3263,  2.3088,  2.3088,  ..., -1.4384, -1.2990,  1.0714],\n",
       "         [ 2.3263,  2.3088,  2.3263,  ...,  1.3851,  1.4200,  2.0474]]])"
      ]
     },
     "execution_count": 113,
     "metadata": {},
     "output_type": "execute_result"
    }
   ],
   "source": [
    "train_dataset[0][0]\n",
    "#train_dataset.__getitem__(0)[0]"
   ]
  },
  {
   "cell_type": "code",
   "execution_count": 123,
   "metadata": {},
   "outputs": [],
   "source": [
    "torch.manual_seed(1)\n",
    "train_loader = torch.utils.data.DataLoader(train_dataset, batch_size=4,num_workers=0,shuffle=True)\n",
    "valid_loader = torch.utils.data.DataLoader(valid_dataset, batch_size=4,num_workers=0)"
   ]
  },
  {
   "cell_type": "code",
   "execution_count": 124,
   "metadata": {},
   "outputs": [
    {
     "name": "stdout",
     "output_type": "stream",
     "text": [
      "61\n",
      "39\n"
     ]
    }
   ],
   "source": [
    "print(len(train_loader))\n",
    "print(len(valid_loader))"
   ]
  },
  {
   "cell_type": "code",
   "execution_count": 125,
   "metadata": {},
   "outputs": [],
   "source": [
    "import matplotlib.pyplot as plt\n",
    "import numpy as np\n",
    "\n",
    "def imshow(img):\n",
    "    \"\"\"Imshow for Tensor.\"\"\"\n",
    "#    print(img.shape)\n",
    "    img = img.numpy().transpose((1, 2, 0))\n",
    "    mean = np.array([0.485, 0.456, 0.406])\n",
    "    std = np.array([0.229, 0.224, 0.225])\n",
    "    img = std * img + mean\n",
    "    img = np.clip(img, 0, 1)\n",
    "#    print(\"max: {}, min: {}\".format(np.max(img), np.min(img)))\n",
    "    plt.imshow(img)\n",
    "#    print(img.shape)"
   ]
  },
  {
   "cell_type": "code",
   "execution_count": 126,
   "metadata": {},
   "outputs": [
    {
     "data": {
      "image/png": "[encoded data removed]",
      "text/plain": [
       "<Figure size 432x288 with 1 Axes>"
      ]
     },
     "metadata": {
      "needs_background": "light"
     },
     "output_type": "display_data"
    }
   ],
   "source": [
    "imshow(train_dataset[0][0])"
   ]
  },
  {
   "cell_type": "code",
   "execution_count": 127,
   "metadata": {},
   "outputs": [
    {
     "name": "stdout",
     "output_type": "stream",
     "text": [
      "torch.Size([4, 3, 224, 224])\n",
      "torch.Size([4])\n"
     ]
    },
    {
     "data": {
      "image/png": "[encoded data removed]",
      "text/plain": [
       "<Figure size 432x288 with 1 Axes>"
      ]
     },
     "metadata": {
      "needs_background": "light"
     },
     "output_type": "display_data"
    }
   ],
   "source": [
    "from torchvision import transforms, utils\n",
    "# Get a batch of training data\n",
    "images, labels = next(iter(train_loader))\n",
    "print(images.shape)\n",
    "print(labels.shape)\n",
    "# Make a grid from batch\n",
    "img_grid = utils.make_grid(images)\n",
    "imshow(img_grid)"
   ]
  },
  {
   "cell_type": "code",
   "execution_count": 128,
   "metadata": {},
   "outputs": [],
   "source": [
    "\n",
    "class CNN(nn.Module):\n",
    "    def __init__(self):\n",
    "        super().__init__()\n",
    "        self.conv1 = nn.Conv2d(in_channels = 3, out_channels = 16, kernel_size=(5, 5), stride=2, padding=1)\n",
    "        self.conv2 = nn.Conv2d(in_channels = 16, out_channels = 32, kernel_size=(5, 5), stride=2, padding=1)\n",
    "        self.conv3 = nn.Conv2d(in_channels = 32, out_channels = 64, kernel_size=(3, 3), padding=1)\n",
    "        self.fc1 = nn.Linear(in_features= 64 * 6 * 6, out_features=500)\n",
    "        self.fc2 = nn.Linear(in_features=500, out_features=50)\n",
    "        self.fc3 = nn.Linear(in_features=50, out_features=2)\n",
    "        \n",
    "        \n",
    "    def forward(self, X):\n",
    "        X = F.relu(self.conv1(X))\n",
    "        X = F.max_pool2d(X, 2)\n",
    "        \n",
    "        X = F.relu(self.conv2(X))\n",
    "        X = F.max_pool2d(X, 2)\n",
    "        \n",
    "        X = F.relu(self.conv3(X))\n",
    "        X = F.max_pool2d(X, 2)\n",
    "        \n",
    "#         print(X.shape)\n",
    "        X = X.view(X.shape[0], -1)\n",
    "        X = F.relu(self.fc1(X))\n",
    "        X = F.relu(self.fc2(X))\n",
    "        X = self.fc3(X)\n",
    "        return X\n"
   ]
  },
  {
   "cell_type": "code",
   "execution_count": 129,
   "metadata": {},
   "outputs": [
    {
     "data": {
      "text/plain": [
       "CNN(\n",
       "  (conv1): Conv2d(3, 16, kernel_size=(5, 5), stride=(2, 2), padding=(1, 1))\n",
       "  (conv2): Conv2d(16, 32, kernel_size=(5, 5), stride=(2, 2), padding=(1, 1))\n",
       "  (conv3): Conv2d(32, 64, kernel_size=(3, 3), stride=(1, 1), padding=(1, 1))\n",
       "  (fc1): Linear(in_features=2304, out_features=500, bias=True)\n",
       "  (fc2): Linear(in_features=500, out_features=50, bias=True)\n",
       "  (fc3): Linear(in_features=50, out_features=2, bias=True)\n",
       ")"
      ]
     },
     "execution_count": 129,
     "metadata": {},
     "output_type": "execute_result"
    }
   ],
   "source": [
    "torch.manual_seed(1)\n",
    "model = CNN().to(device)  \n",
    "model"
   ]
  },
  {
   "cell_type": "code",
   "execution_count": 130,
   "metadata": {},
   "outputs": [],
   "source": [
    "optimizer = optim.SGD(model.parameters(), lr=0.001, momentum=0.9)\n",
    "loss_function = nn.CrossEntropyLoss()"
   ]
  },
  {
   "cell_type": "code",
   "execution_count": 131,
   "metadata": {},
   "outputs": [
    {
     "name": "stdout",
     "output_type": "stream",
     "text": [
      "Epoch : 1, train loss : 0.69357, train accuracy : 0.50000\n",
      "Epoch : 1, valid loss : 0.68991, valid accuracy : 0.55128\n",
      "Epoch : 2, train loss : 0.69156, train accuracy : 0.53689\n",
      "Epoch : 2, valid loss : 0.68920, valid accuracy : 0.60897\n",
      "Epoch : 3, train loss : 0.68991, train accuracy : 0.55738\n",
      "Epoch : 3, valid loss : 0.68832, valid accuracy : 0.61538\n",
      "Epoch : 4, train loss : 0.68792, train accuracy : 0.55738\n",
      "Epoch : 4, valid loss : 0.68784, valid accuracy : 0.56410\n",
      "Epoch : 5, train loss : 0.68304, train accuracy : 0.62295\n",
      "Epoch : 5, valid loss : 0.68268, valid accuracy : 0.59615\n",
      "Epoch : 6, train loss : 0.67866, train accuracy : 0.60246\n",
      "Epoch : 6, valid loss : 0.68259, valid accuracy : 0.50641\n",
      "Epoch : 7, train loss : 0.66725, train accuracy : 0.60246\n",
      "Epoch : 7, valid loss : 0.66090, valid accuracy : 0.65385\n",
      "Epoch : 8, train loss : 0.65219, train accuracy : 0.62295\n",
      "Epoch : 8, valid loss : 0.65121, valid accuracy : 0.65385\n",
      "Epoch : 9, train loss : 0.64605, train accuracy : 0.64344\n",
      "Epoch : 9, valid loss : 0.65090, valid accuracy : 0.58974\n",
      "Epoch : 10, train loss : 0.61039, train accuracy : 0.68033\n",
      "Epoch : 10, valid loss : 0.61308, valid accuracy : 0.69231\n",
      "Epoch : 11, train loss : 0.59672, train accuracy : 0.64344\n",
      "Epoch : 11, valid loss : 0.66650, valid accuracy : 0.62179\n",
      "Epoch : 12, train loss : 0.55703, train accuracy : 0.72541\n",
      "Epoch : 12, valid loss : 0.59396, valid accuracy : 0.69231\n",
      "Epoch : 13, train loss : 0.53051, train accuracy : 0.72951\n",
      "Epoch : 13, valid loss : 0.64738, valid accuracy : 0.64103\n",
      "Epoch : 14, train loss : 0.53961, train accuracy : 0.76230\n",
      "Epoch : 14, valid loss : 0.58194, valid accuracy : 0.71795\n",
      "Epoch : 15, train loss : 0.49101, train accuracy : 0.78279\n",
      "Epoch : 15, valid loss : 0.64055, valid accuracy : 0.67308\n",
      "Epoch : 16, train loss : 0.47748, train accuracy : 0.76230\n",
      "Epoch : 16, valid loss : 0.80121, valid accuracy : 0.60256\n",
      "Epoch : 17, train loss : 0.51075, train accuracy : 0.71311\n",
      "Epoch : 17, valid loss : 0.65841, valid accuracy : 0.64744\n",
      "Epoch : 18, train loss : 0.43675, train accuracy : 0.78689\n",
      "Epoch : 18, valid loss : 0.60767, valid accuracy : 0.71154\n",
      "Epoch : 19, train loss : 0.39486, train accuracy : 0.84016\n",
      "Epoch : 19, valid loss : 0.62482, valid accuracy : 0.71154\n",
      "Epoch : 20, train loss : 0.34984, train accuracy : 0.85656\n",
      "Epoch : 20, valid loss : 0.81540, valid accuracy : 0.58974\n"
     ]
    }
   ],
   "source": [
    "n_epochs = 20\n",
    "\n",
    "for epoch in range(n_epochs):\n",
    "    epoch_loss = 0\n",
    "    epoch_accuracy = 0\n",
    "    \n",
    "    for images, labels in train_loader:\n",
    "        images=images.to(device)\n",
    "        labels=labels.to(device)     \n",
    "        outputs = model(images)\n",
    "        loss = loss_function(outputs, labels)\n",
    "        \n",
    "        optimizer.zero_grad()\n",
    "        loss.backward()\n",
    "        optimizer.step()\n",
    "        \n",
    "        epoch_loss += loss.item()/len(train_loader)\n",
    "        acc = ((outputs.argmax(dim=1) == labels).float().mean())\n",
    "        epoch_accuracy += acc.item()/len(train_loader)\n",
    "        \n",
    "        \n",
    "    print('Epoch : {}, train loss : {:.5f}, train accuracy : {:.5f}'.format(epoch+1, epoch_loss, epoch_accuracy))\n",
    "    \n",
    "    with torch.no_grad():\n",
    "        epoch_val_accuracy=0\n",
    "        epoch_val_loss =0\n",
    "        for images, labels in valid_loader:          \n",
    "            images=images.to(device)\n",
    "            labels=labels.to(device)    \n",
    "            val_outputs = model(images)\n",
    "            val_loss = loss_function(val_outputs,labels)\n",
    "            \n",
    "            epoch_val_loss += val_loss/ len(valid_loader)\n",
    "            acc = ((val_outputs.argmax(dim=1) == labels).float().mean())\n",
    "            epoch_val_accuracy += acc.item()/ len(valid_loader)\n",
    "           \n",
    "            \n",
    "        print('Epoch : {}, valid loss : {:.5f}, valid accuracy : {:.5f}'.format(epoch+1, epoch_val_loss, epoch_val_accuracy))"
   ]
  },
  {
   "cell_type": "markdown",
   "metadata": {},
   "source": [
    "[코드 8.2.8]"
   ]
  },
  {
   "cell_type": "code",
   "execution_count": 132,
   "metadata": {},
   "outputs": [],
   "source": [
    "torch.manual_seed(1)\n",
    "train_loader = torch.utils.data.DataLoader(train_dataset, batch_size=4,num_workers=0,shuffle=True)\n",
    "valid_loader = torch.utils.data.DataLoader(valid_dataset, batch_size=4,num_workers=0)"
   ]
  },
  {
   "cell_type": "code",
   "execution_count": 133,
   "metadata": {},
   "outputs": [],
   "source": [
    "class CNN(nn.Module):\n",
    "    def __init__(self):\n",
    "        super().__init__()\n",
    "        self.conv1 = nn.Conv2d(in_channels = 3, out_channels = 16, kernel_size=(5, 5), stride=2, padding=1)\n",
    "        self.conv2 = nn.Conv2d(in_channels = 16, out_channels = 32, kernel_size=(5, 5), stride=2, padding=1)\n",
    "        self.conv3 = nn.Conv2d(in_channels = 32, out_channels = 64, kernel_size=(3, 3), padding=1)\n",
    "        self.fc1 = nn.Linear(in_features= 64 * 6 * 6, out_features=500)\n",
    "        self.fc2 = nn.Linear(in_features=500, out_features=50)\n",
    "        self.fc3 = nn.Linear(in_features=50, out_features=2)\n",
    "        \n",
    "        \n",
    "    def forward(self, X):\n",
    "        X = F.relu(self.conv1(X))\n",
    "        X = F.max_pool2d(X, 2)\n",
    "        \n",
    "        X = F.relu(self.conv2(X))\n",
    "        X = F.max_pool2d(X, 2)\n",
    "        \n",
    "        X = F.relu(self.conv3(X))\n",
    "        X = F.max_pool2d(X, 2)\n",
    "        \n",
    "#         print(X.shape)\n",
    "        X = X.view(X.shape[0], -1)\n",
    "        X = F.relu(self.fc1(X))\n",
    "        X = F.relu(self.fc2(X))\n",
    "        X = self.fc3(X)\n",
    "        return X\n",
    "\n",
    "\n",
    "torch.manual_seed(1)\n",
    "model = CNN().to(device)  \n",
    "#model\n",
    "\n",
    "optimizer = optim.SGD(model.parameters(), lr=0.001, momentum=0.9)\n",
    "loss_function = nn.CrossEntropyLoss()"
   ]
  },
  {
   "cell_type": "code",
   "execution_count": 134,
   "metadata": {},
   "outputs": [],
   "source": [
    "n_epochs = 20\n",
    "train_losses=[]\n",
    "valid_losses=[]\n",
    "train_accuracy=[]\n",
    "valid_accuracy=[]\n",
    "for epoch in range(n_epochs):\n",
    "    epoch_loss = 0\n",
    "    epoch_accuracy = 0\n",
    "    for images, labels in train_loader:\n",
    "        images=images.to(device)\n",
    "        labels=labels.to(device)    \n",
    "        outputs = model(images)\n",
    "        loss = loss_function(outputs, labels)\n",
    "        optimizer.zero_grad()  \n",
    "        loss.backward()\n",
    "        optimizer.step()         \n",
    "               \n",
    "        epoch_loss += loss.item()/len(train_loader)\n",
    "        acc = ((outputs.argmax(dim=1) == labels).float().mean())\n",
    "        epoch_accuracy += acc.item()/len(train_loader)\n",
    "    train_losses.append(epoch_loss)  \n",
    "    train_accuracy.append(epoch_accuracy)  \n",
    "#    print('Epoch : {}, train loss : {:.5f}, train accuracy : {:.5f}'.format(epoch+1, epoch_loss, epoch_accuracy))\n",
    "    \n",
    "    with torch.no_grad():\n",
    "        epoch_valid_accuracy=0\n",
    "        epoch_valid_loss =0\n",
    "        for images, labels in valid_loader:          \n",
    "            images=images.to(device)\n",
    "            labels=labels.to(device)    \n",
    "            valid_outputs = model(images)\n",
    "            valid_loss = loss_function(valid_outputs, labels)\n",
    "            \n",
    "            epoch_valid_loss += valid_loss.item()/ len(valid_loader)\n",
    "            acc = ((valid_outputs.argmax(dim=1) == labels).float().mean())\n",
    "            epoch_valid_accuracy += acc.item()/ len(valid_loader)\n",
    "        valid_losses.append(epoch_valid_loss) \n",
    "        valid_accuracy.append(epoch_valid_accuracy)  \n",
    "#        print('Epoch : {}, test loss : {:.5f}, test accuracy : {:.5f}'.format(epoch+1, epoch_test_loss, epoch_test_accuracy))"
   ]
  },
  {
   "cell_type": "code",
   "execution_count": 135,
   "metadata": {},
   "outputs": [
    {
     "data": {
      "image/png": "[encoded data removed]",
      "text/plain": [
       "<Figure size 432x288 with 1 Axes>"
      ]
     },
     "metadata": {
      "needs_background": "light"
     },
     "output_type": "display_data"
    }
   ],
   "source": [
    "#plot the loss function\n",
    "import matplotlib.pylab as plt\n",
    "plt.title(\"Train and Valid Loss\")\n",
    "plt.plot(range(n_epochs),train_losses, label=\"train\")\n",
    "plt.plot(range(n_epochs),valid_losses, label=\"valid\")\n",
    "plt.xlabel('Epoch')\n",
    "plt.ylabel('Loss')\n",
    "plt.legend()\n",
    "plt.show()"
   ]
  },
  {
   "cell_type": "code",
   "execution_count": 136,
   "metadata": {},
   "outputs": [
    {
     "data": {
      "text/plain": [
       "<matplotlib.legend.Legend at 0x1ed67e57af0>"
      ]
     },
     "execution_count": 136,
     "metadata": {},
     "output_type": "execute_result"
    },
    {
     "data": {
      "image/png": "[encoded data removed]",
      "text/plain": [
       "<Figure size 432x288 with 1 Axes>"
      ]
     },
     "metadata": {
      "needs_background": "light"
     },
     "output_type": "display_data"
    }
   ],
   "source": [
    "#plot the accuracy function\n",
    "import matplotlib.pylab as plt\n",
    "plt.title(\"Train and Valid accuracy\")\n",
    "plt.plot(range(n_epochs),train_accuracy, label=\"train\")\n",
    "plt.plot(range(n_epochs),valid_accuracy, label=\"valid\")\n",
    "plt.xlabel('Epoch')\n",
    "plt.ylabel('Loss')\n",
    "plt.legend()"
   ]
  },
  {
   "cell_type": "code",
   "execution_count": null,
   "metadata": {},
   "outputs": [],
   "source": []
  }
 ],
 "metadata": {
  "kernelspec": {
   "display_name": "Python 3",
   "language": "python",
   "name": "python3"
  },
  "language_info": {
   "codemirror_mode": {
    "name": "ipython",
    "version": 3
   },
   "file_extension": ".py",
   "mimetype": "text/x-python",
   "name": "python",
   "nbconvert_exporter": "python",
   "pygments_lexer": "ipython3",
   "version": "3.8.3"
  }
 },
 "nbformat": 4,
 "nbformat_minor": 5
}
