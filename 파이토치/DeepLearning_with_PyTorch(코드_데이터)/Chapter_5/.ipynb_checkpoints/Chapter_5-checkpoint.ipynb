{
 "cells": [
  {
   "cell_type": "markdown",
   "id": "7515b3c5",
   "metadata": {},
   "source": [
    "[코드 5.1.1]"
   ]
  },
  {
   "cell_type": "code",
   "execution_count": null,
   "id": "db6ff54f",
   "metadata": {},
   "outputs": [],
   "source": [
    "theta =0\n",
    "def AND(x1, x2):\n",
    "    w1,w2,w0=0.5, 0.5, -0.7\n",
    "    sum=w1*x1+w2*x2+w0\n",
    "    if sum > theta :\n",
    "        return 1\n",
    "    else :\n",
    "        return 0\n",
    "\n",
    "print(\"AND(0,0)=\",AND(0,0))\n",
    "print(\"AND(0,1)=\",AND(0,1))\n",
    "print(\"AND(1,0)=\",AND(1,0))\n",
    "print(\"AND(1,1)=\",AND(1,1))"
   ]
  },
  {
   "cell_type": "markdown",
   "id": "b078e202",
   "metadata": {},
   "source": [
    "[코드 5.1.2]"
   ]
  },
  {
   "cell_type": "code",
   "execution_count": null,
   "id": "49e4371e",
   "metadata": {},
   "outputs": [],
   "source": [
    "import numpy as np\n",
    "theta =0\n",
    "def AND(x1, x2):\n",
    "    X=np.array([x1, x2])\n",
    "    W=np.array([0.5, 0.5])\n",
    "    w0= -0.7\n",
    "    sum=np.dot(W,X)+w0\n",
    "    if sum > theta :\n",
    "        return 1\n",
    "    else :\n",
    "        return 0\n",
    "\n",
    "print(\"AND(0,0)=\",AND(0,0))\n",
    "print(\"AND(0,1)=\",AND(0,1))\n",
    "print(\"AND(1,0)=\",AND(1,0))\n",
    "print(\"AND(1,1)=\",AND(1,1))"
   ]
  },
  {
   "cell_type": "markdown",
   "id": "780ba8a4",
   "metadata": {},
   "source": [
    "[코드 5.1.3]"
   ]
  },
  {
   "cell_type": "code",
   "execution_count": null,
   "id": "49f9ebc5",
   "metadata": {},
   "outputs": [],
   "source": [
    "theta =0\n",
    "def OR(x1,x2):\n",
    "    w1,w2,w0=0.5, 0.5, -0.2\n",
    "    sum=w1*x1+w2*x2+w0\n",
    "    if sum > theta :\n",
    "        return 1\n",
    "    else :\n",
    "        return 0\n",
    "\n",
    "print(\"OR(0,0)=\",OR(0,0))\n",
    "print(\"OR(0,1)=\",OR(0,1))\n",
    "print(\"OR(1,0)=\",OR(1,0))\n",
    "print(\"OR(1,1)=\",OR(1,1))"
   ]
  },
  {
   "cell_type": "markdown",
   "id": "41331d11",
   "metadata": {},
   "source": [
    "[코드 5.1.4]"
   ]
  },
  {
   "cell_type": "code",
   "execution_count": null,
   "id": "8cecfcd0",
   "metadata": {},
   "outputs": [],
   "source": [
    "def OR(x1,x2):\n",
    "    X = np.array([x1,x2])\n",
    "    W = np.array([0.5,0.5])\n",
    "    b = -0.2\n",
    "    sum=np.dot(W,X)+b\n",
    "    if sum > theta :\n",
    "        return 1\n",
    "    else :\n",
    "        return 0\n",
    "\n",
    "print(\"OR(0,0)=\",OR(0,0))\n",
    "print(\"OR(0,1)=\",OR(0,1))\n",
    "print(\"OR(1,0)=\",OR(1,0))\n",
    "print(\"OR(1,1)=\",OR(1,1))"
   ]
  },
  {
   "cell_type": "markdown",
   "id": "98acb340",
   "metadata": {},
   "source": [
    "[코드 5.1.5]"
   ]
  },
  {
   "cell_type": "code",
   "execution_count": 2,
   "id": "7c6660e6",
   "metadata": {},
   "outputs": [
    {
     "name": "stdout",
     "output_type": "stream",
     "text": [
      "epoch=0, 1-th data, weights=[ 0.4  0.1 -0.3]\n",
      "epoch=0, 2-th data, weights=[ 0.4  0.1 -0.3]\n",
      "epoch=0, 3-th data, weights=[ 0.35  0.1  -0.35]\n",
      "epoch=0, 4-th data, weights=[ 0.35  0.1  -0.35]\n",
      "\n",
      "epoch=1, 1-th data, weights=[ 0.35  0.1  -0.35]\n",
      "epoch=1, 2-th data, weights=[ 0.35  0.1  -0.35]\n",
      "epoch=1, 3-th data, weights=[ 0.3  0.1 -0.4]\n",
      "epoch=1, 4-th data, weights=[ 0.3  0.1 -0.4]\n",
      "\n",
      "epoch=2, 1-th data, weights=[ 0.3  0.1 -0.4]\n",
      "epoch=2, 2-th data, weights=[ 0.3  0.1 -0.4]\n",
      "epoch=2, 3-th data, weights=[ 0.3  0.1 -0.4]\n",
      "epoch=2, 4-th data, weights=[ 0.3  0.1 -0.4]\n",
      "\n"
     ]
    }
   ],
   "source": [
    "import numpy as np\n",
    "from numpy import dot\n",
    "\n",
    "training_data = [\n",
    "    (np.array([0,0,1]), 0),\n",
    "    (np.array([0,1,1]), 0),\n",
    "    (np.array([1,0,1]), 0),\n",
    "    (np.array([1,1,1]), 1),\n",
    "]\n",
    "\n",
    "#print('input data :', training_data)\n",
    "#print('input data type :', type(training_data))\n",
    "#step function \n",
    "#step = lambda x: 0 if x < 0 else 1\n",
    "\n",
    "def step (x):\n",
    "    if x >= 0:\n",
    "        return 1\n",
    "    else:\n",
    "        return 0\n",
    "#initial weights\n",
    "w=np.array([0.4, 0.1, -0.3])\n",
    "\n",
    "learning_rate = 0.05\n",
    "epochs = 3\n",
    "\n",
    "for epoch in range(epochs):\n",
    "    for i in range(len(training_data)):\n",
    "        x, target = training_data[i]      \n",
    "        weighted_sum = dot(w, x)\n",
    "        error = target - step(weighted_sum)     \n",
    "        w += learning_rate * error * x\n",
    "        print('epoch={}, {}-th data, weights={}'.format(epoch,i+1,w))\n",
    "    print(\"\")   "
   ]
  },
  {
   "cell_type": "code",
   "execution_count": 3,
   "id": "4faa6364",
   "metadata": {},
   "outputs": [
    {
     "name": "stdout",
     "output_type": "stream",
     "text": [
      "weights=[ 0.3  0.1 -0.4]\n",
      "[0 0]: -0.39999999999999997 -> 0\n",
      "[0 1]: -0.29999999999999993 -> 0\n",
      "[1 0]: -0.09999999999999992 -> 0\n",
      "[1 1]: 5.551115123125783e-17 -> 1\n"
     ]
    }
   ],
   "source": [
    "print('weights={}'.format(w))\n",
    "for x, _ in training_data:\n",
    "    weighted_sum = dot(w, x)\n",
    "    print(\"{}: {} -> {}\".format(x[:2], weighted_sum, step(weighted_sum)))"
   ]
  },
  {
   "cell_type": "code",
   "execution_count": null,
   "id": "b6ad09d5",
   "metadata": {},
   "outputs": [],
   "source": [
    "[코드 5.1.6]"
   ]
  },
  {
   "cell_type": "code",
   "execution_count": 4,
   "id": "71e956cf",
   "metadata": {},
   "outputs": [
    {
     "name": "stdout",
     "output_type": "stream",
     "text": [
      "weights=[ 0.267022    0.42032449 -0.49988563]\n",
      "[0 0]: -0.49988562518265506 -> 0\n",
      "[0 1]: -0.07956113174049712 -> 0\n",
      "[1 0]: -0.23286362048008102 -> 0\n",
      "[1 1]: 0.18746087296207686 -> 1\n"
     ]
    }
   ],
   "source": [
    "import numpy as np\n",
    "from numpy import dot, random\n",
    "\n",
    "training_data = [\n",
    "    (np.array([0,0,1]), 0),\n",
    "    (np.array([0,1,1]), 0),\n",
    "    (np.array([1,0,1]), 0),\n",
    "    (np.array([1,1,1]), 1),\n",
    "]\n",
    "\n",
    "#step function \n",
    "#step = lambda x: 0 if x < 0 else 1\n",
    "\n",
    "def step (x):\n",
    "    if x >= 0:\n",
    "        return 1\n",
    "    else:\n",
    "        return 0\n",
    "    \n",
    "random.seed(1)\n",
    "w = random.rand(3)\n",
    "learning_rate = 0.05\n",
    "epochs = 100\n",
    "\n",
    "for epoch in range(epochs):\n",
    "    for i in range(len(training_data)):\n",
    "        x, target = training_data[i]      \n",
    "        weighted_sum = dot(w, x)\n",
    "        error = target - step(weighted_sum)     \n",
    "        w += learning_rate * error * x\n",
    "#        print('epoch={}, {}-th data, weights={}'.format(epoch+1,i+1,w))\n",
    "\n",
    "print('weights={}'.format(w))\n",
    "for x, _ in training_data:\n",
    "    weighted_sum = dot(w, x)\n",
    "    print(\"{}: {} -> {}\".format(x[:2], weighted_sum, step(weighted_sum)))    "
   ]
  },
  {
   "cell_type": "markdown",
   "id": "b4564914",
   "metadata": {},
   "source": [
    "[코드 5.2.1]"
   ]
  },
  {
   "cell_type": "code",
   "execution_count": 5,
   "id": "1b7f0159",
   "metadata": {},
   "outputs": [],
   "source": [
    "import numpy as np\n",
    "theta =0\n",
    "def AND(x1, x2):\n",
    "    X=np.array([x1, x2])\n",
    "    W=np.array([0.5, 0.5])\n",
    "    b= -0.7\n",
    "    sum=np.dot(W,X)+b\n",
    "    if sum > theta :\n",
    "        return 1\n",
    "    else :\n",
    "        return 0"
   ]
  },
  {
   "cell_type": "code",
   "execution_count": 6,
   "id": "295d2da0",
   "metadata": {},
   "outputs": [],
   "source": [
    "theta =0\n",
    "def NAND(x1, x2):\n",
    "    X=np.array([x1, x2])\n",
    "    W=np.array([-0.5, -0.5])\n",
    "    b= 0.7\n",
    "    sum=np.dot(W,X)+b\n",
    "    if sum > theta :\n",
    "        return 1\n",
    "    else :\n",
    "        return 0"
   ]
  },
  {
   "cell_type": "code",
   "execution_count": 7,
   "id": "9004dcd5",
   "metadata": {},
   "outputs": [],
   "source": [
    "def OR(x1, x2):\n",
    "    X=np.array([x1, x2])\n",
    "    W=np.array([0.5, 0.5])\n",
    "    b= -0.2\n",
    "    sum=np.dot(W,X)+b\n",
    "    if sum > theta :\n",
    "        return 1\n",
    "    else :\n",
    "        return 0"
   ]
  },
  {
   "cell_type": "code",
   "execution_count": 8,
   "id": "8ace7fd5",
   "metadata": {},
   "outputs": [],
   "source": [
    "def XOR(x1, x2):\n",
    "    s1=NAND(x1, x2)\n",
    "    s2=OR(x1, x2)\n",
    "    y=AND(s1,s2)\n",
    "    return y\n",
    "    if sum > theta :\n",
    "        return 1\n",
    "    else :\n",
    "        return 0"
   ]
  },
  {
   "cell_type": "code",
   "execution_count": 9,
   "id": "ba5e63e1",
   "metadata": {},
   "outputs": [
    {
     "name": "stdout",
     "output_type": "stream",
     "text": [
      "XOR(0,0)= 0\n",
      "XOR(0,1)= 1\n",
      "XOR(1,0)= 1\n",
      "XOR(1,1)= 0\n"
     ]
    }
   ],
   "source": [
    "print(\"XOR(0,0)=\",XOR(0,0))\n",
    "print(\"XOR(0,1)=\",XOR(0,1))\n",
    "print(\"XOR(1,0)=\",XOR(1,0))\n",
    "print(\"XOR(1,1)=\",XOR(1,1))"
   ]
  },
  {
   "cell_type": "markdown",
   "id": "44b895ed",
   "metadata": {},
   "source": [
    "[코드 5.3.1]"
   ]
  },
  {
   "cell_type": "code",
   "execution_count": 34,
   "id": "db6654e0",
   "metadata": {},
   "outputs": [
    {
     "name": "stdout",
     "output_type": "stream",
     "text": [
      "Initial weights : 0.5,  0.2, bias : 1.83\n",
      "\n",
      "epoch = 0\n",
      "\n",
      "Forward propagation process\n",
      "weighted sum : 1.9400000000000002\n",
      "y_pred : 0.87435\n",
      "Loss : 0.35647\n",
      "\n",
      "Backpropagation process\n",
      "dL/dy = 0.84435\n",
      "dy/ds = 0.10986\n",
      "ds/dw1 = 0.10000\n",
      "ds/dw2 = 0.30000\n",
      "ds/db = 1.00000\n",
      "\n",
      "dL/dw1 = dL/dy*dy/ds*ds/dw1 = 0.00928\n",
      "dL/dw2 = dL/dy*dy/ds*ds/dw2 = 0.02783\n",
      "dL/db = dL/dy*dy/ds*ds/db = 0.09276\n",
      "\n",
      "w1 = w1 - alpha*dL/dw1 = 0.49991\n",
      "w2 = w2 - alpha*dL/dw2 = 0.19972\n",
      "b = b - alpha*dL/db = 1.82907\n"
     ]
    }
   ],
   "source": [
    "import numpy as np\n",
    "\n",
    "def sigmoid(x):\n",
    "    return 1.0/(1+np.exp(-1*x))\n",
    "\n",
    "def Loss_function(predicted, target):\n",
    "    return (1/2)*np.power(predicted-target, 2)\n",
    "\n",
    "def Loss_function_deriv(predicted, target):\n",
    "    return (predicted-target)\n",
    "\n",
    "def sigmoid_deriv(x):\n",
    "    return sigmoid(x)*(1.0-sigmoid(x))\n",
    "\n",
    "def s_w_deriv(x):\n",
    "    return x\n",
    "\n",
    "def update_w(w, grad, learning_rate):\n",
    "    return w - learning_rate*grad\n",
    "\n",
    "\n",
    "x1=0.1\n",
    "x2=0.3\n",
    "x0 =1\n",
    "target = 0.03\n",
    "learning_rate = 0.01\n",
    "\n",
    "#w1=numpy.random.rand()\n",
    "#w2=numpy.random.rand()\n",
    "\n",
    "w1=0.5\n",
    "w2=0.2\n",
    "b=1.83\n",
    "\n",
    "print(\"Initial weights : {},  {}, bias : {}\".format(w1, w2, b))\n",
    "\n",
    "#epochs = 10000\n",
    "epochs=1\n",
    "for epoch in range(epochs):    \n",
    "    print(\"\\nepoch = {:}\".format(epoch))   \n",
    "    # Forward Pass\n",
    "    print(\"\\nForward propagation process\")\n",
    "    s = w1*x1 + w2*x2 + b\n",
    "    print('weighted sum :',s)\n",
    "    y_pred = sigmoid(s)\n",
    "    print(\"y_pred : {:.5f}\".format(y_pred))\n",
    "    \n",
    "    Loss = Loss_function(y_pred, target)\n",
    "    print(\"Loss : {:.5f}\".format(Loss))\n",
    "    \n",
    "    # Backward Pass\n",
    "    print(\"\\nBackpropagation process\")\n",
    "    g1 = Loss_function_deriv(y_pred, target)\n",
    "    print(\"dL/dy = {:.5f}\".format(g1))\n",
    "    g2 = sigmoid_deriv(s)\n",
    "    print(\"dy/ds = {:.5f}\".format(g2))   \n",
    "    g3w1 = s_w_deriv(x1)\n",
    "    g3w2 = s_w_deriv(x2)\n",
    "    g3b = s_w_deriv(x0)\n",
    "    print(\"ds/dw1 = {:.5f}\".format(g3w1))   \n",
    "    print(\"ds/dw2 = {:.5f}\".format(g3w2))   \n",
    "    print(\"ds/db = {:.5f}\".format(g3b))   \n",
    "    \n",
    "    gradw1 = g3w1*g2*g1\n",
    "    gradw2 = g3w2*g2*g1\n",
    "    gradb = g3b*g2*g1\n",
    "     \n",
    "    print(\"\\ndL/dw1 = dL/dy*dy/ds*ds/dw1 = {:.5f}\".format(gradw1))   \n",
    "    print(\"dL/dw2 = dL/dy*dy/ds*ds/dw2 = {:.5f}\".format(gradw2)) \n",
    "    print(\"dL/db = dL/dy*dy/ds*ds/db = {:.5f}\".format(gradb)) \n",
    "    \n",
    "    w1 = update_w(w1, gradw1, learning_rate)\n",
    "    w2 = update_w(w2, gradw2, learning_rate)\n",
    "    b = update_w(b, gradb, learning_rate)\n",
    "    print(\"\\nw1 = w1 - alpha*dL/dw1 = {:.5f}\".format(w1))   \n",
    "    print(\"w2 = w2 - alpha*dL/dw2 = {:.5f}\".format(w2))   \n",
    "    print(\"b = b - alpha*dL/db = {:.5f}\".format(b)) "
   ]
  },
  {
   "cell_type": "markdown",
   "id": "3a6d8c36",
   "metadata": {},
   "source": [
    "[코드 5.3.2]"
   ]
  },
  {
   "cell_type": "code",
   "execution_count": 35,
   "id": "9ada71f1",
   "metadata": {},
   "outputs": [
    {
     "name": "stdout",
     "output_type": "stream",
     "text": [
      "initial weights  w1=0.41702, w2=0.72032, b=0.00011\n",
      "w1 = w1 - alpha*dL/dw1 = 0.18426\n",
      "w2 = w2 - alpha*dL/dw2 = 0.02205\n",
      "b = b - alpha*dL/db = -2.32748\n"
     ]
    }
   ],
   "source": [
    "import numpy as np\n",
    "from numpy import random\n",
    "\n",
    "def sigmoid(x):\n",
    "    return 1.0/(1+np.exp(-1*x))\n",
    "\n",
    "def Loss_function(predicted, target):\n",
    "    return (1/2)*np.power(predicted-target, 2)\n",
    "\n",
    "def Loss_function_deriv(predicted, target):\n",
    "    return (predicted-target)\n",
    "\n",
    "def sigmoid_deriv(x):\n",
    "    return sigmoid(x)*(1.0-sigmoid(x))\n",
    "\n",
    "def s_w_deriv(x):\n",
    "    return x\n",
    "\n",
    "def update_w(w, grad, learning_rate):\n",
    "    return w - learning_rate*grad\n",
    "\n",
    "x1 = 0.1\n",
    "x2 = 0.3\n",
    "x0 = 1\n",
    "target = 0.03\n",
    "learning_rate = 0.01\n",
    "\n",
    "random.seed(1)\n",
    "w1=np.random.rand()\n",
    "w2=np.random.rand()\n",
    "b=np.random.rand()\n",
    "#w1=0.5\n",
    "#w2=0.2\n",
    "#b=1.83\n",
    "\n",
    "print(\"initial weights  w1={:.5f}, w2={:.5f}, b={:.5f}\".format(w1,w2,b))\n",
    "epochs_loss = []\n",
    "epochs = 10000\n",
    "for epoch in range(epochs):\n",
    "\n",
    "    # Forward Pass\n",
    "    s = w1*x1 + w2*x2 + b\n",
    "    y_pred = sigmoid(s)   \n",
    "    \n",
    "    Loss = Loss_function(y_pred, target)    \n",
    "    \n",
    "    epochs_loss.append(Loss)\n",
    "\n",
    "    # Backward Pass\n",
    "    g1 = Loss_function_deriv(y_pred, target)   \n",
    "    g2 = sigmoid_deriv(s)\n",
    "    \n",
    "    g3w1 = s_w_deriv(x1)\n",
    "    g3w2 = s_w_deriv(x2)\n",
    "    g3b = s_w_deriv(x0)\n",
    "        \n",
    "    gradw1 = g3w1*g2*g1\n",
    "    gradw2 = g3w2*g2*g1\n",
    "    gradb = g3b*g2*g1\n",
    "    \n",
    "    w1 = update_w(w1, gradw1, learning_rate)\n",
    "    w2 = update_w(w2, gradw2, learning_rate)\n",
    "    b = update_w(b, gradb, learning_rate)\n",
    "    \n",
    "print(\"w1 = w1 - alpha*dL/dw1 = {:.5f}\".format(w1))   \n",
    "print(\"w2 = w2 - alpha*dL/dw2 = {:.5f}\".format(w2))   \n",
    "print(\"b = b - alpha*dL/db = {:.5f}\".format(b)) "
   ]
  },
  {
   "cell_type": "code",
   "execution_count": 23,
   "id": "d0acbfc3",
   "metadata": {},
   "outputs": [
    {
     "data": {
      "text/plain": [
       "Text(0, 0.5, 'Loss')"
      ]
     },
     "execution_count": 23,
     "metadata": {},
     "output_type": "execute_result"
    },
    {
     "data": {
      "image/png": "[encoded data removed]",
      "text/plain": [
       "<Figure size 432x288 with 1 Axes>"
      ]
     },
     "metadata": {
      "needs_background": "light"
     },
     "output_type": "display_data"
    }
   ],
   "source": [
    "import matplotlib.pyplot\n",
    "\n",
    "matplotlib.pyplot.figure()\n",
    "matplotlib.pyplot.plot(epochs_loss)\n",
    "matplotlib.pyplot.title(\"Epochs vs Loss\")\n",
    "matplotlib.pyplot.xlabel(\"Epochs\")\n",
    "matplotlib.pyplot.ylabel(\"Loss\")"
   ]
  }
 ],
 "metadata": {
  "kernelspec": {
   "display_name": "Python 3 (ipykernel)",
   "language": "python",
   "name": "python3"
  },
  "language_info": {
   "codemirror_mode": {
    "name": "ipython",
    "version": 3
   },
   "file_extension": ".py",
   "mimetype": "text/x-python",
   "name": "python",
   "nbconvert_exporter": "python",
   "pygments_lexer": "ipython3",
   "version": "3.9.7"
  }
 },
 "nbformat": 4,
 "nbformat_minor": 5
}
