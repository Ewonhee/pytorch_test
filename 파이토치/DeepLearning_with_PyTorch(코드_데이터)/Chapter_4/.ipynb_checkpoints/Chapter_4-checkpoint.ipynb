{
 "cells": [
  {
   "cell_type": "markdown",
   "id": "f4cba289",
   "metadata": {},
   "source": [
    "[코드 4.2.1]"
   ]
  },
  {
   "cell_type": "code",
   "execution_count": 1,
   "id": "223afb9e",
   "metadata": {},
   "outputs": [
    {
     "name": "stdout",
     "output_type": "stream",
     "text": [
      "<class 'pandas.core.frame.DataFrame'>\n",
      "Int64Index: 30 entries, 16 to 19\n",
      "Data columns (total 4 columns):\n",
      " #   Column           Non-Null Count  Dtype  \n",
      "---  ------           --------------  -----  \n",
      " 0   gmat             30 non-null     int64  \n",
      " 1   gpa              30 non-null     float64\n",
      " 2   work_experience  30 non-null     int64  \n",
      " 3   admitted         30 non-null     int64  \n",
      "dtypes: float64(1), int64(3)\n",
      "memory usage: 1.2 KB\n",
      "None\n"
     ]
    }
   ],
   "source": [
    "# importing libraries\n",
    "import statsmodels.api as sm\n",
    "import pandas as pd\n",
    "\n",
    "# loading the training dataset\n",
    "df = pd.read_csv('student_admission_train.csv', index_col = 0)\n",
    "print(df.info())"
   ]
  },
  {
   "cell_type": "code",
   "execution_count": 2,
   "id": "1826edc9",
   "metadata": {},
   "outputs": [
    {
     "name": "stdout",
     "output_type": "stream",
     "text": [
      "    gmat  gpa  work_experience  admitted\n",
      "16   580  2.7                4         0\n",
      "33   660  3.3                6         1\n",
      "8    740  3.3                5         1\n",
      "38   590  1.7                4         0\n",
      "32   660  4.0                4         1\n"
     ]
    }
   ],
   "source": [
    "print(df.head())"
   ]
  },
  {
   "cell_type": "code",
   "execution_count": 3,
   "id": "b0ab52c0",
   "metadata": {},
   "outputs": [
    {
     "name": "stdout",
     "output_type": "stream",
     "text": [
      "<class 'pandas.core.frame.DataFrame'>\n",
      "<class 'pandas.core.frame.DataFrame'>\n",
      "(30, 3)\n",
      "(30, 1)\n"
     ]
    }
   ],
   "source": [
    "X = df[['gmat', 'gpa','work_experience']]\n",
    "Y = df[['admitted']]\n",
    "\n",
    "print(type(X))\n",
    "print(type(Y))\n",
    "print(X.shape)\n",
    "print(Y.shape)"
   ]
  },
  {
   "cell_type": "code",
   "execution_count": 4,
   "id": "2f20b417",
   "metadata": {},
   "outputs": [
    {
     "name": "stdout",
     "output_type": "stream",
     "text": [
      "Optimization terminated successfully.\n",
      "         Current function value: 0.247296\n",
      "         Iterations 8\n"
     ]
    },
    {
     "name": "stderr",
     "output_type": "stream",
     "text": [
      "C:\\Users\\user\\anaconda3\\lib\\site-packages\\statsmodels\\tsa\\tsatools.py:142: FutureWarning: In a future version of pandas all arguments of concat except for the argument 'objs' will be keyword-only\n",
      "  x = pd.concat(x[::order], 1)\n"
     ]
    }
   ],
   "source": [
    "import statsmodels.api as sm\n",
    "X = sm.add_constant(X)\n",
    "model = sm.Logit(Y, X)\n",
    "results = model.fit()"
   ]
  },
  {
   "cell_type": "code",
   "execution_count": 5,
   "id": "1ad8aa60",
   "metadata": {},
   "outputs": [
    {
     "name": "stdout",
     "output_type": "stream",
     "text": [
      "                           Logit Regression Results                           \n",
      "==============================================================================\n",
      "Dep. Variable:               admitted   No. Observations:                   30\n",
      "Model:                          Logit   Df Residuals:                       26\n",
      "Method:                           MLE   Df Model:                            3\n",
      "Date:                Fri, 25 Feb 2022   Pseudo R-squ.:                  0.6432\n",
      "Time:                        14:45:28   Log-Likelihood:                -7.4189\n",
      "converged:                       True   LL-Null:                       -20.794\n",
      "Covariance Type:            nonrobust   LLR p-value:                 6.639e-06\n",
      "===================================================================================\n",
      "                      coef    std err          z      P>|z|      [0.025      0.975]\n",
      "-----------------------------------------------------------------------------------\n",
      "const             -16.3315      8.601     -1.899      0.058     -33.189       0.526\n",
      "gmat                0.0025      0.018      0.141      0.888      -0.032       0.037\n",
      "gpa                 3.3208      2.397      1.385      0.166      -1.378       8.020\n",
      "work_experience     0.9975      0.585      1.704      0.088      -0.150       2.145\n",
      "===================================================================================\n"
     ]
    }
   ],
   "source": [
    "print(results.summary())"
   ]
  },
  {
   "cell_type": "code",
   "execution_count": 6,
   "id": "08a153cf",
   "metadata": {},
   "outputs": [
    {
     "name": "stdout",
     "output_type": "stream",
     "text": [
      "   const  gmat  gpa  work_experience\n",
      "0      1   590    2                3\n"
     ]
    }
   ],
   "source": [
    "new_candidates = {'const':[1],\n",
    "                  'gmat': [590],\n",
    "                  'gpa': [2],\n",
    "                  'work_experience': [3]\n",
    "                  }\n",
    "df2 = pd.DataFrame(new_candidates)\n",
    "print(df2)"
   ]
  },
  {
   "cell_type": "code",
   "execution_count": 7,
   "id": "9a357d78",
   "metadata": {},
   "outputs": [
    {
     "name": "stdout",
     "output_type": "stream",
     "text": [
      "0    0.005377\n",
      "dtype: float64\n"
     ]
    }
   ],
   "source": [
    "y_pred=results.predict(df2)\n",
    "print (y_pred)"
   ]
  },
  {
   "cell_type": "code",
   "execution_count": 8,
   "id": "19f654fc",
   "metadata": {},
   "outputs": [
    {
     "name": "stdout",
     "output_type": "stream",
     "text": [
      "   const  gmat  gpa  work_experience\n",
      "0      1   590  2.0                3\n",
      "1      1   740  3.7                4\n",
      "2      1   680  3.3                6\n",
      "3      1   610  2.3                1\n",
      "4      1   710  3.0                5\n"
     ]
    }
   ],
   "source": [
    "new_candidates = {'const':[1,1,1,1,1],\n",
    "                  'gmat': [590,740,680,610,710],\n",
    "                  'gpa': [2,3.7,3.3,2.3,3],\n",
    "                  'work_experience': [3,4,6,1,5]\n",
    "                  }\n",
    "\n",
    "df2 = pd.DataFrame(new_candidates,columns= ['const', 'gmat', 'gpa','work_experience'])\n",
    "\n",
    "print(df2)"
   ]
  },
  {
   "cell_type": "code",
   "execution_count": 9,
   "id": "bc732d1d",
   "metadata": {},
   "outputs": [
    {
     "name": "stdout",
     "output_type": "stream",
     "text": [
      "0    0.005377\n",
      "1    0.857911\n",
      "2    0.910066\n",
      "3    0.002089\n",
      "4    0.597692\n",
      "dtype: float64\n"
     ]
    }
   ],
   "source": [
    "y_pred=results.predict(df2)\n",
    "print (y_pred)"
   ]
  },
  {
   "cell_type": "code",
   "execution_count": 10,
   "id": "2e679a19",
   "metadata": {},
   "outputs": [
    {
     "name": "stdout",
     "output_type": "stream",
     "text": [
      "0    0\n",
      "1    1\n",
      "2    1\n",
      "3    0\n",
      "4    1\n",
      "dtype: int8\n"
     ]
    }
   ],
   "source": [
    "import numpy as np\n",
    "threshold = 0.5\n",
    "#y_pred = (y_pred > threshold) \n",
    "y_pred = (y_pred > threshold).astype(np.int8) \n",
    "print(y_pred)"
   ]
  },
  {
   "cell_type": "code",
   "execution_count": 34,
   "id": "dece5a06",
   "metadata": {},
   "outputs": [
    {
     "data": {
      "image/png": "[encoded data removed]",
      "text/plain": [
       "<Figure size 432x288 with 1 Axes>"
      ]
     },
     "metadata": {
      "needs_background": "light"
     },
     "output_type": "display_data"
    }
   ],
   "source": [
    "import numpy as np\n",
    "import matplotlib.pyplot as plt\n",
    "\n",
    "h = np.linspace(0, 1)[1:-1]\n",
    "for y in [0, 1]:\n",
    "    if y==0:\n",
    "         plt.plot(h, - (1 - y) * np.log(1 - h), 'r--', label=\"y = 0, - log(1-p(x))\")\n",
    "    else:\n",
    "         plt.plot(h, -y * np.log(h), 'g', label=\"y = 1, -log(p(x)\")\n",
    "plt.title(\"Logistic Loss Function\") \n",
    "plt.xlabel('p(x)'); plt.ylabel('$Loss$')\n",
    "plt.legend();"
   ]
  },
  {
   "cell_type": "markdown",
   "id": "682b926e",
   "metadata": {},
   "source": [
    "[코드 4.3.1]"
   ]
  },
  {
   "cell_type": "code",
   "execution_count": 35,
   "id": "bbcd7e01",
   "metadata": {},
   "outputs": [],
   "source": [
    "# importing libraries\n",
    "import pandas as pd\n",
    "from sklearn.linear_model import LogisticRegression"
   ]
  },
  {
   "cell_type": "code",
   "execution_count": 36,
   "id": "820cf36d",
   "metadata": {},
   "outputs": [
    {
     "name": "stdout",
     "output_type": "stream",
     "text": [
      "<class 'pandas.core.frame.DataFrame'>\n",
      "Int64Index: 30 entries, 16 to 19\n",
      "Data columns (total 4 columns):\n",
      " #   Column           Non-Null Count  Dtype  \n",
      "---  ------           --------------  -----  \n",
      " 0   gmat             30 non-null     int64  \n",
      " 1   gpa              30 non-null     float64\n",
      " 2   work_experience  30 non-null     int64  \n",
      " 3   admitted         30 non-null     int64  \n",
      "dtypes: float64(1), int64(3)\n",
      "memory usage: 1.2 KB\n",
      "None\n"
     ]
    }
   ],
   "source": [
    "# loading the training dataset\n",
    "df = pd.read_csv('student_admission_train.csv', index_col = 0)\n",
    "print(df.info())"
   ]
  },
  {
   "cell_type": "code",
   "execution_count": 37,
   "id": "f0eea5e5",
   "metadata": {},
   "outputs": [
    {
     "name": "stdout",
     "output_type": "stream",
     "text": [
      "    gmat  gpa  work_experience  admitted\n",
      "16   580  2.7                4         0\n",
      "33   660  3.3                6         1\n",
      "8    740  3.3                5         1\n",
      "38   590  1.7                4         0\n",
      "32   660  4.0                4         1\n"
     ]
    }
   ],
   "source": [
    "print(df.head())"
   ]
  },
  {
   "cell_type": "code",
   "execution_count": 38,
   "id": "17744f58",
   "metadata": {},
   "outputs": [
    {
     "name": "stdout",
     "output_type": "stream",
     "text": [
      "(30, 3)\n",
      "(30,)\n"
     ]
    }
   ],
   "source": [
    "X = df[['gmat', 'gpa','work_experience']]\n",
    "#Y = df[['admitted']]\n",
    "y = df['admitted']\n",
    "print(X.shape)\n",
    "print(y.shape)"
   ]
  },
  {
   "cell_type": "code",
   "execution_count": 39,
   "id": "fa2d2c8c",
   "metadata": {},
   "outputs": [
    {
     "data": {
      "text/plain": [
       "LogisticRegression(random_state=0)"
      ]
     },
     "execution_count": 39,
     "metadata": {},
     "output_type": "execute_result"
    }
   ],
   "source": [
    "model = LogisticRegression(random_state=0)\n",
    "model.fit(X, y)"
   ]
  },
  {
   "cell_type": "code",
   "execution_count": 40,
   "id": "522b8fd4",
   "metadata": {},
   "outputs": [
    {
     "name": "stdout",
     "output_type": "stream",
     "text": [
      "Intercept: [-17.61897717]\n",
      "Coefficient: [[0.01779153 0.83599655 0.87068199]]\n"
     ]
    }
   ],
   "source": [
    "#절편\n",
    "print('Intercept:',model.intercept_)\n",
    "#기울기\n",
    "print('Coefficient:', model.coef_)"
   ]
  },
  {
   "cell_type": "code",
   "execution_count": 41,
   "id": "9a22aee0",
   "metadata": {},
   "outputs": [
    {
     "name": "stdout",
     "output_type": "stream",
     "text": [
      "   gmat  gpa  work_experience\n",
      "0   590    2                3\n"
     ]
    },
    {
     "data": {
      "text/plain": [
       "array([[0.9446918, 0.0553082]])"
      ]
     },
     "execution_count": 41,
     "metadata": {},
     "output_type": "execute_result"
    }
   ],
   "source": [
    "new_candidates = {'gmat': [590],\n",
    "                  'gpa': [2],\n",
    "                  'work_experience': [3]\n",
    "                  }\n",
    "df2 = pd.DataFrame(new_candidates)\n",
    "print(df2)\n",
    "model.predict_proba(df2)"
   ]
  },
  {
   "cell_type": "code",
   "execution_count": 42,
   "id": "1b260754",
   "metadata": {},
   "outputs": [
    {
     "data": {
      "text/plain": [
       "array([0], dtype=int64)"
      ]
     },
     "execution_count": 42,
     "metadata": {},
     "output_type": "execute_result"
    }
   ],
   "source": [
    "model.predict(df2)"
   ]
  },
  {
   "cell_type": "code",
   "execution_count": 43,
   "id": "d24ced6f",
   "metadata": {},
   "outputs": [
    {
     "name": "stdout",
     "output_type": "stream",
     "text": [
      "   gmat  gpa  work_experience\n",
      "0   590  2.0                3\n",
      "1   740  3.7                4\n",
      "2   680  3.3                6\n",
      "3   610  2.3                1\n",
      "4   710  3.0                5\n"
     ]
    }
   ],
   "source": [
    "new_candidates = { 'gmat': [590,740,680,610,710],\n",
    "                  'gpa': [2,3.7,3.3,2.3,3],\n",
    "                  'work_experience': [3,4,6,1,5]\n",
    "                  }\n",
    "df2 = pd.DataFrame(new_candidates)\n",
    "print(df2)"
   ]
  },
  {
   "cell_type": "code",
   "execution_count": 44,
   "id": "2a5bfbae",
   "metadata": {},
   "outputs": [
    {
     "data": {
      "text/plain": [
       "array([0, 1, 1, 0, 1], dtype=int64)"
      ]
     },
     "execution_count": 44,
     "metadata": {},
     "output_type": "execute_result"
    }
   ],
   "source": [
    "model.predict(df2)"
   ]
  },
  {
   "cell_type": "markdown",
   "id": "c7b39d09",
   "metadata": {},
   "source": [
    "[코드 4.3.2]"
   ]
  },
  {
   "cell_type": "code",
   "execution_count": 45,
   "id": "07b42800",
   "metadata": {},
   "outputs": [],
   "source": [
    "# loading the training dataset\n",
    "df = pd.read_csv('student_admission_train.csv', index_col = 0)\n",
    "#print(df.info())\n",
    "\n",
    "X = df.drop('admitted' , axis = 1).values #independent Feature\n",
    "y = df['admitted'].values #dependent Feature\n",
    "#print(X.shape)\n",
    "#print(y.shape)"
   ]
  },
  {
   "cell_type": "code",
   "execution_count": 48,
   "id": "6cb2c67b",
   "metadata": {},
   "outputs": [
    {
     "name": "stdout",
     "output_type": "stream",
     "text": [
      "epoch= 1000 a= [[-0.01169776]\n",
      " [ 1.9504693 ]\n",
      " [ 1.0379049 ]] b= [-2.3974164] loss= 0.33744413\n",
      "epoch= 2000 a= [[-0.01216097]\n",
      " [ 3.0221014 ]\n",
      " [ 1.0444976 ]] b= [-5.6576023] loss= 0.2865118\n",
      "epoch= 3000 a= [[-0.00803382]\n",
      " [ 3.3393288 ]\n",
      " [ 1.0354387 ]] b= [-8.761368] loss= 0.27849266\n",
      "epoch= 4000 a= [[-0.0057867]\n",
      " [ 3.363512 ]\n",
      " [ 1.0250686]] b= [-11.051678] loss= 0.2550816\n",
      "epoch= 5000 a= [[-0.0033724]\n",
      " [ 3.343034 ]\n",
      " [ 1.0184267]] b= [-12.686456] loss= 0.25169975\n",
      "epoch= 6000 a= [[-1.4248405e-03]\n",
      " [ 3.3276420e+00]\n",
      " [ 1.0058659e+00]] b= [-13.821883] loss= 0.24905339\n",
      "epoch= 7000 a= [[-3.5174662e-04]\n",
      " [ 3.3231626e+00]\n",
      " [ 1.0086113e+00]] b= [-14.6169] loss= 0.2490053\n",
      "epoch= 8000 a= [[9.0843480e-04]\n",
      " [3.3232691e+00]\n",
      " [1.0068082e+00]] b= [-15.164776] loss= 0.24826941\n",
      "epoch= 9000 a= [[1.4458908e-03]\n",
      " [3.3262680e+00]\n",
      " [1.0125829e+00]] b= [-15.54651] loss= 0.24823128\n",
      "epoch= 10000 a= [[1.7311722e-03]\n",
      " [3.3261547e+00]\n",
      " [1.0007980e+00]] b= [-15.804989] loss= 0.24739261\n"
     ]
    }
   ],
   "source": [
    "import torch\n",
    "from torch import sigmoid\n",
    "import torch.nn.functional as F\n",
    "\n",
    "device = torch.device(\"cuda\" if torch.cuda.is_available() else \"cpu\")\n",
    "\n",
    "X_tensor = torch.FloatTensor(X).to(device)\n",
    "y_tensor = torch.FloatTensor(y).view(-1,1).to(device)\n",
    "\n",
    "torch.manual_seed(1)\n",
    "#W = torch.randn((3,1), requires_grad=True)\n",
    "#b = torch.randn(1, requires_grad=True)\n",
    "\n",
    "W = torch.zeros((3, 1), device=device, requires_grad=True)\n",
    "b = torch.zeros(1, device=device, requires_grad=True)\n",
    "\n",
    "learning_rate =0.01\n",
    "#criterion=torch.nn.BCELoss(reduction='mean')\n",
    "#optimizer=torch.optim.SGD([W,b],lr=learning_rate)\n",
    "optimizer=torch.optim.Adam([W,b],lr=learning_rate)\n",
    "\n",
    "epochs=10000\n",
    "for epoch in range(epochs):\n",
    "    y_pred = torch.sigmoid(X_tensor.matmul(W)+ b).to(device)\n",
    "#    y_pred = torch.sigmoid(torch.matmul(X_tensor, W)+ b)     \n",
    "    #loss = F.binary_cross_entropy(y_pred, y_tensor)\n",
    "    loss = -(y_tensor * torch.log(y_pred) + \n",
    "             (1 - y_tensor) * torch.log(1 - y_pred)).mean()   \n",
    "    #print(epoch, loss.item())\n",
    "\n",
    "    optimizer.zero_grad()\n",
    "    loss.backward()\n",
    "    optimizer.step()\n",
    "   \n",
    "    if (epoch+1) % 1000 == 0:\n",
    "        print('epoch=',epoch+1,'a=',W.detach().cpu().numpy(),'b=',b.detach().cpu().numpy(),'loss=',loss.detach().cpu().numpy())"
   ]
  },
  {
   "cell_type": "code",
   "execution_count": 55,
   "id": "5704bb00",
   "metadata": {},
   "outputs": [
    {
     "name": "stdout",
     "output_type": "stream",
     "text": [
      "   gmat  gpa  work_experience\n",
      "0   590    2                3\n",
      "tensor([[590.,   2.,   3.]], device='cuda:0')\n"
     ]
    }
   ],
   "source": [
    "new_candidates = {'gmat': [590],\n",
    "                  'gpa': [2],\n",
    "                  'work_experience': [3]\n",
    "                  }\n",
    "df2 = pd.DataFrame(new_candidates)\n",
    "print(df2)\n",
    "\n",
    "X = df2.values #independent Feature\n",
    "X_tensor = torch.FloatTensor(X).to(device)\n",
    "print(X_tensor)"
   ]
  },
  {
   "cell_type": "code",
   "execution_count": 59,
   "id": "7b06f068",
   "metadata": {},
   "outputs": [
    {
     "name": "stdout",
     "output_type": "stream",
     "text": [
      "tensor([[0.0059]], device='cuda:0', grad_fn=<SigmoidBackward0>)\n",
      "tensor([[False]], device='cuda:0')\n",
      "[[0]]\n"
     ]
    }
   ],
   "source": [
    "import numpy as np\n",
    "\n",
    "threshold = 0.5\n",
    "y_pred = torch.sigmoid(X_tensor.matmul(W)+ b).to(device)\n",
    "print(y_pred) \n",
    "prediction = y_pred >= torch.FloatTensor([0.5]).to(device)\n",
    "print(prediction)\n",
    "prediction = (y_pred.detach().cpu().numpy() > threshold).astype(np.int8)\n",
    "print(prediction)"
   ]
  },
  {
   "cell_type": "markdown",
   "id": "d9698c82",
   "metadata": {},
   "source": [
    "[코드 4.3.3]"
   ]
  },
  {
   "cell_type": "code",
   "execution_count": 60,
   "id": "c3d91f94",
   "metadata": {},
   "outputs": [
    {
     "name": "stdout",
     "output_type": "stream",
     "text": [
      "   gmat  gpa  work_experience\n",
      "0   590  2.0                3\n",
      "1   740  3.7                4\n",
      "2   680  3.3                6\n",
      "3   610  2.3                1\n",
      "4   710  3.0                5\n",
      "tensor([[590.0000,   2.0000,   3.0000],\n",
      "        [740.0000,   3.7000,   4.0000],\n",
      "        [680.0000,   3.3000,   6.0000],\n",
      "        [610.0000,   2.3000,   1.0000],\n",
      "        [710.0000,   3.0000,   5.0000]], device='cuda:0')\n"
     ]
    }
   ],
   "source": [
    "new_candidates = { 'gmat': [590,740,680,610,710],\n",
    "                  'gpa': [2,3.7,3.3,2.3,3],\n",
    "                  'work_experience': [3,4,6,1,5]\n",
    "                  }\n",
    "df2 = pd.DataFrame(new_candidates)\n",
    "print(df2)\n",
    "\n",
    "X = df2.values #independent Feature\n",
    "X_tensor = torch.FloatTensor(X).to(device)\n",
    "print(X_tensor)"
   ]
  },
  {
   "cell_type": "code",
   "execution_count": 61,
   "id": "68deb84d",
   "metadata": {},
   "outputs": [
    {
     "name": "stdout",
     "output_type": "stream",
     "text": [
      "tensor([[0.0059],\n",
      "        [0.8564],\n",
      "        [0.9132],\n",
      "        [0.0022],\n",
      "        [0.6003]], device='cuda:0', grad_fn=<SigmoidBackward0>)\n",
      "tensor([[False],\n",
      "        [ True],\n",
      "        [ True],\n",
      "        [False],\n",
      "        [ True]], device='cuda:0')\n",
      "[[0]\n",
      " [1]\n",
      " [1]\n",
      " [0]\n",
      " [1]]\n"
     ]
    }
   ],
   "source": [
    "import numpy as np\n",
    "threshold = 0.5\n",
    "y_pred = torch.sigmoid(X_tensor.matmul(W)+ b).to(device)\n",
    "print(y_pred)\n",
    "prediction = y_pred >= torch.FloatTensor([0.5]).to(device)\n",
    "print(prediction)\n",
    "prediction = (y_pred.detach().cpu().numpy() > threshold).astype(np.int8) \n",
    "print(prediction)"
   ]
  },
  {
   "cell_type": "markdown",
   "id": "3988529b",
   "metadata": {},
   "source": [
    "[코드 4.3.4]"
   ]
  },
  {
   "cell_type": "code",
   "execution_count": 275,
   "id": "992f4d54",
   "metadata": {},
   "outputs": [
    {
     "name": "stdout",
     "output_type": "stream",
     "text": [
      "ce_loss : 1.058963656425476\n"
     ]
    }
   ],
   "source": [
    "import torch\n",
    "import torch.nn as nn\n",
    "\n",
    "output =torch.tensor([[0.1, 0.2, 0.6, 0.1]],dtype=torch.float)\n",
    "target = torch.tensor([2],dtype=torch.long)\n",
    "ce_loss = nn.CrossEntropyLoss()\n",
    "loss = ce_loss(output, target)\n",
    "print('ce_loss :', loss.item())"
   ]
  },
  {
   "cell_type": "markdown",
   "id": "9a667b9b",
   "metadata": {},
   "source": [
    "[코드 4.3.5]"
   ]
  },
  {
   "cell_type": "code",
   "execution_count": 276,
   "id": "c48add1d",
   "metadata": {},
   "outputs": [
    {
     "name": "stdout",
     "output_type": "stream",
     "text": [
      "output :  tensor([[0.1000, 0.2000, 0.6000, 0.1000]])\n",
      "softmax : tensor([[0.2104, 0.2325, 0.3468, 0.2104]])\n",
      "target :  tensor([0., 0., 1., 0.])\n",
      "ce_loss : 1.0589637756347656\n"
     ]
    }
   ],
   "source": [
    "import torch\n",
    "import torch.nn as nn\n",
    "\n",
    "output =torch.tensor([[0.1, 0.2, 0.6, 0.1]],dtype=torch.float)\n",
    "target = torch.tensor([0.0, 0.0, 1.0, 0.0])\n",
    "softmax = nn.functional.softmax(output, dim=1)\n",
    "print('output : ', output)\n",
    "print('softmax :', softmax)\n",
    "print('target : ', target)\n",
    "ce_loss= -torch.sum(target*torch.log(softmax))\n",
    "print('ce_loss :', ce_loss.item())"
   ]
  },
  {
   "cell_type": "markdown",
   "id": "6f6ffd1a",
   "metadata": {},
   "source": [
    "[코드 4.3.6]"
   ]
  },
  {
   "cell_type": "code",
   "execution_count": 271,
   "id": "9e58aad6",
   "metadata": {},
   "outputs": [
    {
     "name": "stdout",
     "output_type": "stream",
     "text": [
      "bce_loss : 0.12692803144454956\n"
     ]
    }
   ],
   "source": [
    "import torch\n",
    "import torch.nn as nn\n",
    "\n",
    "output =torch.tensor([6, 4],dtype=torch.float)\n",
    "target = torch.tensor([1.0, 0.0])\n",
    "softmax = nn.functional.softmax(output, dim=0)\n",
    "bce_loss = nn.BCELoss()\n",
    "loss = bce_loss(softmax, target)\n",
    "print('bce_loss :', loss.item())"
   ]
  },
  {
   "cell_type": "markdown",
   "id": "ef7b9757",
   "metadata": {},
   "source": [
    "[코드 4.3.7]"
   ]
  },
  {
   "cell_type": "code",
   "execution_count": 284,
   "id": "2a495a04",
   "metadata": {},
   "outputs": [
    {
     "name": "stdout",
     "output_type": "stream",
     "text": [
      "output :  tensor([6., 4.])\n",
      "softmax : tensor([0.8808, 0.1192])\n",
      "target :  tensor([1., 0.])\n",
      "bce_loss : 0.12692806124687195\n"
     ]
    }
   ],
   "source": [
    "import torch\n",
    "import torch.nn as nn\n",
    "\n",
    "output =torch.tensor([6, 4],dtype=torch.float)\n",
    "target = torch.tensor([1.0, 0.0])\n",
    "softmax = nn.functional.softmax(output, dim=0)\n",
    "print('output : ', output)\n",
    "print('softmax :', softmax)\n",
    "print('target : ', target)\n",
    "bce_loss= -torch.sum(target*torch.log(softmax))\n",
    "print('bce_loss :', bce_loss.item())"
   ]
  },
  {
   "cell_type": "markdown",
   "id": "22c92472",
   "metadata": {},
   "source": [
    "[코드 4.3.8]"
   ]
  },
  {
   "cell_type": "code",
   "execution_count": 313,
   "id": "01b2f465",
   "metadata": {},
   "outputs": [
    {
     "name": "stdout",
     "output_type": "stream",
     "text": [
      "tensor([0.6614, 0.2669, 0.0617, 0.6213], requires_grad=True)\n",
      "tensor([1., 0., 0., 1.])\n",
      "sigmoid :  tensor([0.6596, 0.5663, 0.5154, 0.6505], grad_fn=<SigmoidBackward0>)\n",
      "bce_loss :  tensor(0.6015, grad_fn=<BinaryCrossEntropyBackward0>)\n"
     ]
    }
   ],
   "source": [
    "torch.manual_seed(1)\n",
    "\n",
    "m = nn.Sigmoid()\n",
    "bce_loss = nn.BCELoss()\n",
    "input = torch.randn(4, requires_grad=True)\n",
    "print(input)\n",
    "target = torch.empty(4).random_(2)\n",
    "print(target)\n",
    "print('sigmoid : ', m(input))\n",
    "loss = bce_loss(m(input), target)\n",
    "print('bce_loss : ', loss)"
   ]
  },
  {
   "cell_type": "markdown",
   "id": "ea28fe76",
   "metadata": {},
   "source": [
    "[코드 4.3.9]"
   ]
  },
  {
   "cell_type": "code",
   "execution_count": 325,
   "id": "82bfb0cf",
   "metadata": {},
   "outputs": [
    {
     "name": "stdout",
     "output_type": "stream",
     "text": [
      "tensor([0.6614, 0.2669, 0.0617, 0.6213], requires_grad=True)\n",
      "tensor([1., 0., 0., 1.])\n",
      "sigmoid :  tensor([0.6596, 0.5663, 0.5154, 0.6505], grad_fn=<SigmoidBackward0>)\n",
      "bce_loss :  tensor(0.6015, grad_fn=<DivBackward0>)\n"
     ]
    }
   ],
   "source": [
    "torch.manual_seed(1)\n",
    "\n",
    "m = nn.Sigmoid()\n",
    "input = torch.randn(4, requires_grad=True)\n",
    "print(input)\n",
    "target = torch.empty(4).random_(2)\n",
    "print(target)\n",
    "def BCE(input, target):\n",
    "    total_bce_loss = torch.sum(-target * torch.log(m(input)) - (1 - target) * torch.log(1 - m(input)))\n",
    "    num_of_samples = input.shape[0]\n",
    "#    print(num_of_samples)\n",
    "    mean_bce_loss = total_bce_loss / num_of_samples\n",
    "    return mean_bce_loss    \n",
    "print('sigmoid : ', m(input))\n",
    "loss = BCE(input, target)\n",
    "print('bce_loss : ', loss)"
   ]
  },
  {
   "cell_type": "markdown",
   "id": "80a40b32",
   "metadata": {},
   "source": [
    "[코드 4.4.2]"
   ]
  },
  {
   "cell_type": "code",
   "execution_count": 12,
   "id": "16546437",
   "metadata": {},
   "outputs": [
    {
     "name": "stdout",
     "output_type": "stream",
     "text": [
      "FPR :  [0.  0.  0.5 0.5 1. ]\n",
      "TPR :  [0.  0.5 0.5 1.  1. ]\n",
      "thresholds : [1.8  0.8  0.4  0.35 0.1 ]\n"
     ]
    }
   ],
   "source": [
    "import numpy as np\n",
    "from sklearn import metrics\n",
    "\n",
    "y_true = np.array([1, 1, 2, 2])\n",
    "y_score = np.array([0.1, 0.4, 0.35, 0.8])\n",
    "fpr, tpr, thresholds = metrics.roc_curve(y_true, y_score, pos_label=2)\n",
    "print(\"FPR : \", fpr)\n",
    "print(\"TPR : \", tpr)\n",
    "print(\"thresholds :\", thresholds)"
   ]
  },
  {
   "cell_type": "markdown",
   "id": "fda563e1",
   "metadata": {},
   "source": [
    "[코드 4.4.3]"
   ]
  },
  {
   "cell_type": "code",
   "execution_count": 13,
   "id": "50754b98",
   "metadata": {},
   "outputs": [
    {
     "data": {
      "image/png": "[encoded data removed]",
      "text/plain": [
       "<Figure size 432x288 with 1 Axes>"
      ]
     },
     "metadata": {
      "needs_background": "light"
     },
     "output_type": "display_data"
    }
   ],
   "source": [
    "import matplotlib.pyplot as plt\n",
    "\n",
    "auc = metrics.roc_auc_score(y_true, y_score)\n",
    "\n",
    "plt.title('ROC curve')\n",
    "plt.plot(fpr,tpr,label=\"AUC = \"+str(auc))\n",
    "plt.legend(loc=4)\n",
    "plt.ylabel('True Positive Rate')\n",
    "plt.xlabel('False Positive Rate')\n",
    "plt.show()"
   ]
  },
  {
   "cell_type": "markdown",
   "id": "4292e6af",
   "metadata": {},
   "source": [
    "[코드 4.4.4]"
   ]
  },
  {
   "cell_type": "code",
   "execution_count": 15,
   "id": "d79738dd",
   "metadata": {},
   "outputs": [
    {
     "name": "stdout",
     "output_type": "stream",
     "text": [
      "    BMI  diabetic\n",
      "0  33.6         1\n",
      "1  26.6         0\n",
      "2  28.1         0\n",
      "3  31.0         1\n",
      "4  30.5         1\n"
     ]
    }
   ],
   "source": [
    "import pandas as pd\n",
    "BMI = [33.6, 26.6, 28.1, 31.0, 30.5, 25.8, 45.8, 43.3, 39.3, 29.0, ]\n",
    "diabetic = [1, 0, 0, 1, 1,  0, 1, 1, 0, 1]\n",
    "\n",
    "df = pd.DataFrame(\n",
    "    {\"BMI\": BMI, \"diabetic\": diabetic}\n",
    ")\n",
    "\n",
    "print(df.head())"
   ]
  },
  {
   "cell_type": "code",
   "execution_count": 16,
   "id": "f92f3bd8",
   "metadata": {},
   "outputs": [],
   "source": [
    "X = df[['BMI']]\n",
    "Y = df['diabetic']"
   ]
  },
  {
   "cell_type": "code",
   "execution_count": 17,
   "id": "724242cf",
   "metadata": {},
   "outputs": [
    {
     "data": {
      "text/plain": [
       "LogisticRegression(random_state=0)"
      ]
     },
     "execution_count": 17,
     "metadata": {},
     "output_type": "execute_result"
    }
   ],
   "source": [
    "from sklearn.linear_model import LogisticRegression\n",
    "model = LogisticRegression(random_state=0)\n",
    "model.fit(X, Y)"
   ]
  },
  {
   "cell_type": "code",
   "execution_count": 18,
   "id": "1055d4f4",
   "metadata": {},
   "outputs": [
    {
     "name": "stdout",
     "output_type": "stream",
     "text": [
      "[-4.58162116]\n",
      "[0.15420755]\n"
     ]
    }
   ],
   "source": [
    "print(model.intercept_)\n",
    "print(model.coef_[0])"
   ]
  },
  {
   "cell_type": "code",
   "execution_count": 19,
   "id": "dcc72d8c",
   "metadata": {},
   "outputs": [],
   "source": [
    "import numpy as np\n",
    "def sigmoid(x):\n",
    "    return 1 / (1 +np.exp(-(x) ))"
   ]
  },
  {
   "cell_type": "code",
   "execution_count": 20,
   "id": "37293488",
   "metadata": {},
   "outputs": [
    {
     "name": "stdout",
     "output_type": "stream",
     "text": [
      "        BMI\n",
      "0  0.645600\n",
      "1  0.382323\n",
      "2  0.438220\n",
      "3  0.549540\n",
      "4  0.530390\n",
      "5  0.353642\n",
      "6  0.922805\n",
      "7  0.890471\n",
      "8  0.814382\n",
      "9  0.472627\n"
     ]
    }
   ],
   "source": [
    "y_pred_prob = sigmoid(model.coef_[0]*X+model.intercept_)\n",
    "#prediction = y_pred_prob  >= 0.5\n",
    "print(y_pred_prob)\n",
    "#print(prediction)"
   ]
  },
  {
   "cell_type": "code",
   "execution_count": 21,
   "id": "2132eac4",
   "metadata": {},
   "outputs": [
    {
     "name": "stdout",
     "output_type": "stream",
     "text": [
      "thresholds= [1.9228051  0.9228051  0.89047145 0.81438152 0.47262685 0.35364247]\n"
     ]
    },
    {
     "data": {
      "image/png": "[encoded data removed]",
      "text/plain": [
       "<Figure size 432x288 with 1 Axes>"
      ]
     },
     "metadata": {
      "needs_background": "light"
     },
     "output_type": "display_data"
    }
   ],
   "source": [
    "import matplotlib.pyplot as plt\n",
    "from sklearn import metrics\n",
    "\n",
    "plt.title('ROC curve')\n",
    "fpr, tpr, thresholds = metrics.roc_curve(Y,  y_pred_prob)\n",
    "print('thresholds=', thresholds)\n",
    "auc = metrics.roc_auc_score(Y, y_pred_prob)\n",
    "auc = round(auc,4) \n",
    "plt.plot(fpr,tpr,label=\"auc=\"+str(auc))\n",
    "plt.legend(loc=4)\n",
    "plt.ylabel('True Positive Rate')\n",
    "plt.xlabel('False Positive Rate')\n",
    "plt.show()"
   ]
  },
  {
   "cell_type": "markdown",
   "id": "9fdf1753",
   "metadata": {},
   "source": [
    "[코드 4.4.5]"
   ]
  },
  {
   "cell_type": "code",
   "execution_count": 22,
   "id": "ee14e346",
   "metadata": {},
   "outputs": [
    {
     "data": {
      "text/plain": [
       "LogisticRegression(random_state=0)"
      ]
     },
     "execution_count": 22,
     "metadata": {},
     "output_type": "execute_result"
    }
   ],
   "source": [
    "import pandas as pd\n",
    "BMI = [33.6, 26.6, 28.1, 31.0, 30.5, 25.8, 45.8, 43.3, 39.3, 29.0, ]\n",
    "diabetic = [1, 0, 0, 1, 1,  0, 1, 1, 0, 1]\n",
    "\n",
    "df = pd.DataFrame(\n",
    "    {\"BMI\": BMI, \"diabetic\": diabetic}\n",
    ")\n",
    "X = df[['BMI']]\n",
    "Y = df['diabetic']\n",
    "\n",
    "from sklearn.linear_model import LogisticRegression\n",
    "model = LogisticRegression(random_state=0)\n",
    "model.fit(X, Y)"
   ]
  },
  {
   "cell_type": "code",
   "execution_count": 24,
   "id": "35bd1499",
   "metadata": {},
   "outputs": [
    {
     "name": "stdout",
     "output_type": "stream",
     "text": [
      "prediced probability shape= (10, 2)\n",
      "prediced probability =\n",
      " [[0.35440031 0.64559969]\n",
      " [0.61767711 0.38232289]\n",
      " [0.56177994 0.43822006]\n",
      " [0.45045984 0.54954016]\n",
      " [0.46961022 0.53038978]]\n",
      "y=1, prediced probability = [0.64559969 0.38232289 0.43822006 0.54954016 0.53038978]\n",
      "threshold = [1.9228051  0.9228051  0.89047145 0.81438152 0.47262685 0.35364247]\n"
     ]
    },
    {
     "data": {
      "image/png": "[encoded data removed]",
      "text/plain": [
       "<Figure size 432x288 with 1 Axes>"
      ]
     },
     "metadata": {
      "needs_background": "light"
     },
     "output_type": "display_data"
    }
   ],
   "source": [
    "import matplotlib.pyplot as plt\n",
    "from sklearn import metrics\n",
    "\n",
    "plt.title('ROC curve')\n",
    "y_pred_proba = model.predict_proba(X)\n",
    "print(\"prediced probability shape=\", y_pred_proba.shape)\n",
    "print(\"prediced probability =\\n\", y_pred_proba[0:5,:])\n",
    "# 레이블 값이 1일때의 예측 확률을 추출 \n",
    "y_pred_proba = model.predict_proba(X)[:,1]\n",
    "print(\"y=1, prediced probability =\", y_pred_proba[0:5])\n",
    "fpr, tpr, thresholds = metrics.roc_curve(Y,  y_pred_proba)\n",
    "print(\"threshold =\", thresholds)\n",
    "auc = metrics.roc_auc_score(Y, y_pred_proba)\n",
    "auc = round(auc,4) \n",
    "plt.plot(fpr,tpr,label=\"auc=\"+str(auc))\n",
    "plt.legend(loc=4)\n",
    "plt.ylabel('True Positive Rate')\n",
    "plt.xlabel('False Positive Rate')\n",
    "plt.show()"
   ]
  },
  {
   "cell_type": "markdown",
   "id": "d17ae386",
   "metadata": {},
   "source": [
    "[코드 4.4.6]"
   ]
  },
  {
   "cell_type": "code",
   "execution_count": 60,
   "id": "b627b82c",
   "metadata": {},
   "outputs": [],
   "source": [
    "import pandas as pd\n",
    "# loading the training dataset\n",
    "df = pd.read_csv('student_admission_train.csv', index_col = 0)\n",
    "#print(df.info())\n",
    "\n",
    "X = df.drop('admitted' , axis = 1).values #independent Feature\n",
    "y = df['admitted'].values #dependent Feature\n",
    "#print(X.shape)\n",
    "#print(y.shape)"
   ]
  },
  {
   "cell_type": "code",
   "execution_count": 61,
   "id": "29801c74",
   "metadata": {},
   "outputs": [
    {
     "name": "stdout",
     "output_type": "stream",
     "text": [
      "epoch= 5000 a= [[-2.7794316e-03]\n",
      " [ 3.3423316e+00]\n",
      " [ 1.0111150e+00]] b= [-12.674391] loss= 0.25197038\n",
      "epoch= 10000 a= [[1.7307955e-03]\n",
      " [3.3266551e+00]\n",
      " [1.0034010e+00]] b= [-15.804294] loss= 0.24742457\n"
     ]
    }
   ],
   "source": [
    "import torch\n",
    "from torch import sigmoid\n",
    "import torch.nn.functional as F\n",
    "device = torch.device(\"cuda\" if torch.cuda.is_available() else \"cpu\")\n",
    "\n",
    "X_tensor = torch.FloatTensor(X).to(device)\n",
    "y_tensor = torch.FloatTensor(y).view(-1,1).to(device)\n",
    "\n",
    "torch.manual_seed(1)\n",
    "#W = torch.randn((3,1), requires_grad=True)\n",
    "#b = torch.randn(1, requires_grad=True)\n",
    "\n",
    "W = torch.zeros((3, 1), device=device, requires_grad=True)\n",
    "b = torch.zeros(1, device=device, requires_grad=True)\n",
    "\n",
    "learning_rate =0.01\n",
    "#criterion=torch.nn.BCELoss(reduction='mean')\n",
    "#optimizer=torch.optim.SGD([W,b],lr=learning_rate)\n",
    "optimizer=torch.optim.Adam([W,b],lr=learning_rate)\n",
    "\n",
    "epochs=10000\n",
    "for epoch in range(epochs):\n",
    "    y_pred = torch.sigmoid(X_tensor.matmul(W)+ b).to(device)\n",
    "#    y_pred = torch.sigmoid(torch.matmul(X_tensor, W)+ b)     \n",
    "    loss = F.binary_cross_entropy(y_pred, y_tensor)\n",
    "   \n",
    "    optimizer.zero_grad()\n",
    "    loss.backward()\n",
    "    optimizer.step()\n",
    "   \n",
    "    if (epoch+1) % 5000 == 0:\n",
    "        print('epoch=',epoch+1,'a=',W.detach().cpu().numpy(),'b=',b.detach().cpu().numpy(),'loss=',loss.detach().cpu().numpy())"
   ]
  },
  {
   "cell_type": "markdown",
   "id": "5fa17e58",
   "metadata": {},
   "source": [
    "[코드 4.4.7]"
   ]
  },
  {
   "cell_type": "code",
   "execution_count": 62,
   "id": "13ec0741",
   "metadata": {},
   "outputs": [
    {
     "name": "stdout",
     "output_type": "stream",
     "text": [
      "tensor([[2.4128e-03],\n",
      "        [2.5188e-02],\n",
      "        [2.3818e-02],\n",
      "        [5.9730e-02],\n",
      "        [8.1696e-04],\n",
      "        [6.0670e-01],\n",
      "        [3.8145e-01],\n",
      "        [2.2640e-02],\n",
      "        [7.9699e-01],\n",
      "        [9.7710e-01]], device='cuda:0', grad_fn=<SigmoidBackward0>)\n",
      "[[0]\n",
      " [0]\n",
      " [0]\n",
      " [0]\n",
      " [0]\n",
      " [1]\n",
      " [0]\n",
      " [0]\n",
      " [1]\n",
      " [1]]\n"
     ]
    }
   ],
   "source": [
    "# loading the testing dataset \n",
    "df2 = pd.read_csv('student_admission_test.csv', index_col = 0)\n",
    "#print(df.info())\n",
    " \n",
    "X_test = df2.drop('admitted' , axis = 1).values #independent Feature\n",
    "y_test = df2['admitted'].values #dependent Feature\n",
    "#print(type(X))\n",
    "#print(type(y))\n",
    "\n",
    "#X = Xtest.values #independent Feature\n",
    "X_tensor = torch.FloatTensor(X_test).to(device)\n",
    "y_tensor = torch.FloatTensor(y_test).to(device)\n",
    "#print(X_tensor)\n",
    "\n",
    "#import numpy as np\n",
    "threshold = 0.5\n",
    "y_pred = torch.sigmoid(X_tensor.matmul(W)+ b).to(device)\n",
    "print(y_pred)\n",
    "#prediction = y_pred >= torch.FloatTensor([0.5])\n",
    "#print(prediction)\n",
    "prediction = (y_pred.detach().cpu().numpy() > threshold).astype(np.int8) \n",
    "print(prediction)"
   ]
  },
  {
   "cell_type": "code",
   "execution_count": 63,
   "id": "4fa903fb",
   "metadata": {},
   "outputs": [
    {
     "name": "stdout",
     "output_type": "stream",
     "text": [
      "Confusion Matrix : \n",
      " [[6 0]\n",
      " [1 3]]\n",
      "Precision :  1.0\n",
      "Sensitivity :  0.75\n",
      "Specificity :  1.0\n",
      "Accuracy :  0.9\n"
     ]
    }
   ],
   "source": [
    "from sklearn.metrics import confusion_matrix\n",
    "# confusion matrix\n",
    "confusion_matrix = confusion_matrix(y_test, prediction)\n",
    "TN=confusion_matrix[0][0]\n",
    "FP=confusion_matrix[0][1]\n",
    "FN=confusion_matrix[1][0]\n",
    "TP=confusion_matrix[1][1]\n",
    "precision= TP/(TP+FP)\n",
    "sensitivity=TP/(TP+FN)\n",
    "specificity=TN/(FP+TN)\n",
    "accuracy=(TP+TN)/(TP+TN+FP+FN)\n",
    "print (\"Confusion Matrix : \\n\", confusion_matrix)\n",
    "print (\"Precision : \", precision)\n",
    "print (\"Sensitivity : \", sensitivity)\n",
    "print (\"Specificity : \", specificity)\n",
    "print (\"Accuracy : \", accuracy)"
   ]
  },
  {
   "cell_type": "code",
   "execution_count": 64,
   "id": "019a27fb",
   "metadata": {},
   "outputs": [
    {
     "name": "stdout",
     "output_type": "stream",
     "text": [
      "Accuracy : 0.9\n",
      "Precision : 1.0\n",
      "Sensitivity : 0.75\n"
     ]
    }
   ],
   "source": [
    "from sklearn.metrics import accuracy_score, precision_score, recall_score\n",
    "print(\"Accuracy :\",metrics.accuracy_score(y_test, prediction))\n",
    "print(\"Precision :\",metrics.precision_score(y_test, prediction))\n",
    "print(\"Sensitivity :\",metrics.recall_score(y_test, prediction))"
   ]
  },
  {
   "cell_type": "code",
   "execution_count": 66,
   "id": "c983f8ba",
   "metadata": {},
   "outputs": [
    {
     "data": {
      "image/png": "[encoded data removed]",
      "text/plain": [
       "<Figure size 432x288 with 1 Axes>"
      ]
     },
     "metadata": {
      "needs_background": "light"
     },
     "output_type": "display_data"
    }
   ],
   "source": [
    "import matplotlib.pyplot as plt\n",
    "fpr, tpr, _ = metrics.roc_curve(y_test,  y_pred.detach().cpu().numpy())\n",
    "auc = metrics.roc_auc_score(y_test, y_pred.detach().cpu().numpy())\n",
    "plt.plot(fpr,tpr,label=\"AUC =\"+str(auc))\n",
    "plt.legend(loc=4)\n",
    "plt.title(\"ROC Curve\")\n",
    "plt.ylabel('True Positive Rate')\n",
    "plt.xlabel('False Positive Rate')\n",
    "plt.show()"
   ]
  },
  {
   "cell_type": "markdown",
   "id": "e3458448",
   "metadata": {},
   "source": [
    "[코드 4.4.8]"
   ]
  },
  {
   "cell_type": "code",
   "execution_count": 71,
   "id": "281e4825",
   "metadata": {},
   "outputs": [],
   "source": [
    "#import pandas\n",
    "import pandas as pd\n",
    "pima = pd.read_csv('pima-indians-diabetes.csv')"
   ]
  },
  {
   "cell_type": "code",
   "execution_count": 72,
   "id": "433d1f52",
   "metadata": {},
   "outputs": [],
   "source": [
    "X = pima[['Pregnancies', 'Glucose','BloodPressure','SkinThickness','Insulin','BMI','DiabetesPedigreeFunction','Age']]\n",
    "y = pima['Outcome']"
   ]
  },
  {
   "cell_type": "code",
   "execution_count": 73,
   "id": "64d5deb5",
   "metadata": {},
   "outputs": [],
   "source": [
    "from sklearn.model_selection import train_test_split\n",
    "X_train,X_test,y_train,y_test=train_test_split(X,y,test_size=0.25,random_state=0)"
   ]
  },
  {
   "cell_type": "code",
   "execution_count": 74,
   "id": "b82c0573",
   "metadata": {},
   "outputs": [
    {
     "name": "stderr",
     "output_type": "stream",
     "text": [
      "C:\\Users\\user\\anaconda3\\lib\\site-packages\\sklearn\\linear_model\\_logistic.py:763: ConvergenceWarning: lbfgs failed to converge (status=1):\n",
      "STOP: TOTAL NO. of ITERATIONS REACHED LIMIT.\n",
      "\n",
      "Increase the number of iterations (max_iter) or scale the data as shown in:\n",
      "    https://scikit-learn.org/stable/modules/preprocessing.html\n",
      "Please also refer to the documentation for alternative solver options:\n",
      "    https://scikit-learn.org/stable/modules/linear_model.html#logistic-regression\n",
      "  n_iter_i = _check_optimize_result(\n"
     ]
    },
    {
     "data": {
      "text/plain": [
       "LogisticRegression()"
      ]
     },
     "execution_count": 74,
     "metadata": {},
     "output_type": "execute_result"
    }
   ],
   "source": [
    "# import the class\n",
    "from sklearn.linear_model import LogisticRegression\n",
    "\n",
    "# instantiate the model (using the default parameters)\n",
    "model = LogisticRegression()\n",
    "\n",
    "# fit the model with data\n",
    "model.fit(X_train,y_train)"
   ]
  },
  {
   "cell_type": "code",
   "execution_count": 75,
   "id": "2800049e",
   "metadata": {},
   "outputs": [],
   "source": [
    "#prediction\n",
    "y_pred=model.predict(X_test)"
   ]
  },
  {
   "cell_type": "code",
   "execution_count": 82,
   "id": "415bc1a6",
   "metadata": {},
   "outputs": [
    {
     "name": "stdout",
     "output_type": "stream",
     "text": [
      "Confusion Matrix : \n",
      " [[115  15]\n",
      " [ 25  37]]\n",
      "Precision :  0.7115\n",
      "Sensitivity :  0.5968\n",
      "Specificity :  0.8846\n",
      "Accuracy :  0.7917\n"
     ]
    }
   ],
   "source": [
    "# import the metrics class\n",
    "from sklearn import metrics\n",
    "confusion_matrix = metrics.confusion_matrix(y_test, y_pred)\n",
    "TN=confusion_matrix[0][0]\n",
    "FP=confusion_matrix[0][1]\n",
    "FN=confusion_matrix[1][0]\n",
    "TP=confusion_matrix[1][1]\n",
    "precision= TP/(TP+FP)\n",
    "sensitivity=TP/(TP+FN)\n",
    "specificity=TN/(FP+TN)\n",
    "accuracy=(TP+TN)/(TP+TN+FP+FN)\n",
    "print (\"Confusion Matrix : \\n\", confusion_matrix)\n",
    "print (\"Precision : \", round(precision,4))\n",
    "print (\"Sensitivity : \", round(sensitivity,4))\n",
    "print (\"Specificity : \", round(specificity,4))\n",
    "print (\"Accuracy : \", round(accuracy,4))"
   ]
  },
  {
   "cell_type": "code",
   "execution_count": 85,
   "id": "3b32a5d3",
   "metadata": {},
   "outputs": [
    {
     "name": "stdout",
     "output_type": "stream",
     "text": [
      "Accuracy: 0.7917\n",
      "Precision: 0.7115\n",
      "Sensitivity: 0.5968\n"
     ]
    }
   ],
   "source": [
    "Accuracy = metrics.accuracy_score(y_test, y_pred)\n",
    "Precision = metrics.precision_score(y_test, y_pred)\n",
    "Sensitivity = metrics.recall_score(y_test, y_pred)\n",
    "print(\"Accuracy:\",round(Accuracy, 4))\n",
    "print(\"Precision:\", round(Precision, 4))\n",
    "print(\"Sensitivity:\", round(Sensitivity,4))"
   ]
  },
  {
   "cell_type": "code",
   "execution_count": 88,
   "id": "959ee245",
   "metadata": {},
   "outputs": [
    {
     "name": "stdout",
     "output_type": "stream",
     "text": [
      "(192, 2)\n",
      "[[0.02569775 0.97430225]\n",
      " [0.83980294 0.16019706]\n",
      " [0.92322317 0.07677683]\n",
      " [0.31954462 0.68045538]\n",
      " [0.87811554 0.12188446]]\n",
      "[0.97430225 0.16019706 0.07677683 0.68045538 0.12188446]\n"
     ]
    },
    {
     "data": {
      "image/png": "[encoded data removed]",
      "text/plain": [
       "<Figure size 432x288 with 1 Axes>"
      ]
     },
     "metadata": {
      "needs_background": "light"
     },
     "output_type": "display_data"
    }
   ],
   "source": [
    "import matplotlib.pyplot as plt\n",
    "y_pred_proba = model.predict_proba(X_test)\n",
    "print(y_pred_proba.shape)\n",
    "print(y_pred_proba[0:5,:])\n",
    "# 레이블 값이 1일때의 예측 확률을 추출 \n",
    "y_pred_proba = model.predict_proba(X_test)[:,1]\n",
    "print(y_pred_proba[0:5])\n",
    "fpr, tpr, thresholds = metrics.roc_curve(y_test,  y_pred_proba)\n",
    "auc = metrics.roc_auc_score(y_test, y_pred_proba)\n",
    "auc =round(auc,4)\n",
    "plt.plot(fpr,tpr,label=\"AUC =\"+str(auc))\n",
    "plt.legend(loc=4)\n",
    "plt.title(\"ROC Curve\")\n",
    "plt.ylabel('True Positive Rate')\n",
    "plt.xlabel('False Positive Rate')\n",
    "plt.show()"
   ]
  },
  {
   "cell_type": "markdown",
   "id": "72cb4926",
   "metadata": {},
   "source": [
    "[코드 4.4.9]"
   ]
  },
  {
   "cell_type": "code",
   "execution_count": 107,
   "id": "d37faeab",
   "metadata": {},
   "outputs": [
    {
     "name": "stdout",
     "output_type": "stream",
     "text": [
      "   Pregnancies  Glucose  BloodPressure  SkinThickness  Insulin   BMI  \\\n",
      "0            6      148             72             35        0  33.6   \n",
      "1            1       85             66             29        0  26.6   \n",
      "2            8      183             64              0        0  23.3   \n",
      "3            1       89             66             23       94  28.1   \n",
      "4            0      137             40             35      168  43.1   \n",
      "\n",
      "   DiabetesPedigreeFunction  Age  Outcome  \n",
      "0                     0.627   50        1  \n",
      "1                     0.351   31        0  \n",
      "2                     0.672   32        1  \n",
      "3                     0.167   21        0  \n",
      "4                     2.288   33        1  \n"
     ]
    }
   ],
   "source": [
    "import torch\n",
    "#import pandas\n",
    "import pandas as pd\n",
    "pima = pd.read_csv('pima-indians-diabetes.csv')\n",
    "print(pima.head())\n",
    "\n",
    "X = pima.drop('Outcome' , axis = 1).values #independent Feature\n",
    "y = pima['Outcome'].values #dependent Feature\n",
    "#print(X.shape)\n",
    "#print(y.shape)\n"
   ]
  },
  {
   "cell_type": "code",
   "execution_count": 108,
   "id": "799e7c75",
   "metadata": {},
   "outputs": [
    {
     "name": "stdout",
     "output_type": "stream",
     "text": [
      "torch.Size([576, 8])\n",
      "torch.Size([576, 1])\n"
     ]
    }
   ],
   "source": [
    "device = torch.device(\"cuda\" if torch.cuda.is_available() else \"cpu\")\n",
    "\n",
    "from sklearn.model_selection import train_test_split\n",
    "X_train,X_test,y_train,y_test = train_test_split(X,y , test_size =0.25,random_state=0)\n",
    "\n",
    "# Creating Tensors\n",
    "X_train=torch.FloatTensor(X_train).to(device)\n",
    "X_test=torch.FloatTensor(X_test).to(device)\n",
    "y_train=torch.FloatTensor(y_train).view(-1,1).to(device)\n",
    "y_test=torch.FloatTensor(y_test).view(-1,1).to(device)\n",
    "#print(X.shape)\n",
    "print(X_train.shape)\n",
    "print(y_train.shape)\n",
    "\n",
    "import torch\n",
    "from torch import sigmoid\n",
    "import torch.nn.functional as F\n",
    "\n",
    "\n",
    "#torch.manual_seed(1)\n",
    "#W = torch.randn((3,1), requires_grad=True)\n",
    "#b = torch.randn(1, requires_grad=True)\n",
    "\n",
    "W = torch.zeros((8, 1),device=device, requires_grad=True)\n",
    "b = torch.zeros(1, device=device, requires_grad=True)"
   ]
  },
  {
   "cell_type": "code",
   "execution_count": 109,
   "id": "0ee2ec94",
   "metadata": {},
   "outputs": [
    {
     "name": "stdout",
     "output_type": "stream",
     "text": [
      "epoch= 1000 a= [[ 8.3903365e-02]\n",
      " [ 2.2933833e-02]\n",
      " [-1.8483376e-02]\n",
      " [ 5.4355613e-03]\n",
      " [-3.6932933e-04]\n",
      " [ 4.2829312e-02]\n",
      " [ 5.6375253e-01]\n",
      " [ 8.6207902e-03]] b= [-4.446911] loss= 0.5074573\n",
      "epoch= 2000 a= [[ 8.59823599e-02]\n",
      " [ 3.01930886e-02]\n",
      " [-1.32960705e-02]\n",
      " [ 6.14775810e-03]\n",
      " [-6.44476095e-04]\n",
      " [ 7.33201876e-02]\n",
      " [ 7.86398590e-01]\n",
      " [ 1.80414747e-02]] b= [-7.1536474] loss= 0.48587313\n",
      "epoch= 3000 a= [[ 8.7335192e-02]\n",
      " [ 3.3135198e-02]\n",
      " [-1.1169836e-02]\n",
      " [ 6.4984867e-03]\n",
      " [-2.2390921e-04]\n",
      " [ 8.4833309e-02]\n",
      " [ 8.6662745e-01]\n",
      " [ 2.1701567e-02]] b= [-8.097343] loss= 0.4883426\n"
     ]
    }
   ],
   "source": [
    "#criterion=torch.nn.BCELoss(reduction='mean')\n",
    "#ptimizer=torch.optim.SGD([W,b],lr=0.1)\n",
    "optimizer=torch.optim.Adam([W,b],lr=0.01)\n",
    "epochs=3000\n",
    "for epoch in range(epochs):\n",
    "    y_pred = torch.sigmoid(X_train.matmul(W)+ b).to(device)\n",
    "#    print(y_pred.shape)\n",
    "#    print(y_train.shape)\n",
    "#    y_pred = torch.sigmoid(torch.matmul(X_tensor, W)+ b)     \n",
    "    loss = F.binary_cross_entropy(y_pred, y_train)\n",
    "    \n",
    "    #print(epoch, loss.item())\n",
    "\n",
    "    optimizer.zero_grad()\n",
    "    loss.backward()\n",
    "    optimizer.step()\n",
    "   \n",
    "    if (epoch+1) % 1000 == 0:\n",
    "        print('epoch=',epoch+1,'a=',W.detach().cpu().numpy(),'b=',b.detach().cpu().numpy(),'loss=',loss.detach().cpu().numpy())"
   ]
  },
  {
   "cell_type": "code",
   "execution_count": 110,
   "id": "08392443",
   "metadata": {},
   "outputs": [],
   "source": [
    "y_pred = torch.sigmoid(X_test.matmul(W)+ b).to(device)\n",
    "prediction = y_pred >= torch.FloatTensor([0.5]).to(device)"
   ]
  },
  {
   "cell_type": "code",
   "execution_count": 111,
   "id": "2613f1fc",
   "metadata": {},
   "outputs": [
    {
     "name": "stdout",
     "output_type": "stream",
     "text": [
      "Confusion Matrix : \n",
      " [[111  19]\n",
      " [ 23  39]]\n",
      "Precision :  0.6724\n",
      "Sensitivity :  0.629\n",
      "Specificity :  0.8538\n",
      "Accuracy :  0.7812\n"
     ]
    }
   ],
   "source": [
    "# import the metrics class\n",
    "from sklearn import metrics\n",
    "confusion_matrix = metrics.confusion_matrix(y_test.cpu().numpy(), prediction.cpu().numpy())\n",
    "TN=confusion_matrix[0][0]\n",
    "FP=confusion_matrix[0][1]\n",
    "FN=confusion_matrix[1][0]\n",
    "TP=confusion_matrix[1][1]\n",
    "precision= TP/(TP+FP)\n",
    "sensitivity=TP/(TP+FN)\n",
    "specificity=TN/(FP+TN)\n",
    "accuracy=(TP+TN)/(TP+TN+FP+FN)\n",
    "print (\"Confusion Matrix : \\n\", confusion_matrix)\n",
    "print (\"Precision : \", round(precision,4))\n",
    "print (\"Sensitivity : \", round(sensitivity,4))\n",
    "print (\"Specificity : \", round(specificity,4))\n",
    "print (\"Accuracy : \", round(accuracy,4))"
   ]
  },
  {
   "cell_type": "code",
   "execution_count": 112,
   "id": "c9f084af",
   "metadata": {},
   "outputs": [
    {
     "name": "stdout",
     "output_type": "stream",
     "text": [
      "Accuracy: 0.7812\n",
      "Precision: 0.6724\n",
      "Sensitivity: 0.629\n"
     ]
    }
   ],
   "source": [
    "y_test=y_test.detach().cpu().numpy()\n",
    "prediction=prediction.detach().cpu().numpy()\n",
    "\n",
    "Accuracy = metrics.accuracy_score(y_test, prediction)\n",
    "Precision = metrics.precision_score(y_test, prediction)\n",
    "Sensitivity = metrics.recall_score(y_test, prediction)\n",
    "print(\"Accuracy:\",round(Accuracy, 4))\n",
    "print(\"Precision:\", round(Precision, 4))\n",
    "print(\"Sensitivity:\", round(Sensitivity,4))"
   ]
  },
  {
   "cell_type": "code",
   "execution_count": 116,
   "id": "6e7bdeb0",
   "metadata": {},
   "outputs": [
    {
     "data": {
      "image/png": "[encoded data removed]",
      "text/plain": [
       "<Figure size 432x288 with 1 Axes>"
      ]
     },
     "metadata": {
      "needs_background": "light"
     },
     "output_type": "display_data"
    }
   ],
   "source": [
    "#y_pred_proba = logreg.predict_proba(X_test)[::,1]\n",
    "fpr, tpr, _ = metrics.roc_curve(y_test,  y_pred.detach().cpu().numpy())\n",
    "auc = metrics.roc_auc_score(y_test, y_pred_proba)\n",
    "auc=round(auc,4)\n",
    "plt.plot(fpr,tpr,label=\"AUC=\"+str(auc))\n",
    "plt.legend(loc=4)\n",
    "plt.title(\"ROC Curve\")\n",
    "plt.ylabel('True Positive Rate')\n",
    "plt.xlabel('False Positive Rate')\n",
    "plt.show()"
   ]
  },
  {
   "cell_type": "code",
   "execution_count": null,
   "id": "9fea9d0d",
   "metadata": {},
   "outputs": [],
   "source": []
  }
 ],
 "metadata": {
  "kernelspec": {
   "display_name": "Python 3 (ipykernel)",
   "language": "python",
   "name": "python3"
  },
  "language_info": {
   "codemirror_mode": {
    "name": "ipython",
    "version": 3
   },
   "file_extension": ".py",
   "mimetype": "text/x-python",
   "name": "python",
   "nbconvert_exporter": "python",
   "pygments_lexer": "ipython3",
   "version": "3.9.7"
  }
 },
 "nbformat": 4,
 "nbformat_minor": 5
}
