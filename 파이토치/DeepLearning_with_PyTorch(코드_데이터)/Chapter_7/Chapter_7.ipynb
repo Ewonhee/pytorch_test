{
 "cells": [
  {
   "cell_type": "markdown",
   "id": "47edfce9",
   "metadata": {},
   "source": [
    "[코드 7.2.1]"
   ]
  },
  {
   "cell_type": "code",
   "execution_count": null,
   "id": "5baa5dab",
   "metadata": {},
   "outputs": [],
   "source": [
    "import torch\n",
    "from torch import nn\n",
    "torch.manual_seed(1)\n",
    "\n",
    "linear_layer1 = nn.Linear(2, 3)\n",
    "relu = nn.ReLU()\n",
    "linear_layer2 = nn.Linear(3, 1)\n",
    "\n",
    "#x = torch.arange(1.0, 7.0, 1.0).view(3, 2)\n",
    "x = torch.tensor([[1.,2.],[3.,4.],[5.,6.]])\n",
    "#print(x)\n",
    "print('linear_layer1.weight :', linear_layer1.weight)\n",
    "print('linear_layer1.bias :', linear_layer1.bias)\n",
    "print()\n",
    "print('linear_layer2.weight :', linear_layer2.weight)\n",
    "print('linear_layer2.bias :', linear_layer2.bias)\n",
    "\n",
    "out = linear_layer1(x)\n",
    "out = relu(out)\n",
    "y_pred = linear_layer2(out)\n",
    "print()\n",
    "print(y_pred)"
   ]
  },
  {
   "cell_type": "markdown",
   "id": "3f124513",
   "metadata": {},
   "source": [
    "[코드 7.2.2]"
   ]
  },
  {
   "cell_type": "code",
   "execution_count": null,
   "id": "b7ea9872",
   "metadata": {},
   "outputs": [],
   "source": [
    "import torch\n",
    "from torch import nn\n",
    "torch.manual_seed(1)\n",
    "\n",
    "model = nn.Sequential(\n",
    "    nn.Linear(2, 3),\n",
    "    nn.ReLU(),\n",
    "    nn.Linear(3, 1)\n",
    "       )\n",
    "print(model)\n",
    "#x = torch.arange(1.0, 7.0, 1.0).view(3, 2)\n",
    "x = torch.tensor([[1.,2.],[3.,4.],[5.,6.]])\n",
    "#print(x)\n",
    "print('linear_layer1.weight :',model[0].weight)\n",
    "print('linear_layer1.bias :',model[0].bias)\n",
    "print()\n",
    "print('linear_layer2.weight :',model[2].weight)\n",
    "print('linear_layer2.bias :',model[2].bias)\n",
    "print()\n",
    "y_pred=model(x)\n",
    "print(y_pred)"
   ]
  },
  {
   "cell_type": "markdown",
   "id": "a57c7aba",
   "metadata": {},
   "source": [
    "[코드 7.2.3]"
   ]
  },
  {
   "cell_type": "code",
   "execution_count": null,
   "id": "f155ce0d",
   "metadata": {},
   "outputs": [],
   "source": [
    "class Person: \n",
    "    def show(self): \n",
    "         print('Person!') \n",
    "            \n",
    "class Student(Person): \n",
    "    def show(self): \n",
    "        print('Student!') \n",
    "        \n",
    "Kim = Student() \n",
    "Kim.show()       "
   ]
  },
  {
   "cell_type": "code",
   "execution_count": null,
   "id": "529335c2",
   "metadata": {},
   "outputs": [],
   "source": [
    "class Person: \n",
    "    def show(self): \n",
    "         print('Person!') \n",
    "            \n",
    "class Student(Person): \n",
    "    def show(self): \n",
    "        super(Student, self).show()       \n",
    "        print('Student!') \n",
    "        \n",
    "Kim = Student() \n",
    "Kim.show()       "
   ]
  },
  {
   "cell_type": "markdown",
   "id": "2e2784ef",
   "metadata": {},
   "source": [
    "[코드 7.2.4]"
   ]
  },
  {
   "cell_type": "code",
   "execution_count": null,
   "id": "5064eb80",
   "metadata": {},
   "outputs": [],
   "source": [
    "import torch\n",
    "from torch import nn\n",
    "torch.manual_seed(1)\n",
    "\n",
    "class MyModel(nn.Module):\n",
    "\n",
    "    def __init__(self):\n",
    "        super(MyModel, self).__init__()\n",
    "        self.fc1 = nn.Linear(2, 3)\n",
    "        self.relu   = nn.ReLU()\n",
    "        self.fc2 = nn.Linear(3, 1)\n",
    "        \n",
    "    def forward(self, x):\n",
    "        out = self.fc1(x)       \n",
    "        out = self.relu(out)\n",
    "        out = self.fc2(out)\n",
    "        return out    "
   ]
  },
  {
   "cell_type": "code",
   "execution_count": null,
   "id": "252f166c",
   "metadata": {},
   "outputs": [],
   "source": [
    "#x = torch.arange(1.0, 7.0, 1.0).view(3, 2)\n",
    "x = torch.tensor([[1.,2.],[3.,4.],[5.,6.]])\n",
    "#print(x)\n",
    "model = MyModel()\n",
    "print(model)\n",
    "print('linear_layer1.weight :',fc1.weight)\n",
    "print('linear_layer1.bias :',fc1.bias)\n",
    "print()\n",
    "print('linear_layer2.weight :',fc2.weight)\n",
    "print('linear_layer2.bias :',fc2.bias)\n",
    "print()\n",
    "y_pred=model(x)\n",
    "print(y_pred)"
   ]
  },
  {
   "cell_type": "markdown",
   "id": "94d79b6a",
   "metadata": {},
   "source": [
    "[drop 함수 사용 예]"
   ]
  },
  {
   "cell_type": "code",
   "execution_count": 3,
   "id": "d91b7939",
   "metadata": {},
   "outputs": [
    {
     "name": "stdout",
     "output_type": "stream",
     "text": [
      "   A  B   C   D\n",
      "0  0  1   2   3\n",
      "1  4  5   6   7\n",
      "2  8  9  10  11\n"
     ]
    }
   ],
   "source": [
    "import numpy as np\n",
    "df = pd.DataFrame(np.arange(12).reshape(3, 4),\n",
    "                  columns=['A', 'B', 'C', 'D'])\n",
    "print(df)"
   ]
  },
  {
   "cell_type": "code",
   "execution_count": 4,
   "id": "82ad7273",
   "metadata": {},
   "outputs": [
    {
     "name": "stdout",
     "output_type": "stream",
     "text": [
      "<class 'pandas.core.frame.DataFrame'>\n",
      "   A   D\n",
      "0  0   3\n",
      "1  4   7\n",
      "2  8  11\n"
     ]
    }
   ],
   "source": [
    "df1 = df.drop(labels=['B', 'C'], axis=1)\n",
    "print(type(df1))\n",
    "print(df1)"
   ]
  },
  {
   "cell_type": "code",
   "execution_count": 5,
   "id": "56616e9e",
   "metadata": {},
   "outputs": [
    {
     "name": "stdout",
     "output_type": "stream",
     "text": [
      "<class 'numpy.ndarray'>\n",
      "<class 'numpy.ndarray'>\n",
      "[[ 0  3]\n",
      " [ 4  7]\n",
      " [ 8 11]]\n",
      "[[ 1  2]\n",
      " [ 5  6]\n",
      " [ 9 10]]\n"
     ]
    }
   ],
   "source": [
    "X = df.drop(labels=['B', 'C'], axis=1).values\n",
    "y = df[['B', 'C']].values\n",
    "print(type(X))\n",
    "print(type(y))\n",
    "print(X)\n",
    "print(y)"
   ]
  },
  {
   "cell_type": "code",
   "execution_count": 7,
   "id": "0f382d46",
   "metadata": {},
   "outputs": [
    {
     "name": "stdout",
     "output_type": "stream",
     "text": [
      "<class 'numpy.ndarray'>\n",
      "<class 'numpy.ndarray'>\n",
      "[[ 0  3]\n",
      " [ 4  7]\n",
      " [ 8 11]]\n",
      "[[ 1  2]\n",
      " [ 5  6]\n",
      " [ 9 10]]\n"
     ]
    }
   ],
   "source": [
    "X = df.drop(labels=['B', 'C'], axis=1).to_numpy()\n",
    "y = df[['B', 'C']].to_numpy()\n",
    "print(type(X))\n",
    "print(type(y))\n",
    "print(X)\n",
    "print(y)"
   ]
  },
  {
   "cell_type": "markdown",
   "id": "cbad1f37",
   "metadata": {},
   "source": [
    "[코드 7.4.1]"
   ]
  },
  {
   "cell_type": "code",
   "execution_count": 5,
   "id": "b721225e",
   "metadata": {},
   "outputs": [
    {
     "name": "stdout",
     "output_type": "stream",
     "text": [
      "학습을 진행하는 기기: cuda\n",
      "<class 'pandas.core.frame.DataFrame'>\n",
      "RangeIndex: 506 entries, 0 to 505\n",
      "Data columns (total 14 columns):\n",
      " #   Column   Non-Null Count  Dtype  \n",
      "---  ------   --------------  -----  \n",
      " 0   crim     506 non-null    float64\n",
      " 1   zn       506 non-null    float64\n",
      " 2   indus    506 non-null    float64\n",
      " 3   chas     506 non-null    int64  \n",
      " 4   nox      506 non-null    float64\n",
      " 5   rm       506 non-null    float64\n",
      " 6   age      506 non-null    float64\n",
      " 7   dis      506 non-null    float64\n",
      " 8   rad      506 non-null    int64  \n",
      " 9   tax      506 non-null    int64  \n",
      " 10  ptratio  506 non-null    float64\n",
      " 11  b        506 non-null    float64\n",
      " 12  lstat    506 non-null    float64\n",
      " 13  medv     506 non-null    float64\n",
      "dtypes: float64(11), int64(3)\n",
      "memory usage: 55.5 KB\n",
      "None\n"
     ]
    }
   ],
   "source": [
    "import torch\n",
    "device = torch.device(\"cuda\" if torch.cuda.is_available() else \"cpu\")\n",
    "#device = torch.device(\"cpu\")\n",
    "print('학습을 진행하는 기기:',device)\n",
    "\n",
    "import pandas as pd\n",
    "boston = pd.read_csv(\"Boston_Housing.csv\")\n",
    "print(boston.info())"
   ]
  },
  {
   "cell_type": "code",
   "execution_count": 6,
   "id": "70d22648",
   "metadata": {},
   "outputs": [
    {
     "name": "stdout",
     "output_type": "stream",
     "text": [
      "      crim    zn  indus  chas    nox     rm   age     dis  rad  tax  ptratio  \\\n",
      "0  0.00632  18.0   2.31     0  0.538  6.575  65.2  4.0900    1  296     15.3   \n",
      "1  0.02731   0.0   7.07     0  0.469  6.421  78.9  4.9671    2  242     17.8   \n",
      "2  0.02729   0.0   7.07     0  0.469  7.185  61.1  4.9671    2  242     17.8   \n",
      "3  0.03237   0.0   2.18     0  0.458  6.998  45.8  6.0622    3  222     18.7   \n",
      "4  0.06905   0.0   2.18     0  0.458  7.147  54.2  6.0622    3  222     18.7   \n",
      "\n",
      "        b  lstat  medv  \n",
      "0  396.90   4.98  24.0  \n",
      "1  396.90   9.14  21.6  \n",
      "2  392.83   4.03  34.7  \n",
      "3  394.63   2.94  33.4  \n",
      "4  396.90   5.33  36.2  \n"
     ]
    }
   ],
   "source": [
    "print(boston.head())"
   ]
  },
  {
   "cell_type": "code",
   "execution_count": 10,
   "id": "b41a6f32",
   "metadata": {},
   "outputs": [
    {
     "data": {
      "text/plain": [
       "crim       0\n",
       "zn         0\n",
       "indus      0\n",
       "chas       0\n",
       "nox        0\n",
       "rm         0\n",
       "age        0\n",
       "dis        0\n",
       "rad        0\n",
       "tax        0\n",
       "ptratio    0\n",
       "b          0\n",
       "lstat      0\n",
       "medv       0\n",
       "dtype: int64"
      ]
     },
     "execution_count": 10,
     "metadata": {},
     "output_type": "execute_result"
    }
   ],
   "source": [
    "boston.isnull().sum()\n",
    "#boston.isnull()"
   ]
  },
  {
   "cell_type": "code",
   "execution_count": 8,
   "id": "ba808ab3",
   "metadata": {},
   "outputs": [
    {
     "name": "stdout",
     "output_type": "stream",
     "text": [
      "<class 'numpy.ndarray'>\n",
      "<class 'numpy.ndarray'>\n",
      "(506, 13) (506, 1)\n"
     ]
    }
   ],
   "source": [
    "# Convert from Pandas dataframe to numpy arrays\n",
    "X = boston.drop(labels=['medv'], axis=1).values\n",
    "y = boston[['medv']].values\n",
    "print(type(X))\n",
    "print(type(y))\n",
    "print(X.shape, y.shape)"
   ]
  },
  {
   "cell_type": "code",
   "execution_count": 9,
   "id": "3189a852",
   "metadata": {},
   "outputs": [],
   "source": [
    "from sklearn.preprocessing import StandardScaler\n",
    "scaler = StandardScaler()\n",
    "scaler.fit(X)\n",
    "X_scaled = scaler.transform(X)"
   ]
  },
  {
   "cell_type": "code",
   "execution_count": 10,
   "id": "bccc5de5",
   "metadata": {},
   "outputs": [
    {
     "name": "stdout",
     "output_type": "stream",
     "text": [
      "(354, 13)\n",
      "(152, 13)\n",
      "(354, 1)\n",
      "(152, 1)\n"
     ]
    }
   ],
   "source": [
    "from sklearn.model_selection import train_test_split\n",
    "\n",
    "X_train, X_test, y_train, y_test = train_test_split(X_scaled, y, test_size=0.3, random_state=1)\n",
    "print(X_train.shape)\n",
    "print(X_test.shape)\n",
    "print(y_train.shape)\n",
    "print(y_test.shape)"
   ]
  },
  {
   "cell_type": "code",
   "execution_count": 11,
   "id": "94c7cebe",
   "metadata": {},
   "outputs": [],
   "source": [
    "import torch\n",
    "import torch.nn as nn\n",
    "import torch.nn.functional as F\n",
    "from torch import nn, optim  "
   ]
  },
  {
   "cell_type": "code",
   "execution_count": 12,
   "id": "ff1ddf40",
   "metadata": {},
   "outputs": [
    {
     "name": "stdout",
     "output_type": "stream",
     "text": [
      "torch.Size([354, 13])\n",
      "torch.Size([152, 13])\n",
      "torch.Size([354, 1])\n",
      "torch.Size([152, 1])\n"
     ]
    }
   ],
   "source": [
    "n_train = X_train.shape[0]\n",
    "X_train = torch.tensor(X_train, device=device, dtype=torch.float)\n",
    "X_test = torch.tensor(X_test, device=device, dtype=torch.float)\n",
    "y_train = torch.tensor(y_train, device=device,  dtype=torch.float)\n",
    "y_test = torch.tensor(y_test, device=device,  dtype=torch.float)\n",
    "#y_train = torch.tensor(y_train, dtype=torch.float).view(-1, 1)\n",
    "#y_test = torch.tensor(y_test, dtype=torch.float).view(-1, 1)\n",
    "print(X_train.shape)\n",
    "print(X_test.shape)\n",
    "print(y_train.shape)\n",
    "print(y_test.shape)"
   ]
  },
  {
   "cell_type": "code",
   "execution_count": 13,
   "id": "3cb0bcef",
   "metadata": {},
   "outputs": [],
   "source": [
    "class BostonDataset(torch.utils.data.Dataset):\n",
    "    '''\n",
    "    Prepare the Boston dataset for regression\n",
    "    '''\n",
    "\n",
    "    def __init__(self, X, y):      \n",
    "        self.X = X\n",
    "        self.y = y\n",
    "\n",
    "    def __len__(self):\n",
    "        return len(self.X)\n",
    "\n",
    "    def __getitem__(self, index):\n",
    "        x = self.X[index]\n",
    "        y = self.y[index] \n",
    "        return x, y"
   ]
  },
  {
   "cell_type": "code",
   "execution_count": 14,
   "id": "7b4a70c4",
   "metadata": {},
   "outputs": [
    {
     "name": "stdout",
     "output_type": "stream",
     "text": [
      "354\n",
      "(tensor([-0.3472, -0.4877, -0.4373, -0.2726, -0.1442, -0.4782, -0.2409,  0.4338,\n",
      "        -0.6380, -0.6013,  1.1765,  0.4411, -0.6158], device='cuda:0'), tensor([20.4000], device='cuda:0'))\n"
     ]
    }
   ],
   "source": [
    "dataset = BostonDataset(X_train, y_train)\n",
    "print(len(dataset))  \n",
    "print(dataset[0])     "
   ]
  },
  {
   "cell_type": "code",
   "execution_count": 16,
   "id": "8d3c9f91",
   "metadata": {},
   "outputs": [],
   "source": [
    "torch.manual_seed(0)\n",
    "trainloader = torch.utils.data.DataLoader(dataset, batch_size=16, shuffle=True)"
   ]
  },
  {
   "cell_type": "code",
   "execution_count": 17,
   "id": "d521a13f",
   "metadata": {},
   "outputs": [],
   "source": [
    "class BostonModel(nn.Module):\n",
    "    def __init__(self):\n",
    "        super(BostonModel, self).__init__() # 모델 연산 정의\n",
    "        self.fc1 = nn.Linear(X_train.shape[1], 32) \n",
    "        self.fc2 = nn.Linear(32, 16) \n",
    "        self.fc3 = nn.Linear(16, 8) \n",
    "        self.fc4 = nn.Linear(8, 1)\n",
    "      \n",
    "    def forward(self, x): # 모델 연산의 순서를 정의\n",
    "        x = F.relu(self.fc1(x)) # Linear 계산 후 활성화 함수 ReLU를 적용한다.  \n",
    "        x = F.relu(self.fc2(x)) \n",
    "        x = F.relu(self.fc3(x))\n",
    "        x = self.fc4(x)       \n",
    "        return x\n",
    "\n",
    "model = BostonModel().to(device)  "
   ]
  },
  {
   "cell_type": "code",
   "execution_count": 18,
   "id": "99f9b3c1",
   "metadata": {},
   "outputs": [],
   "source": [
    "# Define the loss function and optimizer\n",
    "learning_rate = 0.0001\n",
    "loss_function = nn.MSELoss()\n",
    "optimizer = torch.optim.Adam(model.parameters(), lr=learning_rate)"
   ]
  },
  {
   "cell_type": "code",
   "execution_count": 19,
   "id": "1ba8e999",
   "metadata": {},
   "outputs": [
    {
     "name": "stdout",
     "output_type": "stream",
     "text": [
      "Epoch 1/1000 loss : 13536.157\n",
      "Epoch 100/1000 loss : 1405.348\n",
      "Epoch 200/1000 loss : 561.298\n",
      "Epoch 300/1000 loss : 424.953\n",
      "Epoch 400/1000 loss : 354.203\n",
      "Epoch 500/1000 loss : 302.831\n",
      "Epoch 600/1000 loss : 265.337\n",
      "Epoch 700/1000 loss : 243.909\n",
      "Epoch 800/1000 loss : 230.717\n",
      "Epoch 900/1000 loss : 221.995\n",
      "Epoch 1000/1000 loss : 204.556\n"
     ]
    }
   ],
   "source": [
    "num_epochs = 1000\n",
    "epoch_losses=[]\n",
    "for epoch in range(num_epochs):  # loop over the dataset multiple times\n",
    "    running_loss = 0.0\n",
    "    for inputs, labels in trainloader:\n",
    "        # forward pass\n",
    "        outputs = model(inputs)\n",
    "        # loss\n",
    "        loss = loss_function(outputs, labels)\n",
    "        #backward pass        \n",
    "        loss.backward()\n",
    "        # 파라미터 업데이트        \n",
    "        # updated weights based on computed gradients\n",
    "        optimizer.step()            \n",
    "        # 다음 iters의 loss.backward()에서 gradient 새로 계산하므로 grad 0으로 초기화        \n",
    "        optimizer.zero_grad()         \n",
    "        \n",
    "        # accumulating running loss\n",
    "        running_loss += loss.item()\n",
    "    \n",
    "    epoch_losses.append(running_loss)        \n",
    "    if (epoch==0):    \n",
    "        print('Epoch %d/%d loss : %.3f' % (epoch + 1, num_epochs, running_loss))\n",
    "    if (epoch+1) % 100 == 0:    \n",
    "        print('Epoch %d/%d loss : %.3f' % (epoch + 1, num_epochs, running_loss))"
   ]
  },
  {
   "cell_type": "code",
   "execution_count": 20,
   "id": "b0d37c19",
   "metadata": {},
   "outputs": [
    {
     "data": {
      "image/png": "[encoded data removed]",
      "text/plain": [
       "<Figure size 432x288 with 1 Axes>"
      ]
     },
     "metadata": {
      "needs_background": "light"
     },
     "output_type": "display_data"
    }
   ],
   "source": [
    "#plot the loss function\n",
    "import matplotlib.pylab as plt\n",
    "plt.plot(range(num_epochs),epoch_losses)\n",
    "plt.xlabel('Epochs')\n",
    "plt.ylabel('Losses')\n",
    "plt.show()"
   ]
  },
  {
   "cell_type": "code",
   "execution_count": 15,
   "id": "17813bf0",
   "metadata": {},
   "outputs": [
    {
     "name": "stdout",
     "output_type": "stream",
     "text": [
      "y_test_pred.requires_grad = True\n",
      "y_test.requires_grad = False\n",
      "MSE: 8.0028\n",
      "R2: 0.8977\n"
     ]
    }
   ],
   "source": [
    "from sklearn.metrics import mean_squared_error\n",
    "from sklearn.metrics import r2_score\n",
    "\n",
    "y_test_pred = model(X_test)\n",
    "print('y_test_pred.requires_grad =', y_test_pred.requires_grad )\n",
    "print('y_test.requires_grad =', y_test.requires_grad)\n",
    "mse = mean_squared_error(y_test_pred.detach().cpu().numpy(), y_test.detach().cpu().numpy())\n",
    "print('MSE: {:.4f}'.format(mse))\n",
    "R2 = r2_score(y_test_pred.detach().cpu().numpy(), y_test.detach().cpu().numpy())\n",
    "print('R2: {:.4f}'.format(R2))"
   ]
  },
  {
   "cell_type": "code",
   "execution_count": 17,
   "id": "3a2ffedb",
   "metadata": {},
   "outputs": [
    {
     "name": "stdout",
     "output_type": "stream",
     "text": [
      "y_test_pred.requires_grad = True\n",
      "y_test.requires_grad = False\n",
      "MSE: 8.0028\n",
      "R2: 0.8977\n"
     ]
    }
   ],
   "source": [
    "from sklearn.metrics import mean_squared_error\n",
    "from sklearn.metrics import r2_score\n",
    "\n",
    "y_test_pred = model(X_test)\n",
    "print('y_test_pred.requires_grad =', y_test_pred.requires_grad )\n",
    "print('y_test.requires_grad =', y_test.requires_grad)\n",
    "mse = mean_squared_error(y_test_pred.detach().cpu().numpy(), y_test.cpu().numpy())\n",
    "print('MSE: {:.4f}'.format(mse))\n",
    "R2 = r2_score(y_test_pred.detach().cpu().numpy(), y_test.cpu().numpy())\n",
    "print('R2: {:.4f}'.format(R2))"
   ]
  },
  {
   "cell_type": "code",
   "execution_count": null,
   "id": "2010acee",
   "metadata": {},
   "outputs": [],
   "source": [
    "y_train_pred = model(X_train)\n",
    "y_test_pred = model(X_test)\n",
    "y_train_pred = y_train_pred.detach().cpu().numpy()\n",
    "y_test_pred = y_test_pred.detach().cpu().numpy()"
   ]
  },
  {
   "cell_type": "code",
   "execution_count": null,
   "id": "686417be",
   "metadata": {},
   "outputs": [],
   "source": [
    "import matplotlib.pylab as plt\n",
    "\n",
    "plt.figure(figsize=(5, 5), dpi=100)\n",
    "plt.xlabel(\"medv\")\n",
    "plt.ylabel(\"Predicted medv\")\n",
    "plt.xlim(0, 60)\n",
    "plt.ylim(0, 60)\n",
    "plt.scatter(y_train.detach().cpu().numpy(), y_train_pred, lw=1, color=\"r\", label=\"train data\")\n",
    "plt.scatter(y_test.detach().cpu().numpy(), y_test_pred, lw=1, color=\"b\", label=\"test data\")\n",
    "plt.plot([0, 60], [0, 60], color=\"green\", lw=2, linestyle='solid')\n",
    "plt.legend()\n",
    "plt.show()"
   ]
  },
  {
   "cell_type": "markdown",
   "id": "fee96c68",
   "metadata": {},
   "source": [
    "[코드 7.4.2]"
   ]
  },
  {
   "cell_type": "code",
   "execution_count": 122,
   "id": "91f44188",
   "metadata": {},
   "outputs": [
    {
     "name": "stdout",
     "output_type": "stream",
     "text": [
      "학습을 진행하는 기기: cuda\n",
      "<class 'pandas.core.frame.DataFrame'>\n",
      "RangeIndex: 768 entries, 0 to 767\n",
      "Data columns (total 9 columns):\n",
      " #   Column                    Non-Null Count  Dtype  \n",
      "---  ------                    --------------  -----  \n",
      " 0   Pregnancies               768 non-null    int64  \n",
      " 1   Glucose                   768 non-null    int64  \n",
      " 2   BloodPressure             768 non-null    int64  \n",
      " 3   SkinThickness             768 non-null    int64  \n",
      " 4   Insulin                   768 non-null    int64  \n",
      " 5   BMI                       768 non-null    float64\n",
      " 6   DiabetesPedigreeFunction  768 non-null    float64\n",
      " 7   Age                       768 non-null    int64  \n",
      " 8   Outcome                   768 non-null    int64  \n",
      "dtypes: float64(2), int64(7)\n",
      "memory usage: 54.1 KB\n",
      "None\n"
     ]
    }
   ],
   "source": [
    "import torch\n",
    "device = torch.device(\"cuda\" if torch.cuda.is_available() else \"cpu\")\n",
    "#device = torch.device(\"cpu\")\n",
    "print('학습을 진행하는 기기:',device)\n",
    "\n",
    "import pandas as pd\n",
    "diabetes = pd.read_csv('pima-indians-diabetes.csv')\n",
    "print(diabetes.info())"
   ]
  },
  {
   "cell_type": "code",
   "execution_count": 123,
   "id": "4b8a2f51",
   "metadata": {},
   "outputs": [
    {
     "name": "stdout",
     "output_type": "stream",
     "text": [
      "   Pregnancies  Glucose  BloodPressure  SkinThickness  Insulin   BMI  \\\n",
      "0            6      148             72             35        0  33.6   \n",
      "1            1       85             66             29        0  26.6   \n",
      "2            8      183             64              0        0  23.3   \n",
      "3            1       89             66             23       94  28.1   \n",
      "4            0      137             40             35      168  43.1   \n",
      "\n",
      "   DiabetesPedigreeFunction  Age  Outcome  \n",
      "0                     0.627   50        1  \n",
      "1                     0.351   31        0  \n",
      "2                     0.672   32        1  \n",
      "3                     0.167   21        0  \n",
      "4                     2.288   33        1  \n"
     ]
    }
   ],
   "source": [
    "print(diabetes.head())"
   ]
  },
  {
   "cell_type": "code",
   "execution_count": 124,
   "id": "961f29dc",
   "metadata": {},
   "outputs": [
    {
     "data": {
      "text/plain": [
       "Pregnancies                 0\n",
       "Glucose                     0\n",
       "BloodPressure               0\n",
       "SkinThickness               0\n",
       "Insulin                     0\n",
       "BMI                         0\n",
       "DiabetesPedigreeFunction    0\n",
       "Age                         0\n",
       "Outcome                     0\n",
       "dtype: int64"
      ]
     },
     "execution_count": 124,
     "metadata": {},
     "output_type": "execute_result"
    }
   ],
   "source": [
    "diabetes.isnull().sum()"
   ]
  },
  {
   "cell_type": "code",
   "execution_count": 178,
   "id": "c47b3ea5",
   "metadata": {},
   "outputs": [
    {
     "name": "stdout",
     "output_type": "stream",
     "text": [
      "<class 'numpy.ndarray'>\n",
      "<class 'numpy.ndarray'>\n",
      "(768, 8) (768, 1)\n"
     ]
    }
   ],
   "source": [
    "# Convert from Pandas dataframe to numpy arrays\n",
    "X = diabetes.drop(labels=['Outcome'], axis=1).values\n",
    "y = diabetes[['Outcome']].values\n",
    "print(type(X))\n",
    "print(type(y))\n",
    "print(X.shape, y.shape)"
   ]
  },
  {
   "cell_type": "code",
   "execution_count": 179,
   "id": "59ab0824",
   "metadata": {},
   "outputs": [
    {
     "name": "stdout",
     "output_type": "stream",
     "text": [
      "(614, 8)\n",
      "(154, 8)\n",
      "(614, 1)\n",
      "(154, 1)\n"
     ]
    }
   ],
   "source": [
    "from sklearn.model_selection import train_test_split\n",
    "\n",
    "X_train,X_test,y_train,y_test = train_test_split(X,y , test_size =0.2,random_state=0)\n",
    "print(X_train.shape)\n",
    "print(X_test.shape)\n",
    "print(y_train.shape)\n",
    "print(y_test.shape)"
   ]
  },
  {
   "cell_type": "code",
   "execution_count": 180,
   "id": "ce7740c6",
   "metadata": {},
   "outputs": [],
   "source": [
    "import torch\n",
    "import torch.nn as nn\n",
    "import torch.nn.functional as F\n",
    "from torch import nn, optim  "
   ]
  },
  {
   "cell_type": "code",
   "execution_count": 181,
   "id": "acda2e64",
   "metadata": {},
   "outputs": [
    {
     "name": "stdout",
     "output_type": "stream",
     "text": [
      "torch.Size([614, 8])\n",
      "torch.Size([154, 8])\n",
      "torch.Size([614, 1])\n",
      "torch.Size([154, 1])\n"
     ]
    }
   ],
   "source": [
    "# Creating Tensors\n",
    "X_train=torch.FloatTensor(X_train).to(device)\n",
    "X_test=torch.FloatTensor(X_test).to(device)\n",
    "y_train=torch.LongTensor(y_train).to(device)\n",
    "y_test=torch.LongTensor(y_test).to(device)\n",
    "#print(X_train.device)\n",
    "print(X_train.shape)\n",
    "print(X_test.shape)\n",
    "print(y_train.shape)\n",
    "print(y_test.shape)"
   ]
  },
  {
   "cell_type": "code",
   "execution_count": 182,
   "id": "0a4c72ea",
   "metadata": {},
   "outputs": [],
   "source": [
    "dataset = torch.utils.data.TensorDataset(X_train, y_train)"
   ]
  },
  {
   "cell_type": "code",
   "execution_count": 183,
   "id": "f70e4461",
   "metadata": {},
   "outputs": [],
   "source": [
    "torch.manual_seed(0)\n",
    "trainloader = torch.utils.data.DataLoader(dataset, batch_size=16, shuffle=True)"
   ]
  },
  {
   "cell_type": "code",
   "execution_count": 184,
   "id": "828e22b2",
   "metadata": {},
   "outputs": [
    {
     "name": "stdout",
     "output_type": "stream",
     "text": [
      "<bound method Module.parameters of Diabetes_model(\n",
      "  (fc1): Linear(in_features=8, out_features=20, bias=True)\n",
      "  (fc2): Linear(in_features=20, out_features=10, bias=True)\n",
      "  (fc3): Linear(in_features=10, out_features=2, bias=True)\n",
      ")>\n"
     ]
    }
   ],
   "source": [
    "#Creating the Model\n",
    "class Diabetes_model(nn.Module):\n",
    "    def __init__(self):\n",
    "        super().__init__()\n",
    "        self.fc1 = nn.Linear(X_train.shape[1],20)\n",
    "        self.fc2 = nn.Linear(20,10)\n",
    "        self.fc3 = nn.Linear(10,2)\n",
    "        \n",
    "    def forward(self,x):\n",
    "        x = F.relu(self.fc1(x))\n",
    "        x = F.relu(self.fc2(x))\n",
    "        x = self.fc3(x)\n",
    "        return x\n",
    "    \n",
    "model = Diabetes_model().to(device) \n",
    "print(model.parameters)"
   ]
  },
  {
   "cell_type": "code",
   "execution_count": 185,
   "id": "dc047c44",
   "metadata": {},
   "outputs": [],
   "source": [
    "# Define the loss function and optimizer\n",
    "learning_rate = 0.0001\n",
    "loss_function = nn.CrossEntropyLoss()\n",
    "optimizer = torch.optim.Adam(model.parameters(),lr=learning_rate)"
   ]
  },
  {
   "cell_type": "code",
   "execution_count": 186,
   "id": "4a08257b",
   "metadata": {},
   "outputs": [
    {
     "name": "stdout",
     "output_type": "stream",
     "text": [
      "Epoch 1/2000 loss : 102.391\n",
      "Epoch 200/2000 loss : 21.899\n",
      "Epoch 400/2000 loss : 20.683\n",
      "Epoch 600/2000 loss : 19.959\n",
      "Epoch 800/2000 loss : 19.470\n",
      "Epoch 1000/2000 loss : 18.803\n",
      "Epoch 1200/2000 loss : 18.704\n",
      "Epoch 1400/2000 loss : 18.108\n",
      "Epoch 1600/2000 loss : 17.780\n",
      "Epoch 1800/2000 loss : 17.499\n",
      "Epoch 2000/2000 loss : 17.156\n"
     ]
    }
   ],
   "source": [
    "num_epochs = 2000\n",
    "epoch_loss=[]\n",
    "for epoch in range(num_epochs):  # loop over the dataset multiple times\n",
    "    running_loss = 0.0\n",
    "    for inputs, labels in trainloader:\n",
    "#        print(inputs.shape, labels.shape)  \n",
    "        # forward pass\n",
    "        y_pred = model(inputs)        \n",
    "        # loss\n",
    "        loss = loss_function(y_pred, labels.view(-1))        \n",
    "        #backward pass        \n",
    "        # computing gradients\n",
    "        loss.backward()\n",
    "        # 파라미터 업데이트        \n",
    "        # updated weights based on computed gradients\n",
    "        optimizer.step()            \n",
    "        # 다음 iters의 loss.backward()에서 gradient 새로 계산하므로 grad 0으로 초기화        \n",
    "        optimizer.zero_grad()         \n",
    "        \n",
    "        # accumulating running loss\n",
    "        running_loss += loss.item()\n",
    "   \n",
    "    epoch_loss.append( running_loss)    \n",
    "        \n",
    "    if (epoch==0):    \n",
    "        print('Epoch %d/%d loss : %.3f' % (epoch + 1, num_epochs, running_loss))\n",
    "    if (epoch+1) % 200 == 0:    \n",
    "        print('Epoch %d/%d loss : %.3f' % (epoch + 1, num_epochs, running_loss))"
   ]
  },
  {
   "cell_type": "code",
   "execution_count": 187,
   "id": "e16f2480",
   "metadata": {},
   "outputs": [
    {
     "data": {
      "image/png": "[encoded data removed]",
      "text/plain": [
       "<Figure size 432x288 with 1 Axes>"
      ]
     },
     "metadata": {
      "needs_background": "light"
     },
     "output_type": "display_data"
    }
   ],
   "source": [
    "#plot the loss function\n",
    "import matplotlib.pylab as plt\n",
    "plt.plot(range(num_epochs),epoch_loss)\n",
    "plt.xlabel('Epochs')\n",
    "plt.ylabel('Losses')\n",
    "plt.show()"
   ]
  },
  {
   "cell_type": "code",
   "execution_count": 195,
   "id": "b21854a1",
   "metadata": {},
   "outputs": [
    {
     "name": "stdout",
     "output_type": "stream",
     "text": [
      "1\n",
      "0\n",
      "0\n",
      "1\n",
      "0\n",
      "0\n",
      "1\n",
      "1\n",
      "0\n",
      "1\n",
      "1\n"
     ]
    }
   ],
   "source": [
    "predictions = []\n",
    "for i,data in enumerate(X_test):\n",
    "    y_pred = model(data)\n",
    "    predictions.append(y_pred.argmax().item())  \n",
    "    if (i <=10): \n",
    "        print(y_pred.argmax().item())"
   ]
  },
  {
   "cell_type": "code",
   "execution_count": 190,
   "id": "a7f8caf4",
   "metadata": {},
   "outputs": [
    {
     "name": "stdout",
     "output_type": "stream",
     "text": [
      "Confusion Matrix : \n",
      " [[88 19]\n",
      " [17 30]]\n",
      "Precision :  0.6122\n",
      "Sensitivity :  0.6383\n",
      "Specificity :  0.8224\n",
      "Accuracy :  0.7662\n"
     ]
    }
   ],
   "source": [
    "from sklearn.metrics import confusion_matrix\n",
    "# confusion matrix\n",
    "confusion_matrix = confusion_matrix(y_test.cpu().numpy(), predictions)\n",
    "TN=confusion_matrix[0][0]\n",
    "FP=confusion_matrix[0][1]\n",
    "FN=confusion_matrix[1][0]\n",
    "TP=confusion_matrix[1][1]\n",
    "precision= TP/(TP+FP)\n",
    "sensitivity=TP/(TP+FN)\n",
    "specificity=TN/(FP+TN)\n",
    "accuracy=(TP+TN)/(TP+TN+FP+FN)\n",
    "print (\"Confusion Matrix : \\n\", confusion_matrix)\n",
    "print (\"Precision : \", round(precision,4))\n",
    "print (\"Sensitivity : \", round(sensitivity,4))\n",
    "print (\"Specificity : \", round(specificity,4))\n",
    "print (\"Accuracy : \", round(accuracy,4))"
   ]
  },
  {
   "cell_type": "code",
   "execution_count": 191,
   "id": "fc9d5a95",
   "metadata": {},
   "outputs": [
    {
     "data": {
      "image/png": "[encoded data removed]",
      "text/plain": [
       "<Figure size 432x288 with 1 Axes>"
      ]
     },
     "metadata": {
      "needs_background": "light"
     },
     "output_type": "display_data"
    }
   ],
   "source": [
    "import matplotlib.pyplot as plt\n",
    "from sklearn.metrics import roc_curve, roc_auc_score\n",
    "\n",
    "fpr, tpr, _ = roc_curve(y_test.cpu().numpy(),  predictions)\n",
    "auc = roc_auc_score(y_test.cpu().numpy(), predictions)\n",
    "auc=round(auc,4)\n",
    "plt.plot(fpr,tpr,label=\"AUC =\"+str(auc))\n",
    "plt.legend(loc=4)\n",
    "plt.title(\"ROC Curve\")\n",
    "plt.ylabel('True Positive Rate')\n",
    "plt.xlabel('False Positive Rate')\n",
    "plt.show()"
   ]
  },
  {
   "cell_type": "code",
   "execution_count": null,
   "id": "a6b78a43",
   "metadata": {},
   "outputs": [],
   "source": []
  }
 ],
 "metadata": {
  "kernelspec": {
   "display_name": "Python 3 (ipykernel)",
   "language": "python",
   "name": "python3"
  },
  "language_info": {
   "codemirror_mode": {
    "name": "ipython",
    "version": 3
   },
   "file_extension": ".py",
   "mimetype": "text/x-python",
   "name": "python",
   "nbconvert_exporter": "python",
   "pygments_lexer": "ipython3",
   "version": "3.9.7"
  }
 },
 "nbformat": 4,
 "nbformat_minor": 5
}
