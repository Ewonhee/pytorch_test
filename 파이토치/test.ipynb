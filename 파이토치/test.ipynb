{
 "cells": [
  {
   "cell_type": "code",
   "execution_count": 1,
   "metadata": {},
   "outputs": [
    {
     "name": "stdout",
     "output_type": "stream",
     "text": [
      "99 tensor(2087.7729)\n",
      "199 tensor(1387.6254)\n",
      "299 tensor(923.4606)\n",
      "399 tensor(615.6820)\n",
      "499 tensor(411.5620)\n",
      "599 tensor(276.1622)\n",
      "699 tensor(186.3280)\n",
      "799 tensor(126.7120)\n",
      "899 tensor(87.1401)\n",
      "999 tensor(60.8665)\n",
      "1099 tensor(43.4174)\n",
      "1199 tensor(31.8259)\n",
      "1299 tensor(24.1231)\n",
      "1399 tensor(19.0030)\n",
      "1499 tensor(15.5984)\n",
      "1599 tensor(13.3337)\n",
      "1699 tensor(11.8267)\n",
      "1799 tensor(10.8234)\n",
      "1899 tensor(10.1553)\n",
      "1999 tensor(9.7101)\n",
      "2099 tensor(9.4134)\n",
      "2199 tensor(9.2155)\n",
      "2299 tensor(9.0834)\n",
      "2399 tensor(8.9953)\n",
      "2499 tensor(8.9364)\n",
      "2599 tensor(8.8970)\n",
      "2699 tensor(8.8707)\n",
      "2799 tensor(8.8531)\n",
      "2899 tensor(8.8413)\n",
      "2999 tensor(8.8334)\n",
      "Result: y=0.0020919134840369225+0.8533328771591187x)+-0.00036089104833081365x^2+[d]x^3\n"
     ]
    }
   ],
   "source": [
    "import torch\n",
    "import math\n",
    "dtype = torch.float\n",
    "device= torch.device(\"cpu\")\n",
    "\n",
    "x = torch.linspace(-math.pi, math.pi, 2000, device=device, dtype=dtype)\n",
    "y= torch.sin(x)\n",
    "a= torch.randn((), device=device, dtype=dtype)\n",
    "b= torch.randn((), device=device, dtype=dtype)\n",
    "c= torch.randn((), device=device, dtype=dtype)\n",
    "d= torch.randn((), device=device, dtype=dtype)\n",
    "learning_rate=1e-6\n",
    "for t in range(3000):\n",
    "    y_pred=a+b*x+c*x**2+d*x**3\n",
    "    loss=torch.square(y_pred-y).sum()\n",
    "    if t % 100==99:\n",
    "        print(t,loss)\n",
    "    \n",
    "    grad_y_pred=2.0*(y_pred - y)\n",
    "    grad_a = grad_y_pred.sum()\n",
    "    grad_b = (grad_y_pred * x).sum()\n",
    "    grad_c = (grad_y_pred * x **2).sum()\n",
    "    grad_d = (grad_y_pred * x **3).sum()\n",
    "    \n",
    "    a -= learning_rate *grad_a\n",
    "    b -= learning_rate *grad_b\n",
    "    c -= learning_rate *grad_c\n",
    "    d -= learning_rate *grad_d\n",
    "\n",
    "print(f'Result: y={a}+{b}x)+{c}x^2+[d]x^3')\n"
   ]
  },
  {
   "cell_type": "code",
   "execution_count": 4,
   "metadata": {},
   "outputs": [
    {
     "data": {
      "image/png": "[encoded data removed]",
      "text/plain": [
       "<Figure size 432x288 with 1 Axes>"
      ]
     },
     "metadata": {
      "needs_background": "light"
     },
     "output_type": "display_data"
    }
   ],
   "source": [
    "import numpy as np\n",
    "import math\n",
    "from matplotlib import pyplot as plt\n",
    "x=np.arange(-10,10,0.01)\n",
    "plt.xlabel(\"x value\")\n",
    "plt.ylabel(\"f(x)value\")\n",
    "\n",
    "plt.axis([0, 10, 0, 25])\n",
    "\n",
    "plt.plot(x,(x-5)**2)\n",
    "plt.show()"
   ]
  },
  {
   "cell_type": "code",
   "execution_count": 2,
   "metadata": {},
   "outputs": [
    {
     "name": "stdout",
     "output_type": "stream",
     "text": [
      "predic(before training) 4 tensor(4.)\n",
      "\tgrad: 1.0 2.0 tensor(-1.)\n",
      "\tgrad: 2.0 4.0 tensor(-3.9600)\n",
      "\tgrad: 3.0 6.0 tensor(-8.5536)\n",
      "progress: 0 tensor(8.1293)\n",
      "\tgrad: 1.0 2.0 tensor(-0.8649)\n",
      "\tgrad: 2.0 4.0 tensor(-3.4249)\n",
      "\tgrad: 3.0 6.0 tensor(-7.3977)\n",
      "progress: 1 tensor(6.0807)\n",
      "\tgrad: 1.0 2.0 tensor(-0.7480)\n",
      "\tgrad: 2.0 4.0 tensor(-2.9620)\n",
      "\tgrad: 3.0 6.0 tensor(-6.3980)\n",
      "progress: 2 tensor(4.5483)\n",
      "\tgrad: 1.0 2.0 tensor(-0.6469)\n",
      "\tgrad: 2.0 4.0 tensor(-2.5618)\n",
      "\tgrad: 3.0 6.0 tensor(-5.5334)\n",
      "progress: 3 tensor(3.4021)\n",
      "\tgrad: 1.0 2.0 tensor(-0.5595)\n",
      "\tgrad: 2.0 4.0 tensor(-2.2156)\n",
      "\tgrad: 3.0 6.0 tensor(-4.7856)\n",
      "progress: 4 tensor(2.5447)\n",
      "\tgrad: 1.0 2.0 tensor(-0.4839)\n",
      "\tgrad: 2.0 4.0 tensor(-1.9162)\n",
      "\tgrad: 3.0 6.0 tensor(-4.1389)\n",
      "progress: 5 tensor(1.9034)\n",
      "\tgrad: 1.0 2.0 tensor(-0.4185)\n",
      "\tgrad: 2.0 4.0 tensor(-1.6572)\n",
      "\tgrad: 3.0 6.0 tensor(-3.5796)\n",
      "progress: 6 tensor(1.4237)\n",
      "\tgrad: 1.0 2.0 tensor(-0.3619)\n",
      "\tgrad: 2.0 4.0 tensor(-1.4333)\n",
      "\tgrad: 3.0 6.0 tensor(-3.0959)\n",
      "progress: 7 tensor(1.0649)\n",
      "\tgrad: 1.0 2.0 tensor(-0.3130)\n",
      "\tgrad: 2.0 4.0 tensor(-1.2396)\n",
      "\tgrad: 3.0 6.0 tensor(-2.6775)\n",
      "progress: 8 tensor(0.7966)\n",
      "\tgrad: 1.0 2.0 tensor(-0.2707)\n",
      "\tgrad: 2.0 4.0 tensor(-1.0721)\n",
      "\tgrad: 3.0 6.0 tensor(-2.3157)\n",
      "progress: 9 tensor(0.5958)\n"
     ]
    }
   ],
   "source": [
    "import torch\n",
    "from torch.autograd import Variable\n",
    "x_data = [1.0, 2.0, 3.0]\n",
    "y_data = [2.0, 4.0, 6.0]\n",
    "w= Variable(torch.Tensor([1,0]), requires_grad=True)\n",
    "\n",
    "def forward(x):\n",
    "    return w*x\n",
    "\n",
    "def loss(x,y):\n",
    "    y_pred =forward(x)\n",
    "    return (y_pred -y)*(y_pred -y)\n",
    "\n",
    "print('predic(before training)', 4, forward(4).data[0])\n",
    "\n",
    "for epoch in range(10):\n",
    "    for x_val, y_val in zip(x_data, y_data):\n",
    "        l = loss(x_val, y_val)\n",
    "        l.mean().backward()\n",
    "        print(\"\\tgrad:\",x_val, y_val, w.grad.data[0])\n",
    "        w.data = w.data - 0.01 * w.grad.data\n",
    "        \n",
    "        w.grad.data.zero_()\n",
    "        \n",
    "    print(\"progress:\", epoch, l.data[0])"
   ]
  },
  {
   "cell_type": "code",
   "execution_count": 3,
   "metadata": {},
   "outputs": [
    {
     "name": "stdout",
     "output_type": "stream",
     "text": [
      "predict (before training) 4 tensor(4.)\n",
      "\tgrad :  1.0 2.0 tensor(-2.)\n",
      "\tgrad :  2.0 4.0 tensor(-7.8400)\n",
      "\tgrad :  3.0 6.0 tensor(-16.2288)\n",
      "progress :  0 tensor(7.3159)\n",
      "\tgrad :  1.0 2.0 tensor(-1.4786)\n",
      "\tgrad :  2.0 4.0 tensor(-5.7962)\n",
      "\tgrad :  3.0 6.0 tensor(-11.9981)\n",
      "progress :  1 tensor(3.9988)\n",
      "\tgrad :  1.0 2.0 tensor(-1.0932)\n",
      "\tgrad :  2.0 4.0 tensor(-4.2852)\n",
      "\tgrad :  3.0 6.0 tensor(-8.8704)\n",
      "progress :  2 tensor(2.1857)\n",
      "\tgrad :  1.0 2.0 tensor(-0.8082)\n",
      "\tgrad :  2.0 4.0 tensor(-3.1681)\n",
      "\tgrad :  3.0 6.0 tensor(-6.5580)\n",
      "progress :  3 tensor(1.1946)\n",
      "\tgrad :  1.0 2.0 tensor(-0.5975)\n",
      "\tgrad :  2.0 4.0 tensor(-2.3422)\n",
      "\tgrad :  3.0 6.0 tensor(-4.8484)\n",
      "progress :  4 tensor(0.6530)\n",
      "\tgrad :  1.0 2.0 tensor(-0.4417)\n",
      "\tgrad :  2.0 4.0 tensor(-1.7316)\n",
      "\tgrad :  3.0 6.0 tensor(-3.5845)\n",
      "progress :  5 tensor(0.3569)\n",
      "\tgrad :  1.0 2.0 tensor(-0.3266)\n",
      "\tgrad :  2.0 4.0 tensor(-1.2802)\n",
      "\tgrad :  3.0 6.0 tensor(-2.6500)\n",
      "progress :  6 tensor(0.1951)\n",
      "\tgrad :  1.0 2.0 tensor(-0.2414)\n",
      "\tgrad :  2.0 4.0 tensor(-0.9465)\n",
      "\tgrad :  3.0 6.0 tensor(-1.9592)\n",
      "progress :  7 tensor(0.1066)\n",
      "\tgrad :  1.0 2.0 tensor(-0.1785)\n",
      "\tgrad :  2.0 4.0 tensor(-0.6997)\n",
      "\tgrad :  3.0 6.0 tensor(-1.4485)\n",
      "progress :  8 tensor(0.0583)\n",
      "\tgrad :  1.0 2.0 tensor(-0.1320)\n",
      "\tgrad :  2.0 4.0 tensor(-0.5173)\n",
      "\tgrad :  3.0 6.0 tensor(-1.0709)\n",
      "progress :  9 tensor(0.0319)\n",
      "predict (after training) 4 tensor(7.8049)\n"
     ]
    }
   ],
   "source": [
    "import torch\n",
    "from torch.autograd import Variable\n",
    "\n",
    "x_data = [1.0, 2.0, 3.0]\n",
    "y_data = [2.0, 4.0, 6.0]\n",
    "w = Variable(torch.Tensor([1.0]), requires_grad = True) # Any Random Value\n",
    "\n",
    "# our model forward pass\n",
    "def forward(x) :\n",
    "    return w * x\n",
    "\n",
    "# Loss function\n",
    "def loss(x, y) :\n",
    "    y_pred = forward(x)\n",
    "    return (y_pred - y) * (y_pred - y)\n",
    "\n",
    "# Before Training\n",
    "print('predict (before training)', 4, forward(4).data[0])\n",
    "\n",
    "\n",
    "# Training : forward, backward, and update weight\n",
    "\n",
    "# Training Loop\n",
    "for epoch in range(10) :\n",
    "    for x_val, y_val in zip(x_data, y_data) :\n",
    "        l = loss(x_val, y_val)\n",
    "        l.backward()\n",
    "        print(\"\\tgrad : \", x_val, y_val, w.grad.data[0])\n",
    "        w.data = w.data - 0.01 * w.grad.data\n",
    "        \n",
    "        # Manually zero the gradients after updating weights\n",
    "        w.grad.data.zero_()\n",
    "    \n",
    "    print(\"progress : \", epoch, l.data[0])\n",
    "    \n",
    "# After Training\n",
    "print(\"predict (after training)\", 4, forward(4).data[0])"
   ]
  },
  {
   "cell_type": "code",
   "execution_count": 3,
   "metadata": {},
   "outputs": [
    {
     "name": "stdout",
     "output_type": "stream",
     "text": [
      "torch.Size([2, 2, 3])\n",
      "tensor([[[ 0.,  1.,  2.],\n",
      "         [ 3.,  4.,  5.]],\n",
      "\n",
      "        [[ 6.,  7.,  8.],\n",
      "         [ 9., 10., 11.]]])\n"
     ]
    }
   ],
   "source": [
    "import numpy as np\n",
    "import torch\n",
    "t= np.array([[[0,1,2],\n",
    "              [3,4,5]],\n",
    "              [[6,7,8],\n",
    "              [9,10,11]]])\n",
    "ft=torch.FloatTensor(t)\n",
    "print(ft.shape)\n",
    "print(ft)\n",
    "# 3차원 = 각 층이 있다."
   ]
  },
  {
   "cell_type": "code",
   "execution_count": 4,
   "metadata": {},
   "outputs": [
    {
     "name": "stdout",
     "output_type": "stream",
     "text": [
      "[[[ 0  1  2]\n",
      "  [ 3  4  5]]\n",
      "\n",
      " [[ 6  7  8]\n",
      "  [ 9 10 11]]]\n"
     ]
    }
   ],
   "source": [
    "print(t)"
   ]
  },
  {
   "cell_type": "code",
   "execution_count": 6,
   "metadata": {},
   "outputs": [
    {
     "name": "stdout",
     "output_type": "stream",
     "text": [
      "tensor([[ 0.,  1.,  2.],\n",
      "        [ 3.,  4.,  5.],\n",
      "        [ 6.,  7.,  8.],\n",
      "        [ 9., 10., 11.]])\n",
      "torch.Size([4, 3])\n"
     ]
    }
   ],
   "source": [
    "print(ft.view([-1,3]))\n",
    "print(ft.view([-1,3]).shape)\n"
   ]
  },
  {
   "cell_type": "code",
   "execution_count": 11,
   "metadata": {},
   "outputs": [
    {
     "name": "stdout",
     "output_type": "stream",
     "text": [
      "tensor([[0.],\n",
      "        [1.],\n",
      "        [2.]])\n",
      "torch.Size([3, 1])\n",
      "tensor([0., 1., 2.])\n",
      "torch.Size([3])\n"
     ]
    }
   ],
   "source": [
    "ft=torch.FloatTensor([[0],[1],[2]])\n",
    "print(ft)\n",
    "print(ft.shape)\n",
    "print(ft.squeeze())\n",
    "print(ft.squeeze().shape)\n"
   ]
  },
  {
   "cell_type": "code",
   "execution_count": 25,
   "metadata": {},
   "outputs": [
    {
     "name": "stdout",
     "output_type": "stream",
     "text": [
      "torch.Size([3])\n",
      "tensor([[0, 1, 2]])\n",
      "tensor([[0],\n",
      "        [1],\n",
      "        [2]])\n",
      "tensor([[0],\n",
      "        [1],\n",
      "        [2]])\n"
     ]
    }
   ],
   "source": [
    "ft=torch.tensor([0,1,2])\n",
    "print(ft.shape)\n",
    "print(ft.unsqueeze(0))\n",
    "print(ft.unsqueeze(1))\n",
    "print(ft.unsqueeze(-1))"
   ]
  },
  {
   "cell_type": "code",
   "execution_count": 26,
   "metadata": {},
   "outputs": [
    {
     "name": "stdout",
     "output_type": "stream",
     "text": [
      "tensor([[ -3.1416,   9.8696, -31.0063],\n",
      "        [ -3.1384,   9.8499, -30.9133],\n",
      "        [ -3.1353,   9.8301, -30.8205],\n",
      "        ...,\n",
      "        [  3.1353,   9.8301,  30.8205],\n",
      "        [  3.1384,   9.8499,  30.9133],\n",
      "        [  3.1416,   9.8696,  31.0063]])\n"
     ]
    }
   ],
   "source": [
    "import torch\n",
    "import math\n",
    "x=torch.linspace(-math.pi, math.pi, 2000)\n",
    "y= torch.sin(x)\n",
    "p=torch.tensor([1,2,3])\n",
    "xx=x.unsqueeze(-1).pow(p)\n",
    "print(xx)"
   ]
  },
  {
   "cell_type": "code",
   "execution_count": 27,
   "metadata": {},
   "outputs": [],
   "source": [
    "model=torch.nn.Sequential(\n",
    "  torch.nn.Linear(3,1),\n",
    "  torch.nn.Flatten(0,1)\n",
    ")"
   ]
  },
  {
   "cell_type": "code",
   "execution_count": 32,
   "metadata": {},
   "outputs": [
    {
     "name": "stderr",
     "output_type": "stream",
     "text": [
      "c:\\Users\\lwh97\\anaconda3\\lib\\site-packages\\torch\\nn\\_reduction.py:42: UserWarning: size_average and reduce args will be deprecated, please use reduction='mean' instead.\n",
      "  warnings.warn(warning.format(ret))\n"
     ]
    }
   ],
   "source": [
    "# 뭘까..\n",
    "import numpy as np\n",
    "import math\n",
    "\n",
    "loss_fn =torch.nn.MSELoss(reduce='sum')\n",
    "learning_rate=1e-6\n",
    "for t in range(1):\n",
    "  y_pred=model(xx)\n",
    "  loss=loss_fn(y_pred,y)\n",
    "  if t %100 ==99:\n",
    "    print(t,loss.item())"
   ]
  },
  {
   "cell_type": "code",
   "execution_count": 33,
   "metadata": {},
   "outputs": [],
   "source": [
    "model.zero_grad()"
   ]
  },
  {
   "cell_type": "code",
   "execution_count": 37,
   "metadata": {},
   "outputs": [
    {
     "name": "stdout",
     "output_type": "stream",
     "text": [
      "99 20263.716796875\n",
      "199 8061.9716796875\n",
      "299 2653.84765625\n",
      "399 665.18408203125\n",
      "499 206.87062072753906\n",
      "599 146.3748016357422\n",
      "699 123.58111572265625\n",
      "799 100.9120101928711\n",
      "899 76.0443344116211\n",
      "999 51.113243103027344\n",
      "1099 30.54082679748535\n",
      "1199 17.197309494018555\n",
      "1299 10.879783630371094\n",
      "1399 9.051859855651855\n",
      "1499 8.824041366577148\n",
      "1599 8.817851066589355\n",
      "1699 8.819120407104492\n",
      "1799 8.939785957336426\n",
      "1899 8.859026908874512\n",
      "1999 8.861298561096191\n",
      "Result: y = -2.6775487640406936e-05 + 0.8563920855522156 x + -2.6775698643177748e-05 x^2 + -0.09368261694908142 x^3\n"
     ]
    }
   ],
   "source": [
    "# -*- coding: utf-8 -*-\n",
    "import torch\n",
    "import math\n",
    "\n",
    "# 입력값과 출력값을 갖는 텐서들을 생성합니다.\n",
    "x = torch.linspace(-math.pi, math.pi, 2000)\n",
    "y = torch.sin(x)\n",
    "\n",
    "# 입력 텐서 (x, x^2, x^3)를 준비합니다.\n",
    "p = torch.tensor([1, 2, 3])\n",
    "xx = x.unsqueeze(-1).pow(p)\n",
    "\n",
    "# nn 패키지를 사용하여 모델과 손실 함수를 정의합니다.\n",
    "model = torch.nn.Sequential(\n",
    "    torch.nn.Linear(3, 1),\n",
    "    torch.nn.Flatten(0, 1)\n",
    ")\n",
    "loss_fn = torch.nn.MSELoss(reduction='sum')\n",
    "\n",
    "# optim 패키지를 사용하여 모델의 가중치를 갱신할 optimizer를 정의합니다.\n",
    "# 여기서는 RMSprop을 사용하겠습니다; optim 패키지는 다른 다양한 최적화 알고리즘을 포함하고 있습니다.\n",
    "# RMSprop 생성자의 첫번째 인자는 어떤 텐서가 갱신되어야 하는지를 알려줍니다.\n",
    "learning_rate = 1e-3\n",
    "optimizer = torch.optim.RMSprop(model.parameters(), lr=learning_rate)\n",
    "for t in range(2000):\n",
    "    # 순전파 단계: 모델에 x를 전달하여 예측값 y를 계산합니다.\n",
    "    y_pred = model(xx)\n",
    "\n",
    "    # 손실을 계산하고 출력합니다.\n",
    "    loss = loss_fn(y_pred, y)\n",
    "    if t % 100 == 99:\n",
    "        print(t, loss.item())\n",
    "\n",
    "    # 역전파 단계 전에, optimizer 객체를 사용하여 (모델의 학습 가능한 가중치인) 갱신할\n",
    "    # 변수들에 대한 모든 변화도(gradient)를 0으로 만듭니다. 이렇게 하는 이유는 기본적으로 \n",
    "    # .backward()를 호출할 때마다 변화도가 버퍼(buffer)에 (덮어쓰지 않고) 누적되기\n",
    "    # 때문입니다. 더 자세한 내용은 torch.autograd.backward에 대한 문서를 참조하세요.\n",
    "    optimizer.zero_grad()\n",
    "\n",
    "    # 역전파 단계: 모델의 매개변수들에 대한 손실의 변화도를 계산합니다.\n",
    "    loss.backward()\n",
    "\n",
    "    # optimizer의 step 함수를 호출하면 매개변수가 갱신됩니다.\n",
    "    optimizer.step()\n",
    "\n",
    "\n",
    "linear_layer = model[0]\n",
    "print(f'Result: y = {linear_layer.bias.item()} + {linear_layer.weight[:, 0].item()} x + {linear_layer.weight[:, 1].item()} x^2 + {linear_layer.weight[:, 2].item()} x^3')"
   ]
  },
  {
   "cell_type": "markdown",
   "metadata": {},
   "source": [
    "https://tutorials.pytorch.kr/beginner/pytorch_with_examples.html"
   ]
  },
  {
   "cell_type": "code",
   "execution_count": 36,
   "metadata": {},
   "outputs": [
    {
     "name": "stdout",
     "output_type": "stream",
     "text": [
      "99 1207.18359375\n",
      "199 812.55712890625\n",
      "299 548.3020629882812\n",
      "399 371.2210388183594\n",
      "499 252.46875\n",
      "599 172.7709503173828\n",
      "699 119.24080657958984\n",
      "799 83.25648498535156\n",
      "899 59.04628372192383\n",
      "999 42.743133544921875\n",
      "1099 31.754554748535156\n",
      "1199 24.341054916381836\n",
      "1299 19.334667205810547\n",
      "1399 15.950374603271484\n",
      "1499 13.660367965698242\n",
      "1599 12.10914134979248\n",
      "1699 11.057259559631348\n",
      "1799 10.34320068359375\n",
      "1899 9.857949256896973\n",
      "1999 9.52780532836914\n",
      "Result: y = -0.019572772085666656 + 0.8380749225616455 x + 0.0033766289707273245 x^2 + -0.09067532420158386 x^3\n"
     ]
    }
   ],
   "source": [
    "# -*- coding: utf-8 -*-\n",
    "import torch\n",
    "import math\n",
    "\n",
    "\n",
    "class Polynomial3(torch.nn.Module):\n",
    "    def __init__(self):\n",
    "        \"\"\"\n",
    "        생성자에서 4개의 매개변수를 생성(instantiate)하고, 멤버 변수로 지정합니다.\n",
    "        \"\"\"\n",
    "        super().__init__()\n",
    "        self.a = torch.nn.Parameter(torch.randn(()))\n",
    "        self.b = torch.nn.Parameter(torch.randn(()))\n",
    "        self.c = torch.nn.Parameter(torch.randn(()))\n",
    "        self.d = torch.nn.Parameter(torch.randn(()))\n",
    "\n",
    "    def forward(self, x):\n",
    "        \"\"\"\n",
    "        순전파 함수에서는 입력 데이터의 텐서를 받고 출력 데이터의 텐서를 반환해야 합니다.\n",
    "        텐서들 간의 임의의 연산뿐만 아니라, 생성자에서 정의한 Module을 사용할 수 있습니다.\n",
    "        \"\"\"\n",
    "        return self.a + self.b * x + self.c * x ** 2 + self.d * x ** 3\n",
    "\n",
    "    def string(self):\n",
    "        \"\"\"\n",
    "        Python의 다른 클래스(class)처럼, PyTorch 모듈을 사용해서 사용자 정의 메소드를 정의할 수 있습니다.\n",
    "        \"\"\"\n",
    "        return f'y = {self.a.item()} + {self.b.item()} x + {self.c.item()} x^2 + {self.d.item()} x^3'\n",
    "\n",
    "\n",
    "# 입력값과 출력값을 갖는 텐서들을 생성합니다.\n",
    "x = torch.linspace(-math.pi, math.pi, 2000)\n",
    "y = torch.sin(x)\n",
    "\n",
    "# 위에서 정의한 클래스로 모델을 생성합니다.\n",
    "model = Polynomial3()\n",
    "\n",
    "# 손실 함수와 optimizer를 생성합니다. SGD 생성자에 model.paramaters()를 호출해주면\n",
    "# 모델의 멤버 학습 가능한 (torch.nn.Parameter로 정의된) 매개변수들이 포함됩니다.\n",
    "criterion = torch.nn.MSELoss(reduction='sum')\n",
    "optimizer = torch.optim.SGD(model.parameters(), lr=1e-6)\n",
    "for t in range(2000):\n",
    "    # 순전파 단계: 모델에 x를 전달하여 예측값 y를 계산합니다.\n",
    "    y_pred = model(x)\n",
    "\n",
    "    # 손실을 계산하고 출력합니다.\n",
    "    loss = criterion(y_pred, y)\n",
    "    if t % 100 == 99:\n",
    "        print(t, loss.item())\n",
    "\n",
    "    # 변화도를 0으로 만들고, 역전파 단계를 수행하고, 가중치를 갱신합니다.\n",
    "    optimizer.zero_grad()\n",
    "    loss.backward()\n",
    "    optimizer.step()\n",
    "\n",
    "print(f'Result: {model.string()}')"
   ]
  }
 ],
 "metadata": {
  "kernelspec": {
   "display_name": "Python 3.9.12 ('base')",
   "language": "python",
   "name": "python3"
  },
  "language_info": {
   "codemirror_mode": {
    "name": "ipython",
    "version": 3
   },
   "file_extension": ".py",
   "mimetype": "text/x-python",
   "name": "python",
   "nbconvert_exporter": "python",
   "pygments_lexer": "ipython3",
   "version": "3.9.12"
  },
  "orig_nbformat": 4,
  "vscode": {
   "interpreter": {
    "hash": "8e7e9642bb2133bb3e9049961efa42b00dd232b34cd2782d376eb5751d417706"
   }
  }
 },
 "nbformat": 4,
 "nbformat_minor": 2
}
