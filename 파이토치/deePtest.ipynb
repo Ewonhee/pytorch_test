{
 "cells": [
  {
   "cell_type": "code",
   "execution_count": 5,
   "metadata": {},
   "outputs": [
    {
     "name": "stdout",
     "output_type": "stream",
     "text": [
      "tensor(3.1415)\n",
      "Dimension of tensor: 0\n",
      "shape of tensor: torch.Size([])\n"
     ]
    }
   ],
   "source": [
    "import torch\n",
    "\n",
    "pi=3.1415\n",
    "pi_tnesor = torch.tensor(pi)\n",
    "print(pi_tnesor)\n",
    "print(\"Dimension of tensor:\", pi_tnesor.dim())\n",
    "print(\"shape of tensor:\", pi_tnesor.shape)"
   ]
  },
  {
   "cell_type": "code",
   "execution_count": 6,
   "metadata": {},
   "outputs": [
    {
     "name": "stdout",
     "output_type": "stream",
     "text": [
      "[[1, 2, 3], [4, 5, 6]]\n",
      "tensor([[1, 2, 3],\n",
      "        [4, 5, 6]])\n",
      "Diemnsion of tensor: 2\n",
      "Shape of tensor: torch.Size([])\n"
     ]
    }
   ],
   "source": [
    "x_list=[[1,2,3],[4,5,6]]\n",
    "print(x_list)\n",
    "x_tensor=torch.tensor(x_list)\n",
    "print(x_tensor)\n",
    "print(\"Diemnsion of tensor:\", x_tensor.dim())\n",
    "print(\"Shape of tensor:\", pi_tnesor.shape)"
   ]
  },
  {
   "cell_type": "code",
   "execution_count": 1,
   "metadata": {},
   "outputs": [
    {
     "name": "stdout",
     "output_type": "stream",
     "text": [
      "[[1, 2], [3, 4]]\n",
      "tensor([[1, 2],\n",
      "        [3, 4]])\n",
      "Dimension of Tensor:2\n",
      "Shape of Tensor:torch.Size([2, 2])\n",
      "Datatype of Tesor:torch.LongTensor\n",
      "Datatype of Tesor:torch.int64\n"
     ]
    }
   ],
   "source": [
    "import numpy as np\n",
    "import torch\n",
    "\n",
    "#x_list=[1,2,3,4,5]\n",
    "x_list=[[1,2],[3,4]]\n",
    "print(x_list)\n",
    "x_tensor=torch.tensor(x_list)\n",
    "print(x_tensor)\n",
    "print(f\"Dimension of Tensor:{x_tensor.dim()}\")\n",
    "print(f\"Shape of Tensor:{x_tensor.shape}\")\n",
    "print(f\"Datatype of Tesor:{x_tensor.type()}\")\n",
    "print(f\"Datatype of Tesor:{x_tensor.dtype}\")\n"
   ]
  },
  {
   "cell_type": "code",
   "execution_count": null,
   "metadata": {},
   "outputs": [],
   "source": []
  }
 ],
 "metadata": {
  "kernelspec": {
   "display_name": "Python 3.9.12 ('base')",
   "language": "python",
   "name": "python3"
  },
  "language_info": {
   "codemirror_mode": {
    "name": "ipython",
    "version": 3
   },
   "file_extension": ".py",
   "mimetype": "text/x-python",
   "name": "python",
   "nbconvert_exporter": "python",
   "pygments_lexer": "ipython3",
   "version": "3.9.12"
  },
  "orig_nbformat": 4,
  "vscode": {
   "interpreter": {
    "hash": "8e7e9642bb2133bb3e9049961efa42b00dd232b34cd2782d376eb5751d417706"
   }
  }
 },
 "nbformat": 4,
 "nbformat_minor": 2
}
